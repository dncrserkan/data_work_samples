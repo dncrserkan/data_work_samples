{
 "cells": [
  {
   "cell_type": "code",
   "execution_count": 1,
   "id": "e6123caf",
   "metadata": {},
   "outputs": [],
   "source": [
    "import pandas as pd"
   ]
  },
  {
   "cell_type": "code",
   "execution_count": 2,
   "id": "6c13457e",
   "metadata": {},
   "outputs": [
    {
     "data": {
      "text/html": [
       "<div>\n",
       "<style scoped>\n",
       "    .dataframe tbody tr th:only-of-type {\n",
       "        vertical-align: middle;\n",
       "    }\n",
       "\n",
       "    .dataframe tbody tr th {\n",
       "        vertical-align: top;\n",
       "    }\n",
       "\n",
       "    .dataframe thead th {\n",
       "        text-align: right;\n",
       "    }\n",
       "</style>\n",
       "<table border=\"1\" class=\"dataframe\">\n",
       "  <thead>\n",
       "    <tr style=\"text-align: right;\">\n",
       "      <th></th>\n",
       "      <th>Tarih</th>\n",
       "      <th>Ömerli</th>\n",
       "      <th>Darlık</th>\n",
       "      <th>Elmalı</th>\n",
       "      <th>Terkos</th>\n",
       "      <th>Alibey</th>\n",
       "      <th>Büyükçekmece</th>\n",
       "      <th>Sazlıdere</th>\n",
       "      <th>Kazandere</th>\n",
       "      <th>Pabuçdere</th>\n",
       "      <th>Istrancalar</th>\n",
       "    </tr>\n",
       "  </thead>\n",
       "  <tbody>\n",
       "    <tr>\n",
       "      <th>0</th>\n",
       "      <td>object</td>\n",
       "      <td>float64</td>\n",
       "      <td>float64</td>\n",
       "      <td>float64</td>\n",
       "      <td>float64</td>\n",
       "      <td>float64</td>\n",
       "      <td>float64</td>\n",
       "      <td>float64</td>\n",
       "      <td>float64</td>\n",
       "      <td>float64</td>\n",
       "      <td>float64</td>\n",
       "    </tr>\n",
       "  </tbody>\n",
       "</table>\n",
       "</div>"
      ],
      "text/plain": [
       "    Tarih   Ömerli   Darlık   Elmalı   Terkos   Alibey Büyükçekmece Sazlıdere  \\\n",
       "0  object  float64  float64  float64  float64  float64      float64   float64   \n",
       "\n",
       "  Kazandere Pabuçdere Istrancalar  \n",
       "0   float64   float64     float64  "
      ]
     },
     "execution_count": 2,
     "metadata": {},
     "output_type": "execute_result"
    }
   ],
   "source": [
    "df = pd.read_excel('data/istanbul-dams-daily-occupancy-rates.xlsx')\n",
    "pd.DataFrame(df.dtypes).T"
   ]
  },
  {
   "cell_type": "markdown",
   "id": "97bcee53",
   "metadata": {},
   "source": [
    "#### We know from First_Look\n",
    "        Lines 8195 through 8324 seem to have the same problem"
   ]
  },
  {
   "cell_type": "markdown",
   "id": "70dd9a86",
   "metadata": {},
   "source": [
    "#### Seperate data in two data frame"
   ]
  },
  {
   "cell_type": "code",
   "execution_count": 3,
   "id": "be08f202",
   "metadata": {},
   "outputs": [],
   "source": [
    "list1 = list(range(8195)) + list(range(8325, 8409))\n",
    "list2 = list(range(8195, 8325))\n",
    "df1 = df.iloc[list1].copy()\n",
    "df2 = df.iloc[list2].copy()"
   ]
  },
  {
   "cell_type": "markdown",
   "id": "990144ea",
   "metadata": {},
   "source": [
    "**&emsp;&emsp;Check for any missing or duplicated rows**"
   ]
  },
  {
   "cell_type": "code",
   "execution_count": 4,
   "id": "07db0c7a",
   "metadata": {},
   "outputs": [
    {
     "data": {
      "text/plain": [
       "True"
      ]
     },
     "execution_count": 4,
     "metadata": {},
     "output_type": "execute_result"
    }
   ],
   "source": [
    "df.shape[0] == df1.shape[0] + df2.shape[0]"
   ]
  },
  {
   "cell_type": "markdown",
   "id": "95fe0bc9",
   "metadata": {},
   "source": [
    "<p style=\"background-image: linear-gradient(to right, #0D9276, #41b675)\"> &nbsp </p>"
   ]
  },
  {
   "cell_type": "markdown",
   "id": "e6c1c905",
   "metadata": {},
   "source": [
    "#### WORKING ON FIRST DATA FRAME"
   ]
  },
  {
   "cell_type": "code",
   "execution_count": 5,
   "id": "d63e9fc5",
   "metadata": {},
   "outputs": [
    {
     "data": {
      "text/html": [
       "<div>\n",
       "<style scoped>\n",
       "    .dataframe tbody tr th:only-of-type {\n",
       "        vertical-align: middle;\n",
       "    }\n",
       "\n",
       "    .dataframe tbody tr th {\n",
       "        vertical-align: top;\n",
       "    }\n",
       "\n",
       "    .dataframe thead th {\n",
       "        text-align: right;\n",
       "    }\n",
       "</style>\n",
       "<table border=\"1\" class=\"dataframe\">\n",
       "  <thead>\n",
       "    <tr style=\"text-align: right;\">\n",
       "      <th></th>\n",
       "      <th>Tarih</th>\n",
       "      <th>Ömerli</th>\n",
       "      <th>Darlık</th>\n",
       "      <th>Elmalı</th>\n",
       "      <th>Terkos</th>\n",
       "      <th>Alibey</th>\n",
       "      <th>Büyükçekmece</th>\n",
       "      <th>Sazlıdere</th>\n",
       "      <th>Kazandere</th>\n",
       "      <th>Pabuçdere</th>\n",
       "      <th>Istrancalar</th>\n",
       "    </tr>\n",
       "  </thead>\n",
       "  <tbody>\n",
       "    <tr>\n",
       "      <th>0</th>\n",
       "      <td>2000-10-23 00:00:00</td>\n",
       "      <td>0.652551</td>\n",
       "      <td>0.750151</td>\n",
       "      <td>0.789792</td>\n",
       "      <td>0.708568</td>\n",
       "      <td>0.0</td>\n",
       "      <td>0.521442</td>\n",
       "      <td>0.505489</td>\n",
       "      <td>0.057499</td>\n",
       "      <td>0.068553</td>\n",
       "      <td>0.110953</td>\n",
       "    </tr>\n",
       "    <tr>\n",
       "      <th>1</th>\n",
       "      <td>2000-10-24 00:00:00</td>\n",
       "      <td>0.659731</td>\n",
       "      <td>0.773031</td>\n",
       "      <td>0.817187</td>\n",
       "      <td>0.710344</td>\n",
       "      <td>0.0</td>\n",
       "      <td>0.521442</td>\n",
       "      <td>0.506952</td>\n",
       "      <td>0.057499</td>\n",
       "      <td>0.069092</td>\n",
       "      <td>0.077226</td>\n",
       "    </tr>\n",
       "    <tr>\n",
       "      <th>2</th>\n",
       "      <td>2000-10-25 00:00:00</td>\n",
       "      <td>0.663327</td>\n",
       "      <td>0.787929</td>\n",
       "      <td>0.826667</td>\n",
       "      <td>0.708568</td>\n",
       "      <td>0.0</td>\n",
       "      <td>0.519666</td>\n",
       "      <td>0.506952</td>\n",
       "      <td>0.057499</td>\n",
       "      <td>0.069361</td>\n",
       "      <td>0.105593</td>\n",
       "    </tr>\n",
       "  </tbody>\n",
       "</table>\n",
       "</div>"
      ],
      "text/plain": [
       "                 Tarih    Ömerli    Darlık    Elmalı    Terkos  Alibey  \\\n",
       "0  2000-10-23 00:00:00  0.652551  0.750151  0.789792  0.708568     0.0   \n",
       "1  2000-10-24 00:00:00  0.659731  0.773031  0.817187  0.710344     0.0   \n",
       "2  2000-10-25 00:00:00  0.663327  0.787929  0.826667  0.708568     0.0   \n",
       "\n",
       "   Büyükçekmece  Sazlıdere  Kazandere  Pabuçdere  Istrancalar  \n",
       "0      0.521442   0.505489   0.057499   0.068553     0.110953  \n",
       "1      0.521442   0.506952   0.057499   0.069092     0.077226  \n",
       "2      0.519666   0.506952   0.057499   0.069361     0.105593  "
      ]
     },
     "execution_count": 5,
     "metadata": {},
     "output_type": "execute_result"
    }
   ],
   "source": [
    "df1.head(3)"
   ]
  },
  {
   "cell_type": "markdown",
   "id": "0ba93f0b",
   "metadata": {},
   "source": [
    "<p style=\"background-image: linear-gradient(#0D9276, #FFFFFF 10%)\"> &nbsp </p>"
   ]
  },
  {
   "cell_type": "markdown",
   "id": "b88d0287",
   "metadata": {},
   "source": [
    "**&emsp;&emsp;Set date ('Tarih') columd as date type**"
   ]
  },
  {
   "cell_type": "code",
   "execution_count": 6,
   "id": "1617a617",
   "metadata": {},
   "outputs": [
    {
     "data": {
      "text/html": [
       "<div>\n",
       "<style scoped>\n",
       "    .dataframe tbody tr th:only-of-type {\n",
       "        vertical-align: middle;\n",
       "    }\n",
       "\n",
       "    .dataframe tbody tr th {\n",
       "        vertical-align: top;\n",
       "    }\n",
       "\n",
       "    .dataframe thead th {\n",
       "        text-align: right;\n",
       "    }\n",
       "</style>\n",
       "<table border=\"1\" class=\"dataframe\">\n",
       "  <thead>\n",
       "    <tr style=\"text-align: right;\">\n",
       "      <th></th>\n",
       "      <th>Tarih</th>\n",
       "      <th>Ömerli</th>\n",
       "      <th>Darlık</th>\n",
       "      <th>Elmalı</th>\n",
       "      <th>Terkos</th>\n",
       "      <th>Alibey</th>\n",
       "      <th>Büyükçekmece</th>\n",
       "      <th>Sazlıdere</th>\n",
       "      <th>Kazandere</th>\n",
       "      <th>Pabuçdere</th>\n",
       "      <th>Istrancalar</th>\n",
       "    </tr>\n",
       "  </thead>\n",
       "  <tbody>\n",
       "    <tr>\n",
       "      <th>0</th>\n",
       "      <td>2000-10-23</td>\n",
       "      <td>0.652551</td>\n",
       "      <td>0.750151</td>\n",
       "      <td>0.789792</td>\n",
       "      <td>0.708568</td>\n",
       "      <td>0.0</td>\n",
       "      <td>0.521442</td>\n",
       "      <td>0.505489</td>\n",
       "      <td>0.057499</td>\n",
       "      <td>0.068553</td>\n",
       "      <td>0.110953</td>\n",
       "    </tr>\n",
       "    <tr>\n",
       "      <th>1</th>\n",
       "      <td>2000-10-24</td>\n",
       "      <td>0.659731</td>\n",
       "      <td>0.773031</td>\n",
       "      <td>0.817187</td>\n",
       "      <td>0.710344</td>\n",
       "      <td>0.0</td>\n",
       "      <td>0.521442</td>\n",
       "      <td>0.506952</td>\n",
       "      <td>0.057499</td>\n",
       "      <td>0.069092</td>\n",
       "      <td>0.077226</td>\n",
       "    </tr>\n",
       "    <tr>\n",
       "      <th>2</th>\n",
       "      <td>2000-10-25</td>\n",
       "      <td>0.663327</td>\n",
       "      <td>0.787929</td>\n",
       "      <td>0.826667</td>\n",
       "      <td>0.708568</td>\n",
       "      <td>0.0</td>\n",
       "      <td>0.519666</td>\n",
       "      <td>0.506952</td>\n",
       "      <td>0.057499</td>\n",
       "      <td>0.069361</td>\n",
       "      <td>0.105593</td>\n",
       "    </tr>\n",
       "  </tbody>\n",
       "</table>\n",
       "</div>"
      ],
      "text/plain": [
       "       Tarih    Ömerli    Darlık    Elmalı    Terkos  Alibey  Büyükçekmece  \\\n",
       "0 2000-10-23  0.652551  0.750151  0.789792  0.708568     0.0      0.521442   \n",
       "1 2000-10-24  0.659731  0.773031  0.817187  0.710344     0.0      0.521442   \n",
       "2 2000-10-25  0.663327  0.787929  0.826667  0.708568     0.0      0.519666   \n",
       "\n",
       "   Sazlıdere  Kazandere  Pabuçdere  Istrancalar  \n",
       "0   0.505489   0.057499   0.068553     0.110953  \n",
       "1   0.506952   0.057499   0.069092     0.077226  \n",
       "2   0.506952   0.057499   0.069361     0.105593  "
      ]
     },
     "execution_count": 6,
     "metadata": {},
     "output_type": "execute_result"
    }
   ],
   "source": [
    "df1['Tarih'] = pd.to_datetime(df1['Tarih'])\n",
    "df1.head(3)"
   ]
  },
  {
   "cell_type": "markdown",
   "id": "b9e45ef3",
   "metadata": {},
   "source": [
    "<p style=\"background-image: linear-gradient(#0D9276, #FFFFFF 10%)\"> &nbsp </p>"
   ]
  },
  {
   "cell_type": "markdown",
   "id": "62c02941",
   "metadata": {},
   "source": [
    "**&emsp;&emsp;Check max values**"
   ]
  },
  {
   "cell_type": "code",
   "execution_count": 7,
   "id": "4cf215b6",
   "metadata": {},
   "outputs": [
    {
     "data": {
      "text/html": [
       "<div>\n",
       "<style scoped>\n",
       "    .dataframe tbody tr th:only-of-type {\n",
       "        vertical-align: middle;\n",
       "    }\n",
       "\n",
       "    .dataframe tbody tr th {\n",
       "        vertical-align: top;\n",
       "    }\n",
       "\n",
       "    .dataframe thead th {\n",
       "        text-align: right;\n",
       "    }\n",
       "</style>\n",
       "<table border=\"1\" class=\"dataframe\">\n",
       "  <thead>\n",
       "    <tr style=\"text-align: right;\">\n",
       "      <th></th>\n",
       "      <th>Tarih</th>\n",
       "      <th>Ömerli</th>\n",
       "      <th>Darlık</th>\n",
       "      <th>Elmalı</th>\n",
       "      <th>Terkos</th>\n",
       "      <th>Alibey</th>\n",
       "      <th>Büyükçekmece</th>\n",
       "      <th>Sazlıdere</th>\n",
       "      <th>Kazandere</th>\n",
       "      <th>Pabuçdere</th>\n",
       "      <th>Istrancalar</th>\n",
       "    </tr>\n",
       "  </thead>\n",
       "  <tbody>\n",
       "    <tr>\n",
       "      <th>max</th>\n",
       "      <td>2023-10-31</td>\n",
       "      <td>1.0</td>\n",
       "      <td>1.0</td>\n",
       "      <td>1.0</td>\n",
       "      <td>1.0</td>\n",
       "      <td>1.0</td>\n",
       "      <td>1.0</td>\n",
       "      <td>1.0</td>\n",
       "      <td>1.0</td>\n",
       "      <td>1.0</td>\n",
       "      <td>0.999945</td>\n",
       "    </tr>\n",
       "  </tbody>\n",
       "</table>\n",
       "</div>"
      ],
      "text/plain": [
       "         Tarih  Ömerli  Darlık  Elmalı  Terkos  Alibey  Büyükçekmece  \\\n",
       "max 2023-10-31     1.0     1.0     1.0     1.0     1.0           1.0   \n",
       "\n",
       "     Sazlıdere  Kazandere  Pabuçdere  Istrancalar  \n",
       "max        1.0        1.0        1.0     0.999945  "
      ]
     },
     "execution_count": 7,
     "metadata": {},
     "output_type": "execute_result"
    }
   ],
   "source": [
    "df1.agg(['max'])"
   ]
  },
  {
   "cell_type": "code",
   "execution_count": 8,
   "id": "c47a80a1",
   "metadata": {},
   "outputs": [
    {
     "data": {
      "text/html": [
       "<div>\n",
       "<style scoped>\n",
       "    .dataframe tbody tr th:only-of-type {\n",
       "        vertical-align: middle;\n",
       "    }\n",
       "\n",
       "    .dataframe tbody tr th {\n",
       "        vertical-align: top;\n",
       "    }\n",
       "\n",
       "    .dataframe thead th {\n",
       "        text-align: right;\n",
       "    }\n",
       "</style>\n",
       "<table border=\"1\" class=\"dataframe\">\n",
       "  <thead>\n",
       "    <tr style=\"text-align: right;\">\n",
       "      <th></th>\n",
       "      <th>Ömerli</th>\n",
       "      <th>Darlık</th>\n",
       "      <th>Elmalı</th>\n",
       "      <th>Terkos</th>\n",
       "      <th>Alibey</th>\n",
       "      <th>Büyükçekmece</th>\n",
       "      <th>Sazlıdere</th>\n",
       "      <th>Kazandere</th>\n",
       "      <th>Pabuçdere</th>\n",
       "      <th>Istrancalar</th>\n",
       "    </tr>\n",
       "  </thead>\n",
       "  <tbody>\n",
       "    <tr>\n",
       "      <th>counts</th>\n",
       "      <td>0</td>\n",
       "      <td>0</td>\n",
       "      <td>0</td>\n",
       "      <td>0</td>\n",
       "      <td>0</td>\n",
       "      <td>0</td>\n",
       "      <td>361</td>\n",
       "      <td>0</td>\n",
       "      <td>688</td>\n",
       "      <td>0</td>\n",
       "    </tr>\n",
       "  </tbody>\n",
       "</table>\n",
       "</div>"
      ],
      "text/plain": [
       "        Ömerli  Darlık  Elmalı  Terkos  Alibey  Büyükçekmece  Sazlıdere  \\\n",
       "counts       0       0       0       0       0             0        361   \n",
       "\n",
       "        Kazandere  Pabuçdere  Istrancalar  \n",
       "counts          0        688            0  "
      ]
     },
     "execution_count": 8,
     "metadata": {},
     "output_type": "execute_result"
    }
   ],
   "source": [
    "pd.DataFrame((df1.iloc[:,1:] > 1).sum(), columns=['counts']).T"
   ]
  },
  {
   "cell_type": "code",
   "execution_count": 9,
   "id": "e4c0dee9",
   "metadata": {},
   "outputs": [
    {
     "data": {
      "text/plain": [
       "1.0000000000000002"
      ]
     },
     "execution_count": 9,
     "metadata": {},
     "output_type": "execute_result"
    }
   ],
   "source": [
    "df1['Sazlıdere'].max()"
   ]
  },
  {
   "cell_type": "markdown",
   "id": "ee563cca",
   "metadata": {},
   "source": [
    "**_&emsp;&emsp;&emsp;This values will be rounded to 4 digits after being concatenated._**"
   ]
  },
  {
   "cell_type": "markdown",
   "id": "28cf9519",
   "metadata": {},
   "source": [
    "<p style=\"background-image: linear-gradient(to right, #0D9276, #41b675)\"> &nbsp </p>"
   ]
  },
  {
   "cell_type": "markdown",
   "id": "eb77f0d1",
   "metadata": {},
   "source": [
    "#### WORKING ON SECOND DATA FRAME"
   ]
  },
  {
   "cell_type": "code",
   "execution_count": 10,
   "id": "4b932b0c",
   "metadata": {},
   "outputs": [
    {
     "data": {
      "text/html": [
       "<div>\n",
       "<style scoped>\n",
       "    .dataframe tbody tr th:only-of-type {\n",
       "        vertical-align: middle;\n",
       "    }\n",
       "\n",
       "    .dataframe tbody tr th {\n",
       "        vertical-align: top;\n",
       "    }\n",
       "\n",
       "    .dataframe thead th {\n",
       "        text-align: right;\n",
       "    }\n",
       "</style>\n",
       "<table border=\"1\" class=\"dataframe\">\n",
       "  <thead>\n",
       "    <tr style=\"text-align: right;\">\n",
       "      <th></th>\n",
       "      <th>Tarih</th>\n",
       "      <th>Ömerli</th>\n",
       "      <th>Darlık</th>\n",
       "      <th>Elmalı</th>\n",
       "      <th>Terkos</th>\n",
       "      <th>Alibey</th>\n",
       "      <th>Büyükçekmece</th>\n",
       "      <th>Sazlıdere</th>\n",
       "      <th>Kazandere</th>\n",
       "      <th>Pabuçdere</th>\n",
       "      <th>Istrancalar</th>\n",
       "    </tr>\n",
       "  </thead>\n",
       "  <tbody>\n",
       "    <tr>\n",
       "      <th>8195</th>\n",
       "      <td>1.4.2023</td>\n",
       "      <td>60.65</td>\n",
       "      <td>52.05</td>\n",
       "      <td>40.15</td>\n",
       "      <td>32.42</td>\n",
       "      <td>14.48</td>\n",
       "      <td>30.44</td>\n",
       "      <td>32.53</td>\n",
       "      <td>9.23</td>\n",
       "      <td>9.35</td>\n",
       "      <td>39.97</td>\n",
       "    </tr>\n",
       "    <tr>\n",
       "      <th>8196</th>\n",
       "      <td>2.4.2023</td>\n",
       "      <td>61.15</td>\n",
       "      <td>52.23</td>\n",
       "      <td>40.26</td>\n",
       "      <td>32.57</td>\n",
       "      <td>14.57</td>\n",
       "      <td>30.44</td>\n",
       "      <td>32.47</td>\n",
       "      <td>9.11</td>\n",
       "      <td>8.98</td>\n",
       "      <td>39.39</td>\n",
       "    </tr>\n",
       "    <tr>\n",
       "      <th>8197</th>\n",
       "      <td>3.4.2023</td>\n",
       "      <td>61.50</td>\n",
       "      <td>52.60</td>\n",
       "      <td>40.26</td>\n",
       "      <td>32.72</td>\n",
       "      <td>14.62</td>\n",
       "      <td>30.61</td>\n",
       "      <td>32.47</td>\n",
       "      <td>9.48</td>\n",
       "      <td>9.24</td>\n",
       "      <td>38.02</td>\n",
       "    </tr>\n",
       "  </tbody>\n",
       "</table>\n",
       "</div>"
      ],
      "text/plain": [
       "         Tarih  Ömerli  Darlık  Elmalı  Terkos  Alibey  Büyükçekmece  \\\n",
       "8195  1.4.2023   60.65   52.05   40.15   32.42   14.48         30.44   \n",
       "8196  2.4.2023   61.15   52.23   40.26   32.57   14.57         30.44   \n",
       "8197  3.4.2023   61.50   52.60   40.26   32.72   14.62         30.61   \n",
       "\n",
       "      Sazlıdere  Kazandere  Pabuçdere  Istrancalar  \n",
       "8195      32.53       9.23       9.35        39.97  \n",
       "8196      32.47       9.11       8.98        39.39  \n",
       "8197      32.47       9.48       9.24        38.02  "
      ]
     },
     "execution_count": 10,
     "metadata": {},
     "output_type": "execute_result"
    }
   ],
   "source": [
    "df2.head(3)"
   ]
  },
  {
   "cell_type": "markdown",
   "id": "17cc62ff",
   "metadata": {},
   "source": [
    "<p style=\"background-image: linear-gradient(#0D9276, #FFFFFF 10%)\"> &nbsp </p>"
   ]
  },
  {
   "cell_type": "markdown",
   "id": "3455ef4b",
   "metadata": {},
   "source": [
    "**&emsp;&emsp;Set date ('Tarih') columd as date type**"
   ]
  },
  {
   "cell_type": "code",
   "execution_count": 11,
   "id": "ae72f594",
   "metadata": {},
   "outputs": [
    {
     "data": {
      "text/html": [
       "<div>\n",
       "<style scoped>\n",
       "    .dataframe tbody tr th:only-of-type {\n",
       "        vertical-align: middle;\n",
       "    }\n",
       "\n",
       "    .dataframe tbody tr th {\n",
       "        vertical-align: top;\n",
       "    }\n",
       "\n",
       "    .dataframe thead th {\n",
       "        text-align: right;\n",
       "    }\n",
       "</style>\n",
       "<table border=\"1\" class=\"dataframe\">\n",
       "  <thead>\n",
       "    <tr style=\"text-align: right;\">\n",
       "      <th></th>\n",
       "      <th>Tarih</th>\n",
       "      <th>Ömerli</th>\n",
       "      <th>Darlık</th>\n",
       "      <th>Elmalı</th>\n",
       "      <th>Terkos</th>\n",
       "      <th>Alibey</th>\n",
       "      <th>Büyükçekmece</th>\n",
       "      <th>Sazlıdere</th>\n",
       "      <th>Kazandere</th>\n",
       "      <th>Pabuçdere</th>\n",
       "      <th>Istrancalar</th>\n",
       "    </tr>\n",
       "  </thead>\n",
       "  <tbody>\n",
       "    <tr>\n",
       "      <th>8195</th>\n",
       "      <td>2023-04-01</td>\n",
       "      <td>60.65</td>\n",
       "      <td>52.05</td>\n",
       "      <td>40.15</td>\n",
       "      <td>32.42</td>\n",
       "      <td>14.48</td>\n",
       "      <td>30.44</td>\n",
       "      <td>32.53</td>\n",
       "      <td>9.23</td>\n",
       "      <td>9.35</td>\n",
       "      <td>39.97</td>\n",
       "    </tr>\n",
       "    <tr>\n",
       "      <th>8196</th>\n",
       "      <td>2023-04-02</td>\n",
       "      <td>61.15</td>\n",
       "      <td>52.23</td>\n",
       "      <td>40.26</td>\n",
       "      <td>32.57</td>\n",
       "      <td>14.57</td>\n",
       "      <td>30.44</td>\n",
       "      <td>32.47</td>\n",
       "      <td>9.11</td>\n",
       "      <td>8.98</td>\n",
       "      <td>39.39</td>\n",
       "    </tr>\n",
       "    <tr>\n",
       "      <th>8197</th>\n",
       "      <td>2023-04-03</td>\n",
       "      <td>61.50</td>\n",
       "      <td>52.60</td>\n",
       "      <td>40.26</td>\n",
       "      <td>32.72</td>\n",
       "      <td>14.62</td>\n",
       "      <td>30.61</td>\n",
       "      <td>32.47</td>\n",
       "      <td>9.48</td>\n",
       "      <td>9.24</td>\n",
       "      <td>38.02</td>\n",
       "    </tr>\n",
       "  </tbody>\n",
       "</table>\n",
       "</div>"
      ],
      "text/plain": [
       "          Tarih  Ömerli  Darlık  Elmalı  Terkos  Alibey  Büyükçekmece  \\\n",
       "8195 2023-04-01   60.65   52.05   40.15   32.42   14.48         30.44   \n",
       "8196 2023-04-02   61.15   52.23   40.26   32.57   14.57         30.44   \n",
       "8197 2023-04-03   61.50   52.60   40.26   32.72   14.62         30.61   \n",
       "\n",
       "      Sazlıdere  Kazandere  Pabuçdere  Istrancalar  \n",
       "8195      32.53       9.23       9.35        39.97  \n",
       "8196      32.47       9.11       8.98        39.39  \n",
       "8197      32.47       9.48       9.24        38.02  "
      ]
     },
     "execution_count": 11,
     "metadata": {},
     "output_type": "execute_result"
    }
   ],
   "source": [
    "df2['Tarih'] = pd.to_datetime(df2.loc[:,'Tarih'], format='%d.%m.%Y')\n",
    "df2.head(3)"
   ]
  },
  {
   "cell_type": "markdown",
   "id": "69aadd95",
   "metadata": {},
   "source": [
    "<p style=\"background-image: linear-gradient(#0D9276, #FFFFFF 10%)\"> &nbsp </p>"
   ]
  },
  {
   "cell_type": "markdown",
   "id": "51ca961d",
   "metadata": {},
   "source": [
    "**&emsp;&emsp;Set percentages**"
   ]
  },
  {
   "cell_type": "code",
   "execution_count": 12,
   "id": "f2d694cf",
   "metadata": {},
   "outputs": [
    {
     "data": {
      "text/html": [
       "<div>\n",
       "<style scoped>\n",
       "    .dataframe tbody tr th:only-of-type {\n",
       "        vertical-align: middle;\n",
       "    }\n",
       "\n",
       "    .dataframe tbody tr th {\n",
       "        vertical-align: top;\n",
       "    }\n",
       "\n",
       "    .dataframe thead th {\n",
       "        text-align: right;\n",
       "    }\n",
       "</style>\n",
       "<table border=\"1\" class=\"dataframe\">\n",
       "  <thead>\n",
       "    <tr style=\"text-align: right;\">\n",
       "      <th></th>\n",
       "      <th>Tarih</th>\n",
       "      <th>Ömerli</th>\n",
       "      <th>Darlık</th>\n",
       "      <th>Elmalı</th>\n",
       "      <th>Terkos</th>\n",
       "      <th>Alibey</th>\n",
       "      <th>Büyükçekmece</th>\n",
       "      <th>Sazlıdere</th>\n",
       "      <th>Kazandere</th>\n",
       "      <th>Pabuçdere</th>\n",
       "      <th>Istrancalar</th>\n",
       "    </tr>\n",
       "  </thead>\n",
       "  <tbody>\n",
       "    <tr>\n",
       "      <th>8195</th>\n",
       "      <td>2023-04-01</td>\n",
       "      <td>0.6065</td>\n",
       "      <td>0.5205</td>\n",
       "      <td>0.4015</td>\n",
       "      <td>0.3242</td>\n",
       "      <td>0.1448</td>\n",
       "      <td>0.3044</td>\n",
       "      <td>0.3253</td>\n",
       "      <td>0.0923</td>\n",
       "      <td>0.0935</td>\n",
       "      <td>0.3997</td>\n",
       "    </tr>\n",
       "    <tr>\n",
       "      <th>8196</th>\n",
       "      <td>2023-04-02</td>\n",
       "      <td>0.6115</td>\n",
       "      <td>0.5223</td>\n",
       "      <td>0.4026</td>\n",
       "      <td>0.3257</td>\n",
       "      <td>0.1457</td>\n",
       "      <td>0.3044</td>\n",
       "      <td>0.3247</td>\n",
       "      <td>0.0911</td>\n",
       "      <td>0.0898</td>\n",
       "      <td>0.3939</td>\n",
       "    </tr>\n",
       "    <tr>\n",
       "      <th>8197</th>\n",
       "      <td>2023-04-03</td>\n",
       "      <td>0.6150</td>\n",
       "      <td>0.5260</td>\n",
       "      <td>0.4026</td>\n",
       "      <td>0.3272</td>\n",
       "      <td>0.1462</td>\n",
       "      <td>0.3061</td>\n",
       "      <td>0.3247</td>\n",
       "      <td>0.0948</td>\n",
       "      <td>0.0924</td>\n",
       "      <td>0.3802</td>\n",
       "    </tr>\n",
       "  </tbody>\n",
       "</table>\n",
       "</div>"
      ],
      "text/plain": [
       "          Tarih  Ömerli  Darlık  Elmalı  Terkos  Alibey  Büyükçekmece  \\\n",
       "8195 2023-04-01  0.6065  0.5205  0.4015  0.3242  0.1448        0.3044   \n",
       "8196 2023-04-02  0.6115  0.5223  0.4026  0.3257  0.1457        0.3044   \n",
       "8197 2023-04-03  0.6150  0.5260  0.4026  0.3272  0.1462        0.3061   \n",
       "\n",
       "      Sazlıdere  Kazandere  Pabuçdere  Istrancalar  \n",
       "8195     0.3253     0.0923     0.0935       0.3997  \n",
       "8196     0.3247     0.0911     0.0898       0.3939  \n",
       "8197     0.3247     0.0948     0.0924       0.3802  "
      ]
     },
     "execution_count": 12,
     "metadata": {},
     "output_type": "execute_result"
    }
   ],
   "source": [
    "df2.loc[:,'Ömerli':] = df2.loc[:,'Ömerli':] / 100\n",
    "df2.head(3)"
   ]
  },
  {
   "cell_type": "markdown",
   "id": "ca8516cc",
   "metadata": {},
   "source": [
    "<p style=\"background-image: linear-gradient(#0D9276, #FFFFFF 10%)\"> &nbsp </p>"
   ]
  },
  {
   "cell_type": "markdown",
   "id": "522a5ece",
   "metadata": {},
   "source": [
    "**&emsp;&emsp;Check max values**"
   ]
  },
  {
   "cell_type": "code",
   "execution_count": 13,
   "id": "441dfbaf",
   "metadata": {},
   "outputs": [
    {
     "data": {
      "text/html": [
       "<div>\n",
       "<style scoped>\n",
       "    .dataframe tbody tr th:only-of-type {\n",
       "        vertical-align: middle;\n",
       "    }\n",
       "\n",
       "    .dataframe tbody tr th {\n",
       "        vertical-align: top;\n",
       "    }\n",
       "\n",
       "    .dataframe thead th {\n",
       "        text-align: right;\n",
       "    }\n",
       "</style>\n",
       "<table border=\"1\" class=\"dataframe\">\n",
       "  <thead>\n",
       "    <tr style=\"text-align: right;\">\n",
       "      <th></th>\n",
       "      <th>Tarih</th>\n",
       "      <th>Ömerli</th>\n",
       "      <th>Darlık</th>\n",
       "      <th>Elmalı</th>\n",
       "      <th>Terkos</th>\n",
       "      <th>Alibey</th>\n",
       "      <th>Büyükçekmece</th>\n",
       "      <th>Sazlıdere</th>\n",
       "      <th>Kazandere</th>\n",
       "      <th>Pabuçdere</th>\n",
       "      <th>Istrancalar</th>\n",
       "    </tr>\n",
       "  </thead>\n",
       "  <tbody>\n",
       "    <tr>\n",
       "      <th>max</th>\n",
       "      <td>2023-08-08</td>\n",
       "      <td>0.7953</td>\n",
       "      <td>0.656</td>\n",
       "      <td>0.4844</td>\n",
       "      <td>0.4145</td>\n",
       "      <td>0.2668</td>\n",
       "      <td>0.3448</td>\n",
       "      <td>0.3407</td>\n",
       "      <td>0.2254</td>\n",
       "      <td>0.1539</td>\n",
       "      <td>0.536</td>\n",
       "    </tr>\n",
       "  </tbody>\n",
       "</table>\n",
       "</div>"
      ],
      "text/plain": [
       "         Tarih  Ömerli  Darlık  Elmalı  Terkos  Alibey  Büyükçekmece  \\\n",
       "max 2023-08-08  0.7953   0.656  0.4844  0.4145  0.2668        0.3448   \n",
       "\n",
       "     Sazlıdere  Kazandere  Pabuçdere  Istrancalar  \n",
       "max     0.3407     0.2254     0.1539        0.536  "
      ]
     },
     "execution_count": 13,
     "metadata": {},
     "output_type": "execute_result"
    }
   ],
   "source": [
    "df2.agg(['max'])"
   ]
  },
  {
   "cell_type": "markdown",
   "id": "53f99ee0",
   "metadata": {},
   "source": [
    "<p style=\"background-image: linear-gradient(to right, #0D9276, #41b675)\"> &nbsp </p>"
   ]
  },
  {
   "cell_type": "markdown",
   "id": "60b0edec",
   "metadata": {},
   "source": [
    "\n",
    "#### CONCANTENATE DATA FRAMES BACK"
   ]
  },
  {
   "cell_type": "code",
   "execution_count": 14,
   "id": "6191c9f5",
   "metadata": {},
   "outputs": [
    {
     "data": {
      "text/html": [
       "<div>\n",
       "<style scoped>\n",
       "    .dataframe tbody tr th:only-of-type {\n",
       "        vertical-align: middle;\n",
       "    }\n",
       "\n",
       "    .dataframe tbody tr th {\n",
       "        vertical-align: top;\n",
       "    }\n",
       "\n",
       "    .dataframe thead th {\n",
       "        text-align: right;\n",
       "    }\n",
       "</style>\n",
       "<table border=\"1\" class=\"dataframe\">\n",
       "  <thead>\n",
       "    <tr style=\"text-align: right;\">\n",
       "      <th></th>\n",
       "      <th>Tarih</th>\n",
       "      <th>Ömerli</th>\n",
       "      <th>Darlık</th>\n",
       "      <th>Elmalı</th>\n",
       "      <th>Terkos</th>\n",
       "      <th>Alibey</th>\n",
       "      <th>Büyükçekmece</th>\n",
       "      <th>Sazlıdere</th>\n",
       "      <th>Kazandere</th>\n",
       "      <th>Pabuçdere</th>\n",
       "      <th>Istrancalar</th>\n",
       "    </tr>\n",
       "  </thead>\n",
       "  <tbody>\n",
       "    <tr>\n",
       "      <th>0</th>\n",
       "      <td>2000-10-23</td>\n",
       "      <td>0.652551</td>\n",
       "      <td>0.750151</td>\n",
       "      <td>0.789792</td>\n",
       "      <td>0.708568</td>\n",
       "      <td>0.0</td>\n",
       "      <td>0.521442</td>\n",
       "      <td>0.505489</td>\n",
       "      <td>0.057499</td>\n",
       "      <td>0.068553</td>\n",
       "      <td>0.110953</td>\n",
       "    </tr>\n",
       "    <tr>\n",
       "      <th>1</th>\n",
       "      <td>2000-10-24</td>\n",
       "      <td>0.659731</td>\n",
       "      <td>0.773031</td>\n",
       "      <td>0.817187</td>\n",
       "      <td>0.710344</td>\n",
       "      <td>0.0</td>\n",
       "      <td>0.521442</td>\n",
       "      <td>0.506952</td>\n",
       "      <td>0.057499</td>\n",
       "      <td>0.069092</td>\n",
       "      <td>0.077226</td>\n",
       "    </tr>\n",
       "    <tr>\n",
       "      <th>2</th>\n",
       "      <td>2000-10-25</td>\n",
       "      <td>0.663327</td>\n",
       "      <td>0.787929</td>\n",
       "      <td>0.826667</td>\n",
       "      <td>0.708568</td>\n",
       "      <td>0.0</td>\n",
       "      <td>0.519666</td>\n",
       "      <td>0.506952</td>\n",
       "      <td>0.057499</td>\n",
       "      <td>0.069361</td>\n",
       "      <td>0.105593</td>\n",
       "    </tr>\n",
       "    <tr>\n",
       "      <th>3</th>\n",
       "      <td>2000-10-26</td>\n",
       "      <td>0.662608</td>\n",
       "      <td>0.793250</td>\n",
       "      <td>0.828125</td>\n",
       "      <td>0.706792</td>\n",
       "      <td>0.0</td>\n",
       "      <td>0.517889</td>\n",
       "      <td>0.506952</td>\n",
       "      <td>0.057499</td>\n",
       "      <td>0.069624</td>\n",
       "      <td>0.114171</td>\n",
       "    </tr>\n",
       "    <tr>\n",
       "      <th>4</th>\n",
       "      <td>2000-10-27</td>\n",
       "      <td>0.660450</td>\n",
       "      <td>0.795911</td>\n",
       "      <td>0.828125</td>\n",
       "      <td>0.706792</td>\n",
       "      <td>0.0</td>\n",
       "      <td>0.516113</td>\n",
       "      <td>0.505489</td>\n",
       "      <td>0.057499</td>\n",
       "      <td>0.066667</td>\n",
       "      <td>0.114017</td>\n",
       "    </tr>\n",
       "  </tbody>\n",
       "</table>\n",
       "</div>"
      ],
      "text/plain": [
       "       Tarih    Ömerli    Darlık    Elmalı    Terkos  Alibey  Büyükçekmece  \\\n",
       "0 2000-10-23  0.652551  0.750151  0.789792  0.708568     0.0      0.521442   \n",
       "1 2000-10-24  0.659731  0.773031  0.817187  0.710344     0.0      0.521442   \n",
       "2 2000-10-25  0.663327  0.787929  0.826667  0.708568     0.0      0.519666   \n",
       "3 2000-10-26  0.662608  0.793250  0.828125  0.706792     0.0      0.517889   \n",
       "4 2000-10-27  0.660450  0.795911  0.828125  0.706792     0.0      0.516113   \n",
       "\n",
       "   Sazlıdere  Kazandere  Pabuçdere  Istrancalar  \n",
       "0   0.505489   0.057499   0.068553     0.110953  \n",
       "1   0.506952   0.057499   0.069092     0.077226  \n",
       "2   0.506952   0.057499   0.069361     0.105593  \n",
       "3   0.506952   0.057499   0.069624     0.114171  \n",
       "4   0.505489   0.057499   0.066667     0.114017  "
      ]
     },
     "execution_count": 14,
     "metadata": {},
     "output_type": "execute_result"
    }
   ],
   "source": [
    "clean_df = pd.concat([df1, df2], axis=0)\n",
    "clean_df.sort_index(inplace=True)\n",
    "clean_df.head()"
   ]
  },
  {
   "cell_type": "markdown",
   "id": "a95e7800",
   "metadata": {},
   "source": [
    "<p style=\"background-image: linear-gradient(#0D9276, #FFFFFF 10%)\"> &nbsp </p>"
   ]
  },
  {
   "cell_type": "markdown",
   "id": "04917397",
   "metadata": {},
   "source": [
    "**&emsp;&emsp;Check types**"
   ]
  },
  {
   "cell_type": "code",
   "execution_count": 15,
   "id": "39f8f255",
   "metadata": {},
   "outputs": [
    {
     "data": {
      "text/html": [
       "<div>\n",
       "<style scoped>\n",
       "    .dataframe tbody tr th:only-of-type {\n",
       "        vertical-align: middle;\n",
       "    }\n",
       "\n",
       "    .dataframe tbody tr th {\n",
       "        vertical-align: top;\n",
       "    }\n",
       "\n",
       "    .dataframe thead th {\n",
       "        text-align: right;\n",
       "    }\n",
       "</style>\n",
       "<table border=\"1\" class=\"dataframe\">\n",
       "  <thead>\n",
       "    <tr style=\"text-align: right;\">\n",
       "      <th></th>\n",
       "      <th>Tarih</th>\n",
       "      <th>Ömerli</th>\n",
       "      <th>Darlık</th>\n",
       "      <th>Elmalı</th>\n",
       "      <th>Terkos</th>\n",
       "      <th>Alibey</th>\n",
       "      <th>Büyükçekmece</th>\n",
       "      <th>Sazlıdere</th>\n",
       "      <th>Kazandere</th>\n",
       "      <th>Pabuçdere</th>\n",
       "      <th>Istrancalar</th>\n",
       "    </tr>\n",
       "  </thead>\n",
       "  <tbody>\n",
       "    <tr>\n",
       "      <th>0</th>\n",
       "      <td>datetime64[ns]</td>\n",
       "      <td>float64</td>\n",
       "      <td>float64</td>\n",
       "      <td>float64</td>\n",
       "      <td>float64</td>\n",
       "      <td>float64</td>\n",
       "      <td>float64</td>\n",
       "      <td>float64</td>\n",
       "      <td>float64</td>\n",
       "      <td>float64</td>\n",
       "      <td>float64</td>\n",
       "    </tr>\n",
       "  </tbody>\n",
       "</table>\n",
       "</div>"
      ],
      "text/plain": [
       "            Tarih   Ömerli   Darlık   Elmalı   Terkos   Alibey Büyükçekmece  \\\n",
       "0  datetime64[ns]  float64  float64  float64  float64  float64      float64   \n",
       "\n",
       "  Sazlıdere Kazandere Pabuçdere Istrancalar  \n",
       "0   float64   float64   float64     float64  "
      ]
     },
     "execution_count": 15,
     "metadata": {},
     "output_type": "execute_result"
    }
   ],
   "source": [
    "pd.DataFrame(clean_df.dtypes).T"
   ]
  },
  {
   "cell_type": "markdown",
   "id": "792ff06b",
   "metadata": {},
   "source": [
    "<p style=\"background-image: linear-gradient(#0D9276, #FFFFFF 10%)\"> &nbsp </p>"
   ]
  },
  {
   "cell_type": "markdown",
   "id": "e6cc9a1e",
   "metadata": {},
   "source": [
    "**&emsp;&emsp;Set dates as Index**"
   ]
  },
  {
   "cell_type": "code",
   "execution_count": 16,
   "id": "9db7e6db",
   "metadata": {},
   "outputs": [
    {
     "data": {
      "text/html": [
       "<div>\n",
       "<style scoped>\n",
       "    .dataframe tbody tr th:only-of-type {\n",
       "        vertical-align: middle;\n",
       "    }\n",
       "\n",
       "    .dataframe tbody tr th {\n",
       "        vertical-align: top;\n",
       "    }\n",
       "\n",
       "    .dataframe thead th {\n",
       "        text-align: right;\n",
       "    }\n",
       "</style>\n",
       "<table border=\"1\" class=\"dataframe\">\n",
       "  <thead>\n",
       "    <tr style=\"text-align: right;\">\n",
       "      <th></th>\n",
       "      <th>Ömerli</th>\n",
       "      <th>Darlık</th>\n",
       "      <th>Elmalı</th>\n",
       "      <th>Terkos</th>\n",
       "      <th>Alibey</th>\n",
       "      <th>Büyükçekmece</th>\n",
       "      <th>Sazlıdere</th>\n",
       "      <th>Kazandere</th>\n",
       "      <th>Pabuçdere</th>\n",
       "      <th>Istrancalar</th>\n",
       "    </tr>\n",
       "    <tr>\n",
       "      <th>Tarih</th>\n",
       "      <th></th>\n",
       "      <th></th>\n",
       "      <th></th>\n",
       "      <th></th>\n",
       "      <th></th>\n",
       "      <th></th>\n",
       "      <th></th>\n",
       "      <th></th>\n",
       "      <th></th>\n",
       "      <th></th>\n",
       "    </tr>\n",
       "  </thead>\n",
       "  <tbody>\n",
       "    <tr>\n",
       "      <th>2000-10-23</th>\n",
       "      <td>0.652551</td>\n",
       "      <td>0.750151</td>\n",
       "      <td>0.789792</td>\n",
       "      <td>0.708568</td>\n",
       "      <td>0.0</td>\n",
       "      <td>0.521442</td>\n",
       "      <td>0.505489</td>\n",
       "      <td>0.057499</td>\n",
       "      <td>0.068553</td>\n",
       "      <td>0.110953</td>\n",
       "    </tr>\n",
       "    <tr>\n",
       "      <th>2000-10-24</th>\n",
       "      <td>0.659731</td>\n",
       "      <td>0.773031</td>\n",
       "      <td>0.817187</td>\n",
       "      <td>0.710344</td>\n",
       "      <td>0.0</td>\n",
       "      <td>0.521442</td>\n",
       "      <td>0.506952</td>\n",
       "      <td>0.057499</td>\n",
       "      <td>0.069092</td>\n",
       "      <td>0.077226</td>\n",
       "    </tr>\n",
       "    <tr>\n",
       "      <th>2000-10-25</th>\n",
       "      <td>0.663327</td>\n",
       "      <td>0.787929</td>\n",
       "      <td>0.826667</td>\n",
       "      <td>0.708568</td>\n",
       "      <td>0.0</td>\n",
       "      <td>0.519666</td>\n",
       "      <td>0.506952</td>\n",
       "      <td>0.057499</td>\n",
       "      <td>0.069361</td>\n",
       "      <td>0.105593</td>\n",
       "    </tr>\n",
       "    <tr>\n",
       "      <th>2000-10-26</th>\n",
       "      <td>0.662608</td>\n",
       "      <td>0.793250</td>\n",
       "      <td>0.828125</td>\n",
       "      <td>0.706792</td>\n",
       "      <td>0.0</td>\n",
       "      <td>0.517889</td>\n",
       "      <td>0.506952</td>\n",
       "      <td>0.057499</td>\n",
       "      <td>0.069624</td>\n",
       "      <td>0.114171</td>\n",
       "    </tr>\n",
       "    <tr>\n",
       "      <th>2000-10-27</th>\n",
       "      <td>0.660450</td>\n",
       "      <td>0.795911</td>\n",
       "      <td>0.828125</td>\n",
       "      <td>0.706792</td>\n",
       "      <td>0.0</td>\n",
       "      <td>0.516113</td>\n",
       "      <td>0.505489</td>\n",
       "      <td>0.057499</td>\n",
       "      <td>0.066667</td>\n",
       "      <td>0.114017</td>\n",
       "    </tr>\n",
       "  </tbody>\n",
       "</table>\n",
       "</div>"
      ],
      "text/plain": [
       "              Ömerli    Darlık    Elmalı    Terkos  Alibey  Büyükçekmece  \\\n",
       "Tarih                                                                      \n",
       "2000-10-23  0.652551  0.750151  0.789792  0.708568     0.0      0.521442   \n",
       "2000-10-24  0.659731  0.773031  0.817187  0.710344     0.0      0.521442   \n",
       "2000-10-25  0.663327  0.787929  0.826667  0.708568     0.0      0.519666   \n",
       "2000-10-26  0.662608  0.793250  0.828125  0.706792     0.0      0.517889   \n",
       "2000-10-27  0.660450  0.795911  0.828125  0.706792     0.0      0.516113   \n",
       "\n",
       "            Sazlıdere  Kazandere  Pabuçdere  Istrancalar  \n",
       "Tarih                                                     \n",
       "2000-10-23   0.505489   0.057499   0.068553     0.110953  \n",
       "2000-10-24   0.506952   0.057499   0.069092     0.077226  \n",
       "2000-10-25   0.506952   0.057499   0.069361     0.105593  \n",
       "2000-10-26   0.506952   0.057499   0.069624     0.114171  \n",
       "2000-10-27   0.505489   0.057499   0.066667     0.114017  "
      ]
     },
     "execution_count": 16,
     "metadata": {},
     "output_type": "execute_result"
    }
   ],
   "source": [
    "clean_df.set_index('Tarih', inplace=True)\n",
    "clean_df.head()"
   ]
  },
  {
   "cell_type": "markdown",
   "id": "0e3746ca",
   "metadata": {},
   "source": [
    "<p style=\"background-image: linear-gradient(#0D9276, #FFFFFF 10%)\"> &nbsp </p>"
   ]
  },
  {
   "cell_type": "markdown",
   "id": "fbbae4ba",
   "metadata": {},
   "source": [
    "**&emsp;&emsp;Round values to 4 digits**"
   ]
  },
  {
   "cell_type": "code",
   "execution_count": 17,
   "id": "58245511",
   "metadata": {},
   "outputs": [
    {
     "data": {
      "text/html": [
       "<div>\n",
       "<style scoped>\n",
       "    .dataframe tbody tr th:only-of-type {\n",
       "        vertical-align: middle;\n",
       "    }\n",
       "\n",
       "    .dataframe tbody tr th {\n",
       "        vertical-align: top;\n",
       "    }\n",
       "\n",
       "    .dataframe thead th {\n",
       "        text-align: right;\n",
       "    }\n",
       "</style>\n",
       "<table border=\"1\" class=\"dataframe\">\n",
       "  <thead>\n",
       "    <tr style=\"text-align: right;\">\n",
       "      <th></th>\n",
       "      <th>Ömerli</th>\n",
       "      <th>Darlık</th>\n",
       "      <th>Elmalı</th>\n",
       "      <th>Terkos</th>\n",
       "      <th>Alibey</th>\n",
       "      <th>Büyükçekmece</th>\n",
       "      <th>Sazlıdere</th>\n",
       "      <th>Kazandere</th>\n",
       "      <th>Pabuçdere</th>\n",
       "      <th>Istrancalar</th>\n",
       "    </tr>\n",
       "    <tr>\n",
       "      <th>Tarih</th>\n",
       "      <th></th>\n",
       "      <th></th>\n",
       "      <th></th>\n",
       "      <th></th>\n",
       "      <th></th>\n",
       "      <th></th>\n",
       "      <th></th>\n",
       "      <th></th>\n",
       "      <th></th>\n",
       "      <th></th>\n",
       "    </tr>\n",
       "  </thead>\n",
       "  <tbody>\n",
       "    <tr>\n",
       "      <th>2023-10-27</th>\n",
       "      <td>0.4205</td>\n",
       "      <td>0.3092</td>\n",
       "      <td>0.1565</td>\n",
       "      <td>0.0920</td>\n",
       "      <td>0.2139</td>\n",
       "      <td>0.0397</td>\n",
       "      <td>0.0465</td>\n",
       "      <td>0.0643</td>\n",
       "      <td>0.0322</td>\n",
       "      <td>0.2287</td>\n",
       "    </tr>\n",
       "    <tr>\n",
       "      <th>2023-10-28</th>\n",
       "      <td>0.4155</td>\n",
       "      <td>0.3059</td>\n",
       "      <td>0.1531</td>\n",
       "      <td>0.0897</td>\n",
       "      <td>0.2088</td>\n",
       "      <td>0.0397</td>\n",
       "      <td>0.0421</td>\n",
       "      <td>0.0654</td>\n",
       "      <td>0.0322</td>\n",
       "      <td>0.2317</td>\n",
       "    </tr>\n",
       "    <tr>\n",
       "      <th>2023-10-29</th>\n",
       "      <td>0.4106</td>\n",
       "      <td>0.3030</td>\n",
       "      <td>0.1498</td>\n",
       "      <td>0.0885</td>\n",
       "      <td>0.2048</td>\n",
       "      <td>0.0397</td>\n",
       "      <td>0.0400</td>\n",
       "      <td>0.0687</td>\n",
       "      <td>0.0345</td>\n",
       "      <td>0.2358</td>\n",
       "    </tr>\n",
       "    <tr>\n",
       "      <th>2023-10-30</th>\n",
       "      <td>0.4057</td>\n",
       "      <td>0.3000</td>\n",
       "      <td>0.1467</td>\n",
       "      <td>0.0862</td>\n",
       "      <td>0.2020</td>\n",
       "      <td>0.0386</td>\n",
       "      <td>0.0376</td>\n",
       "      <td>0.0706</td>\n",
       "      <td>0.0373</td>\n",
       "      <td>0.2393</td>\n",
       "    </tr>\n",
       "    <tr>\n",
       "      <th>2023-10-31</th>\n",
       "      <td>0.3995</td>\n",
       "      <td>0.2975</td>\n",
       "      <td>0.1450</td>\n",
       "      <td>0.0851</td>\n",
       "      <td>0.1943</td>\n",
       "      <td>0.0386</td>\n",
       "      <td>0.0353</td>\n",
       "      <td>0.0712</td>\n",
       "      <td>0.0366</td>\n",
       "      <td>0.2280</td>\n",
       "    </tr>\n",
       "  </tbody>\n",
       "</table>\n",
       "</div>"
      ],
      "text/plain": [
       "            Ömerli  Darlık  Elmalı  Terkos  Alibey  Büyükçekmece  Sazlıdere  \\\n",
       "Tarih                                                                         \n",
       "2023-10-27  0.4205  0.3092  0.1565  0.0920  0.2139        0.0397     0.0465   \n",
       "2023-10-28  0.4155  0.3059  0.1531  0.0897  0.2088        0.0397     0.0421   \n",
       "2023-10-29  0.4106  0.3030  0.1498  0.0885  0.2048        0.0397     0.0400   \n",
       "2023-10-30  0.4057  0.3000  0.1467  0.0862  0.2020        0.0386     0.0376   \n",
       "2023-10-31  0.3995  0.2975  0.1450  0.0851  0.1943        0.0386     0.0353   \n",
       "\n",
       "            Kazandere  Pabuçdere  Istrancalar  \n",
       "Tarih                                          \n",
       "2023-10-27     0.0643     0.0322       0.2287  \n",
       "2023-10-28     0.0654     0.0322       0.2317  \n",
       "2023-10-29     0.0687     0.0345       0.2358  \n",
       "2023-10-30     0.0706     0.0373       0.2393  \n",
       "2023-10-31     0.0712     0.0366       0.2280  "
      ]
     },
     "execution_count": 17,
     "metadata": {},
     "output_type": "execute_result"
    }
   ],
   "source": [
    "clean_df = clean_df.round(4)\n",
    "clean_df.tail()"
   ]
  },
  {
   "cell_type": "markdown",
   "id": "6e6f91b4",
   "metadata": {},
   "source": [
    "<p style=\"background-image: linear-gradient(#0D9276, #FFFFFF 10%)\"> &nbsp </p>"
   ]
  },
  {
   "cell_type": "markdown",
   "id": "6daead8a",
   "metadata": {},
   "source": [
    "**&emsp;&emsp;Check values**"
   ]
  },
  {
   "cell_type": "code",
   "execution_count": 18,
   "id": "8ab6d07f",
   "metadata": {},
   "outputs": [
    {
     "data": {
      "text/html": [
       "<div>\n",
       "<style scoped>\n",
       "    .dataframe tbody tr th:only-of-type {\n",
       "        vertical-align: middle;\n",
       "    }\n",
       "\n",
       "    .dataframe tbody tr th {\n",
       "        vertical-align: top;\n",
       "    }\n",
       "\n",
       "    .dataframe thead th {\n",
       "        text-align: right;\n",
       "    }\n",
       "</style>\n",
       "<table border=\"1\" class=\"dataframe\">\n",
       "  <thead>\n",
       "    <tr style=\"text-align: right;\">\n",
       "      <th></th>\n",
       "      <th>Ömerli</th>\n",
       "      <th>Darlık</th>\n",
       "      <th>Elmalı</th>\n",
       "      <th>Terkos</th>\n",
       "      <th>Alibey</th>\n",
       "      <th>Büyükçekmece</th>\n",
       "      <th>Sazlıdere</th>\n",
       "      <th>Kazandere</th>\n",
       "      <th>Pabuçdere</th>\n",
       "      <th>Istrancalar</th>\n",
       "    </tr>\n",
       "  </thead>\n",
       "  <tbody>\n",
       "    <tr>\n",
       "      <th>mean</th>\n",
       "      <td>0.694923</td>\n",
       "      <td>0.676581</td>\n",
       "      <td>0.659562</td>\n",
       "      <td>0.708137</td>\n",
       "      <td>0.53848</td>\n",
       "      <td>0.615152</td>\n",
       "      <td>0.554043</td>\n",
       "      <td>0.626326</td>\n",
       "      <td>0.568846</td>\n",
       "      <td>0.625837</td>\n",
       "    </tr>\n",
       "    <tr>\n",
       "      <th>max</th>\n",
       "      <td>1.000000</td>\n",
       "      <td>1.000000</td>\n",
       "      <td>1.000000</td>\n",
       "      <td>1.000000</td>\n",
       "      <td>1.00000</td>\n",
       "      <td>1.000000</td>\n",
       "      <td>1.000000</td>\n",
       "      <td>1.000000</td>\n",
       "      <td>1.000000</td>\n",
       "      <td>0.999900</td>\n",
       "    </tr>\n",
       "    <tr>\n",
       "      <th>min</th>\n",
       "      <td>0.050700</td>\n",
       "      <td>0.054000</td>\n",
       "      <td>0.005100</td>\n",
       "      <td>0.085100</td>\n",
       "      <td>0.00000</td>\n",
       "      <td>0.016100</td>\n",
       "      <td>0.012100</td>\n",
       "      <td>0.005200</td>\n",
       "      <td>0.000000</td>\n",
       "      <td>0.054600</td>\n",
       "    </tr>\n",
       "  </tbody>\n",
       "</table>\n",
       "</div>"
      ],
      "text/plain": [
       "        Ömerli    Darlık    Elmalı    Terkos   Alibey  Büyükçekmece  \\\n",
       "mean  0.694923  0.676581  0.659562  0.708137  0.53848      0.615152   \n",
       "max   1.000000  1.000000  1.000000  1.000000  1.00000      1.000000   \n",
       "min   0.050700  0.054000  0.005100  0.085100  0.00000      0.016100   \n",
       "\n",
       "      Sazlıdere  Kazandere  Pabuçdere  Istrancalar  \n",
       "mean   0.554043   0.626326   0.568846     0.625837  \n",
       "max    1.000000   1.000000   1.000000     0.999900  \n",
       "min    0.012100   0.005200   0.000000     0.054600  "
      ]
     },
     "execution_count": 18,
     "metadata": {},
     "output_type": "execute_result"
    }
   ],
   "source": [
    "clean_df.agg(['mean', 'max', 'min'])"
   ]
  },
  {
   "cell_type": "markdown",
   "id": "700a2b7b",
   "metadata": {},
   "source": [
    "<p style=\"background-image: linear-gradient(#0D9276, #FFFFFF 10%)\"> &nbsp </p>"
   ]
  },
  {
   "cell_type": "markdown",
   "id": "ab10dd32",
   "metadata": {},
   "source": [
    "**&emsp;&emsp;Save cleaned version**"
   ]
  },
  {
   "cell_type": "code",
   "execution_count": 19,
   "id": "48541b50",
   "metadata": {},
   "outputs": [],
   "source": [
    "# clean_df.to_csv('data/clean_rates.csv')"
   ]
  }
 ],
 "metadata": {
  "kernelspec": {
   "display_name": "Python 3 (ipykernel)",
   "language": "python",
   "name": "python3"
  },
  "language_info": {
   "codemirror_mode": {
    "name": "ipython",
    "version": 3
   },
   "file_extension": ".py",
   "mimetype": "text/x-python",
   "name": "python",
   "nbconvert_exporter": "python",
   "pygments_lexer": "ipython3",
   "version": "3.11.10"
  }
 },
 "nbformat": 4,
 "nbformat_minor": 5
}
