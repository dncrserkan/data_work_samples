{
 "cells": [
  {
   "cell_type": "code",
   "execution_count": 1,
   "id": "f4610749-d0a1-4dcb-98b9-ef972547872c",
   "metadata": {},
   "outputs": [],
   "source": [
    "import pandas as pd\n",
    "import matplotlib.pyplot as plt\n",
    "import seaborn as sns"
   ]
  },
  {
   "cell_type": "markdown",
   "id": "ba5e35d9-46d0-468c-b458-90e8f43c54c9",
   "metadata": {},
   "source": [
    "<p style=\"background-image: linear-gradient(to right, #0aa98f, #68dab2)\"> &nbsp; </p>"
   ]
  },
  {
   "cell_type": "code",
   "execution_count": 2,
   "id": "59e476b4-609c-4c71-ad8d-0954f8da99da",
   "metadata": {},
   "outputs": [
    {
     "data": {
      "text/html": [
       "<div>\n",
       "<style scoped>\n",
       "    .dataframe tbody tr th:only-of-type {\n",
       "        vertical-align: middle;\n",
       "    }\n",
       "\n",
       "    .dataframe tbody tr th {\n",
       "        vertical-align: top;\n",
       "    }\n",
       "\n",
       "    .dataframe thead th {\n",
       "        text-align: right;\n",
       "    }\n",
       "</style>\n",
       "<table border=\"1\" class=\"dataframe\">\n",
       "  <thead>\n",
       "    <tr style=\"text-align: right;\">\n",
       "      <th></th>\n",
       "      <th>Invoice</th>\n",
       "      <th>StockCode</th>\n",
       "      <th>Description</th>\n",
       "      <th>Quantity</th>\n",
       "      <th>InvoiceDate</th>\n",
       "      <th>Price</th>\n",
       "      <th>Customer ID</th>\n",
       "      <th>Country</th>\n",
       "    </tr>\n",
       "  </thead>\n",
       "  <tbody>\n",
       "    <tr>\n",
       "      <th>541907</th>\n",
       "      <td>581587</td>\n",
       "      <td>23255</td>\n",
       "      <td>CHILDRENS CUTLERY CIRCUS PARADE</td>\n",
       "      <td>4</td>\n",
       "      <td>2011-12-09 12:50:00</td>\n",
       "      <td>4.15</td>\n",
       "      <td>12680.0</td>\n",
       "      <td>France</td>\n",
       "    </tr>\n",
       "    <tr>\n",
       "      <th>541908</th>\n",
       "      <td>581587</td>\n",
       "      <td>22138</td>\n",
       "      <td>BAKING SET 9 PIECE RETROSPOT</td>\n",
       "      <td>3</td>\n",
       "      <td>2011-12-09 12:50:00</td>\n",
       "      <td>4.95</td>\n",
       "      <td>12680.0</td>\n",
       "      <td>France</td>\n",
       "    </tr>\n",
       "    <tr>\n",
       "      <th>541909</th>\n",
       "      <td>581587</td>\n",
       "      <td>POST</td>\n",
       "      <td>POSTAGE</td>\n",
       "      <td>1</td>\n",
       "      <td>2011-12-09 12:50:00</td>\n",
       "      <td>18.00</td>\n",
       "      <td>12680.0</td>\n",
       "      <td>France</td>\n",
       "    </tr>\n",
       "  </tbody>\n",
       "</table>\n",
       "</div>"
      ],
      "text/plain": [
       "       Invoice StockCode                      Description  Quantity  \\\n",
       "541907  581587     23255  CHILDRENS CUTLERY CIRCUS PARADE         4   \n",
       "541908  581587     22138    BAKING SET 9 PIECE RETROSPOT          3   \n",
       "541909  581587      POST                          POSTAGE         1   \n",
       "\n",
       "               InvoiceDate  Price  Customer ID Country  \n",
       "541907 2011-12-09 12:50:00   4.15      12680.0  France  \n",
       "541908 2011-12-09 12:50:00   4.95      12680.0  France  \n",
       "541909 2011-12-09 12:50:00  18.00      12680.0  France  "
      ]
     },
     "metadata": {},
     "output_type": "display_data"
    }
   ],
   "source": [
    "data = pd.read_csv('data/online_retail_II.csv', parse_dates=['InvoiceDate'])\n",
    "df = data.copy()\n",
    "display(df.tail(3))"
   ]
  },
  {
   "cell_type": "code",
   "execution_count": 3,
   "id": "0cce2c7c-92b4-41cd-b447-76cc8c87d000",
   "metadata": {},
   "outputs": [
    {
     "name": "stdout",
     "output_type": "stream",
     "text": [
      "<class 'pandas.core.frame.DataFrame'>\n",
      "RangeIndex: 541910 entries, 0 to 541909\n",
      "Data columns (total 8 columns):\n",
      " #   Column       Non-Null Count   Dtype         \n",
      "---  ------       --------------   -----         \n",
      " 0   Invoice      541910 non-null  object        \n",
      " 1   StockCode    541910 non-null  object        \n",
      " 2   Description  540456 non-null  object        \n",
      " 3   Quantity     541910 non-null  int64         \n",
      " 4   InvoiceDate  541910 non-null  datetime64[ns]\n",
      " 5   Price        541910 non-null  float64       \n",
      " 6   Customer ID  406830 non-null  float64       \n",
      " 7   Country      541910 non-null  object        \n",
      "dtypes: datetime64[ns](1), float64(2), int64(1), object(4)\n",
      "memory usage: 33.1+ MB\n"
     ]
    }
   ],
   "source": [
    "df.info()"
   ]
  },
  {
   "cell_type": "code",
   "execution_count": 4,
   "id": "5eda3d7f-8374-4084-b84f-a46815248284",
   "metadata": {},
   "outputs": [
    {
     "data": {
      "text/html": [
       "<div>\n",
       "<style scoped>\n",
       "    .dataframe tbody tr th:only-of-type {\n",
       "        vertical-align: middle;\n",
       "    }\n",
       "\n",
       "    .dataframe tbody tr th {\n",
       "        vertical-align: top;\n",
       "    }\n",
       "\n",
       "    .dataframe thead th {\n",
       "        text-align: right;\n",
       "    }\n",
       "</style>\n",
       "<table border=\"1\" class=\"dataframe\">\n",
       "  <thead>\n",
       "    <tr style=\"text-align: right;\">\n",
       "      <th></th>\n",
       "      <th>Invoice</th>\n",
       "      <th>StockCode</th>\n",
       "      <th>Description</th>\n",
       "      <th>Quantity</th>\n",
       "      <th>InvoiceDate</th>\n",
       "      <th>Price</th>\n",
       "      <th>Customer ID</th>\n",
       "      <th>Country</th>\n",
       "    </tr>\n",
       "  </thead>\n",
       "  <tbody>\n",
       "    <tr>\n",
       "      <th>0</th>\n",
       "      <td>0</td>\n",
       "      <td>0</td>\n",
       "      <td>1454</td>\n",
       "      <td>0</td>\n",
       "      <td>0</td>\n",
       "      <td>0</td>\n",
       "      <td>135080</td>\n",
       "      <td>0</td>\n",
       "    </tr>\n",
       "  </tbody>\n",
       "</table>\n",
       "</div>"
      ],
      "text/plain": [
       "   Invoice  StockCode  Description  Quantity  InvoiceDate  Price  Customer ID  \\\n",
       "0        0          0         1454         0            0      0       135080   \n",
       "\n",
       "   Country  \n",
       "0        0  "
      ]
     },
     "execution_count": 4,
     "metadata": {},
     "output_type": "execute_result"
    }
   ],
   "source": [
    "df.isna().sum().to_frame().T"
   ]
  },
  {
   "cell_type": "markdown",
   "id": "934ae08b-c2ce-4573-aa6a-15bdfa051b37",
   "metadata": {},
   "source": [
    "<p style=\"background-image: linear-gradient(to right, #0aa98f, #68dab2)\"> &nbsp; </p>"
   ]
  },
  {
   "cell_type": "markdown",
   "id": "9043391c-cd41-425f-84a9-d4b939a88bb8",
   "metadata": {},
   "source": [
    "<p style=\"background-image: linear-gradient(#0aa98f, #ffffff 10%); font-weight:bold;\"> \n",
    "    &nbsp; REMOVE MISSING CUSTOMERS - Separate the missing customer id from the data and keep a backup </p>"
   ]
  },
  {
   "cell_type": "code",
   "execution_count": 5,
   "id": "c93a85c0-297b-4fc0-b142-ddedfbad5194",
   "metadata": {},
   "outputs": [
    {
     "data": {
      "text/html": [
       "<div>\n",
       "<style scoped>\n",
       "    .dataframe tbody tr th:only-of-type {\n",
       "        vertical-align: middle;\n",
       "    }\n",
       "\n",
       "    .dataframe tbody tr th {\n",
       "        vertical-align: top;\n",
       "    }\n",
       "\n",
       "    .dataframe thead th {\n",
       "        text-align: right;\n",
       "    }\n",
       "</style>\n",
       "<table border=\"1\" class=\"dataframe\">\n",
       "  <thead>\n",
       "    <tr style=\"text-align: right;\">\n",
       "      <th>Customer ID</th>\n",
       "      <th>NaN</th>\n",
       "      <th>17841.0</th>\n",
       "      <th>14911.0</th>\n",
       "      <th>14096.0</th>\n",
       "      <th>12748.0</th>\n",
       "    </tr>\n",
       "  </thead>\n",
       "  <tbody>\n",
       "    <tr>\n",
       "      <th>proportion</th>\n",
       "      <td>0.249266</td>\n",
       "      <td>0.014731</td>\n",
       "      <td>0.010893</td>\n",
       "      <td>0.009463</td>\n",
       "      <td>0.008566</td>\n",
       "    </tr>\n",
       "  </tbody>\n",
       "</table>\n",
       "</div>"
      ],
      "text/plain": [
       "Customer ID   NaN       17841.0   14911.0   14096.0   12748.0\n",
       "proportion   0.249266  0.014731  0.010893  0.009463  0.008566"
      ]
     },
     "execution_count": 5,
     "metadata": {},
     "output_type": "execute_result"
    }
   ],
   "source": [
    "df['Customer ID'].value_counts(dropna=False, normalize=True).to_frame().head(5).T"
   ]
  },
  {
   "cell_type": "code",
   "execution_count": 6,
   "id": "e3524859-dfdc-48b2-818f-b8c9dd2a38d0",
   "metadata": {},
   "outputs": [],
   "source": [
    "df_mc = df[df['Customer ID'].isna()].copy() # Missing Customers\n",
    "df_mc['Customer ID'] = 0"
   ]
  },
  {
   "cell_type": "code",
   "execution_count": 7,
   "id": "368cc581-4d0a-4271-a24c-fe00a9cd488e",
   "metadata": {},
   "outputs": [],
   "source": [
    "df.dropna(subset='Customer ID', ignore_index=True, inplace=True)\n",
    "df['Customer ID'] = df['Customer ID'].astype('int')"
   ]
  },
  {
   "cell_type": "markdown",
   "id": "e84cacb6-e097-47bd-9c8d-7fd05b37febf",
   "metadata": {},
   "source": [
    "<p style=\"background-image: linear-gradient(#f87674, #ffffff 10%); font-weight:bold;\">\n",
    "    &nbsp; ALTERNATIVE - If there is no customer with ID number 0 (zero), set the missing customer ID to zero </p>"
   ]
  },
  {
   "cell_type": "code",
   "execution_count": 8,
   "id": "c9824322-6cb6-42e7-8ed9-aa93b9449f8d",
   "metadata": {},
   "outputs": [],
   "source": [
    "if not (df['Customer ID']==0).any(): \n",
    "    # Already dropped\n",
    "    df.fillna({'Customer ID':0}, inplace=True)"
   ]
  },
  {
   "cell_type": "markdown",
   "id": "6f2fd165-5f5f-437a-b28c-2a3a25595957",
   "metadata": {},
   "source": [
    "<p style=\"background-image: linear-gradient(#f87674, #ffffff 10%); font-weight:bold;\">\n",
    "    &nbsp; ALTERNATIVE - Column can be deleted if there will be no customer-based implementations </p>"
   ]
  },
  {
   "cell_type": "code",
   "execution_count": 9,
   "id": "07c21f26-72e5-4c50-9407-9aee8c314310",
   "metadata": {},
   "outputs": [],
   "source": [
    "# df.drop(columns='Customer ID', inplace=True)\n",
    "# display(df.sample(3))"
   ]
  },
  {
   "cell_type": "markdown",
   "id": "2c21c9f2-a5c2-4d76-ba00-732fda86f7f2",
   "metadata": {},
   "source": [
    "<p style=\"background-image: linear-gradient(to right, #ee2965, #e31837)\"> &nbsp; </p>"
   ]
  },
  {
   "cell_type": "code",
   "execution_count": 10,
   "id": "c365de5f-6e89-45aa-af4c-e610c86e8d1f",
   "metadata": {},
   "outputs": [
    {
     "data": {
      "text/html": [
       "<div>\n",
       "<style scoped>\n",
       "    .dataframe tbody tr th:only-of-type {\n",
       "        vertical-align: middle;\n",
       "    }\n",
       "\n",
       "    .dataframe tbody tr th {\n",
       "        vertical-align: top;\n",
       "    }\n",
       "\n",
       "    .dataframe thead th {\n",
       "        text-align: right;\n",
       "    }\n",
       "</style>\n",
       "<table border=\"1\" class=\"dataframe\">\n",
       "  <thead>\n",
       "    <tr style=\"text-align: right;\">\n",
       "      <th>Customer ID</th>\n",
       "      <th>17841</th>\n",
       "      <th>14911</th>\n",
       "      <th>14096</th>\n",
       "      <th>12748</th>\n",
       "      <th>14606</th>\n",
       "    </tr>\n",
       "  </thead>\n",
       "  <tbody>\n",
       "    <tr>\n",
       "      <th>proportion</th>\n",
       "      <td>0.019622</td>\n",
       "      <td>0.01451</td>\n",
       "      <td>0.012605</td>\n",
       "      <td>0.01141</td>\n",
       "      <td>0.006838</td>\n",
       "    </tr>\n",
       "  </tbody>\n",
       "</table>\n",
       "</div>"
      ],
      "text/plain": [
       "Customer ID     17841    14911     14096    12748     14606\n",
       "proportion   0.019622  0.01451  0.012605  0.01141  0.006838"
      ]
     },
     "metadata": {},
     "output_type": "display_data"
    },
    {
     "data": {
      "text/html": [
       "<div>\n",
       "<style scoped>\n",
       "    .dataframe tbody tr th:only-of-type {\n",
       "        vertical-align: middle;\n",
       "    }\n",
       "\n",
       "    .dataframe tbody tr th {\n",
       "        vertical-align: top;\n",
       "    }\n",
       "\n",
       "    .dataframe thead th {\n",
       "        text-align: right;\n",
       "    }\n",
       "</style>\n",
       "<table border=\"1\" class=\"dataframe\">\n",
       "  <thead>\n",
       "    <tr style=\"text-align: right;\">\n",
       "      <th></th>\n",
       "      <th>Invoice</th>\n",
       "      <th>StockCode</th>\n",
       "      <th>Description</th>\n",
       "      <th>Quantity</th>\n",
       "      <th>InvoiceDate</th>\n",
       "      <th>Price</th>\n",
       "      <th>Customer ID</th>\n",
       "      <th>Country</th>\n",
       "    </tr>\n",
       "  </thead>\n",
       "  <tbody>\n",
       "    <tr>\n",
       "      <th>0</th>\n",
       "      <td>0</td>\n",
       "      <td>0</td>\n",
       "      <td>0</td>\n",
       "      <td>0</td>\n",
       "      <td>0</td>\n",
       "      <td>0</td>\n",
       "      <td>0</td>\n",
       "      <td>0</td>\n",
       "    </tr>\n",
       "  </tbody>\n",
       "</table>\n",
       "</div>"
      ],
      "text/plain": [
       "   Invoice  StockCode  Description  Quantity  InvoiceDate  Price  Customer ID  \\\n",
       "0        0          0            0         0            0      0            0   \n",
       "\n",
       "   Country  \n",
       "0        0  "
      ]
     },
     "metadata": {},
     "output_type": "display_data"
    }
   ],
   "source": [
    "display(\n",
    "    df['Customer ID'].value_counts(dropna=False, normalize=True).to_frame().head(5).T,\n",
    "    df.isna().sum().to_frame().T\n",
    ")"
   ]
  },
  {
   "cell_type": "markdown",
   "id": "9446a447-5039-4857-aa63-bbb4f511cb2a",
   "metadata": {},
   "source": [
    "<p style=\"background-image: linear-gradient(to right, #0aa98f, #68dab2)\"> &nbsp; </p>"
   ]
  },
  {
   "cell_type": "markdown",
   "id": "b82d6680-2ce9-489b-b257-3925ffdd7101",
   "metadata": {},
   "source": [
    "<p style=\"background-image: linear-gradient(#0aa98f, #ffffff 10%); font-weight:bold;\"> \n",
    "    &nbsp; Add feature for total price</p>"
   ]
  },
  {
   "cell_type": "code",
   "execution_count": 11,
   "id": "48d01199-cbd8-4ad6-9e2b-256fb17123c0",
   "metadata": {},
   "outputs": [
    {
     "data": {
      "text/html": [
       "<div>\n",
       "<style scoped>\n",
       "    .dataframe tbody tr th:only-of-type {\n",
       "        vertical-align: middle;\n",
       "    }\n",
       "\n",
       "    .dataframe tbody tr th {\n",
       "        vertical-align: top;\n",
       "    }\n",
       "\n",
       "    .dataframe thead th {\n",
       "        text-align: right;\n",
       "    }\n",
       "</style>\n",
       "<table border=\"1\" class=\"dataframe\">\n",
       "  <thead>\n",
       "    <tr style=\"text-align: right;\">\n",
       "      <th></th>\n",
       "      <th>Invoice</th>\n",
       "      <th>StockCode</th>\n",
       "      <th>Description</th>\n",
       "      <th>Quantity</th>\n",
       "      <th>InvoiceDate</th>\n",
       "      <th>Price</th>\n",
       "      <th>Customer ID</th>\n",
       "      <th>Country</th>\n",
       "      <th>Total</th>\n",
       "    </tr>\n",
       "  </thead>\n",
       "  <tbody>\n",
       "    <tr>\n",
       "      <th>215192</th>\n",
       "      <td>563090</td>\n",
       "      <td>20727</td>\n",
       "      <td>LUNCH BAG  BLACK SKULL.</td>\n",
       "      <td>10</td>\n",
       "      <td>2011-08-11 17:00:00</td>\n",
       "      <td>1.65</td>\n",
       "      <td>16186</td>\n",
       "      <td>United Kingdom</td>\n",
       "      <td>16.50</td>\n",
       "    </tr>\n",
       "    <tr>\n",
       "      <th>89372</th>\n",
       "      <td>547651</td>\n",
       "      <td>22979</td>\n",
       "      <td>PANTRY WASHING UP BRUSH</td>\n",
       "      <td>1</td>\n",
       "      <td>2011-03-24 12:11:00</td>\n",
       "      <td>1.45</td>\n",
       "      <td>16904</td>\n",
       "      <td>United Kingdom</td>\n",
       "      <td>1.45</td>\n",
       "    </tr>\n",
       "    <tr>\n",
       "      <th>89599</th>\n",
       "      <td>547656</td>\n",
       "      <td>21212</td>\n",
       "      <td>PACK OF 72 RETROSPOT CAKE CASES</td>\n",
       "      <td>3</td>\n",
       "      <td>2011-03-24 12:53:00</td>\n",
       "      <td>0.55</td>\n",
       "      <td>13263</td>\n",
       "      <td>United Kingdom</td>\n",
       "      <td>1.65</td>\n",
       "    </tr>\n",
       "  </tbody>\n",
       "</table>\n",
       "</div>"
      ],
      "text/plain": [
       "       Invoice StockCode                      Description  Quantity  \\\n",
       "215192  563090     20727          LUNCH BAG  BLACK SKULL.        10   \n",
       "89372   547651     22979          PANTRY WASHING UP BRUSH         1   \n",
       "89599   547656     21212  PACK OF 72 RETROSPOT CAKE CASES         3   \n",
       "\n",
       "               InvoiceDate  Price  Customer ID         Country  Total  \n",
       "215192 2011-08-11 17:00:00   1.65        16186  United Kingdom  16.50  \n",
       "89372  2011-03-24 12:11:00   1.45        16904  United Kingdom   1.45  \n",
       "89599  2011-03-24 12:53:00   0.55        13263  United Kingdom   1.65  "
      ]
     },
     "metadata": {},
     "output_type": "display_data"
    }
   ],
   "source": [
    "df['Total'] = df['Price'] * df['Quantity']\n",
    "display(df.sample(3))"
   ]
  },
  {
   "cell_type": "markdown",
   "id": "815e6ee0-60b1-45c6-a12a-76c7155da2e0",
   "metadata": {},
   "source": [
    "<p style=\"background-image: linear-gradient(to right, #0aa98f, #68dab2)\"> &nbsp; </p>"
   ]
  },
  {
   "cell_type": "markdown",
   "id": "0500a511-79bf-49ae-b712-e1ae3275c9d3",
   "metadata": {},
   "source": [
    "<p style=\"background-image: linear-gradient(#0aa98f, #ffffff 10%); font-weight:bold;\"> \n",
    "    &nbsp; FILTER VALUES - by their structure and logical values </p>"
   ]
  },
  {
   "cell_type": "code",
   "execution_count": 12,
   "id": "c9f83ae8-da64-4078-b242-6963d5181150",
   "metadata": {},
   "outputs": [
    {
     "data": {
      "text/html": [
       "<div>\n",
       "<style scoped>\n",
       "    .dataframe tbody tr th:only-of-type {\n",
       "        vertical-align: middle;\n",
       "    }\n",
       "\n",
       "    .dataframe tbody tr th {\n",
       "        vertical-align: top;\n",
       "    }\n",
       "\n",
       "    .dataframe thead th {\n",
       "        text-align: right;\n",
       "    }\n",
       "</style>\n",
       "<table border=\"1\" class=\"dataframe\">\n",
       "  <thead>\n",
       "    <tr style=\"text-align: right;\">\n",
       "      <th></th>\n",
       "      <th>Invoice</th>\n",
       "      <th>StockCode</th>\n",
       "      <th>Description</th>\n",
       "      <th>Quantity</th>\n",
       "      <th>InvoiceDate</th>\n",
       "      <th>Price</th>\n",
       "      <th>Customer ID</th>\n",
       "      <th>Country</th>\n",
       "      <th>Total</th>\n",
       "    </tr>\n",
       "  </thead>\n",
       "  <tbody>\n",
       "    <tr>\n",
       "      <th>397922</th>\n",
       "      <td>581587</td>\n",
       "      <td>23255</td>\n",
       "      <td>CHILDRENS CUTLERY CIRCUS PARADE</td>\n",
       "      <td>4</td>\n",
       "      <td>2011-12-09 12:50:00</td>\n",
       "      <td>4.15</td>\n",
       "      <td>12680</td>\n",
       "      <td>France</td>\n",
       "      <td>16.60</td>\n",
       "    </tr>\n",
       "    <tr>\n",
       "      <th>397923</th>\n",
       "      <td>581587</td>\n",
       "      <td>22138</td>\n",
       "      <td>BAKING SET 9 PIECE RETROSPOT</td>\n",
       "      <td>3</td>\n",
       "      <td>2011-12-09 12:50:00</td>\n",
       "      <td>4.95</td>\n",
       "      <td>12680</td>\n",
       "      <td>France</td>\n",
       "      <td>14.85</td>\n",
       "    </tr>\n",
       "    <tr>\n",
       "      <th>397924</th>\n",
       "      <td>581587</td>\n",
       "      <td>POST</td>\n",
       "      <td>POSTAGE</td>\n",
       "      <td>1</td>\n",
       "      <td>2011-12-09 12:50:00</td>\n",
       "      <td>18.00</td>\n",
       "      <td>12680</td>\n",
       "      <td>France</td>\n",
       "      <td>18.00</td>\n",
       "    </tr>\n",
       "  </tbody>\n",
       "</table>\n",
       "</div>"
      ],
      "text/plain": [
       "       Invoice StockCode                      Description  Quantity  \\\n",
       "397922  581587     23255  CHILDRENS CUTLERY CIRCUS PARADE         4   \n",
       "397923  581587     22138    BAKING SET 9 PIECE RETROSPOT          3   \n",
       "397924  581587      POST                          POSTAGE         1   \n",
       "\n",
       "               InvoiceDate  Price  Customer ID Country  Total  \n",
       "397922 2011-12-09 12:50:00   4.15        12680  France  16.60  \n",
       "397923 2011-12-09 12:50:00   4.95        12680  France  14.85  \n",
       "397924 2011-12-09 12:50:00  18.00        12680  France  18.00  "
      ]
     },
     "metadata": {},
     "output_type": "display_data"
    }
   ],
   "source": [
    "filt = df['Invoice'].str.contains('C', na=False)\n",
    "indexes = df[filt].index\n",
    "\n",
    "df.drop(index=indexes, inplace=True)\n",
    "df.reset_index(drop=True, inplace=True)\n",
    "display(df.tail(3))"
   ]
  },
  {
   "cell_type": "code",
   "execution_count": 13,
   "id": "2e5439df-be58-44ce-ba8c-8c1d5ca5b996",
   "metadata": {},
   "outputs": [
    {
     "data": {
      "text/html": [
       "<div>\n",
       "<style scoped>\n",
       "    .dataframe tbody tr th:only-of-type {\n",
       "        vertical-align: middle;\n",
       "    }\n",
       "\n",
       "    .dataframe tbody tr th {\n",
       "        vertical-align: top;\n",
       "    }\n",
       "\n",
       "    .dataframe thead th {\n",
       "        text-align: right;\n",
       "    }\n",
       "</style>\n",
       "<table border=\"1\" class=\"dataframe\">\n",
       "  <thead>\n",
       "    <tr style=\"text-align: right;\">\n",
       "      <th></th>\n",
       "      <th>Invoice</th>\n",
       "      <th>StockCode</th>\n",
       "      <th>Description</th>\n",
       "      <th>Quantity</th>\n",
       "      <th>InvoiceDate</th>\n",
       "      <th>Price</th>\n",
       "      <th>Customer ID</th>\n",
       "      <th>Country</th>\n",
       "      <th>Total</th>\n",
       "    </tr>\n",
       "  </thead>\n",
       "  <tbody>\n",
       "  </tbody>\n",
       "</table>\n",
       "</div>"
      ],
      "text/plain": [
       "Empty DataFrame\n",
       "Columns: [Invoice, StockCode, Description, Quantity, InvoiceDate, Price, Customer ID, Country, Total]\n",
       "Index: []"
      ]
     },
     "metadata": {},
     "output_type": "display_data"
    },
    {
     "data": {
      "text/html": [
       "<div>\n",
       "<style scoped>\n",
       "    .dataframe tbody tr th:only-of-type {\n",
       "        vertical-align: middle;\n",
       "    }\n",
       "\n",
       "    .dataframe tbody tr th {\n",
       "        vertical-align: top;\n",
       "    }\n",
       "\n",
       "    .dataframe thead th {\n",
       "        text-align: right;\n",
       "    }\n",
       "</style>\n",
       "<table border=\"1\" class=\"dataframe\">\n",
       "  <thead>\n",
       "    <tr style=\"text-align: right;\">\n",
       "      <th></th>\n",
       "      <th>Invoice</th>\n",
       "      <th>StockCode</th>\n",
       "      <th>Description</th>\n",
       "      <th>Quantity</th>\n",
       "      <th>InvoiceDate</th>\n",
       "      <th>Price</th>\n",
       "      <th>Customer ID</th>\n",
       "      <th>Country</th>\n",
       "      <th>Total</th>\n",
       "    </tr>\n",
       "  </thead>\n",
       "  <tbody>\n",
       "    <tr>\n",
       "      <th>73999</th>\n",
       "      <td>546003</td>\n",
       "      <td>22398</td>\n",
       "      <td>MAGNETS PACK OF 4 SWALLOWS</td>\n",
       "      <td>1</td>\n",
       "      <td>2011-03-08 15:07:00</td>\n",
       "      <td>1.25</td>\n",
       "      <td>16712</td>\n",
       "      <td>United Kingdom</td>\n",
       "      <td>1.25</td>\n",
       "    </tr>\n",
       "    <tr>\n",
       "      <th>342167</th>\n",
       "      <td>576098</td>\n",
       "      <td>23319</td>\n",
       "      <td>BOX OF 6 MINI 50'S CRACKERS</td>\n",
       "      <td>6</td>\n",
       "      <td>2011-11-14 10:01:00</td>\n",
       "      <td>2.49</td>\n",
       "      <td>14862</td>\n",
       "      <td>United Kingdom</td>\n",
       "      <td>14.94</td>\n",
       "    </tr>\n",
       "    <tr>\n",
       "      <th>350299</th>\n",
       "      <td>576931</td>\n",
       "      <td>35923</td>\n",
       "      <td>CANDY HEART HANGING DECORATION</td>\n",
       "      <td>96</td>\n",
       "      <td>2011-11-17 11:10:00</td>\n",
       "      <td>0.39</td>\n",
       "      <td>13028</td>\n",
       "      <td>United Kingdom</td>\n",
       "      <td>37.44</td>\n",
       "    </tr>\n",
       "  </tbody>\n",
       "</table>\n",
       "</div>"
      ],
      "text/plain": [
       "       Invoice StockCode                     Description  Quantity  \\\n",
       "73999   546003     22398      MAGNETS PACK OF 4 SWALLOWS         1   \n",
       "342167  576098     23319     BOX OF 6 MINI 50'S CRACKERS         6   \n",
       "350299  576931     35923  CANDY HEART HANGING DECORATION        96   \n",
       "\n",
       "               InvoiceDate  Price  Customer ID         Country  Total  \n",
       "73999  2011-03-08 15:07:00   1.25        16712  United Kingdom   1.25  \n",
       "342167 2011-11-14 10:01:00   2.49        14862  United Kingdom  14.94  \n",
       "350299 2011-11-17 11:10:00   0.39        13028  United Kingdom  37.44  "
      ]
     },
     "metadata": {},
     "output_type": "display_data"
    }
   ],
   "source": [
    "filt = (df['Invoice'].str.len() != 6) | (~df['Invoice'].str.isdigit())\n",
    "indexes = df[filt].index\n",
    "display(df.loc[indexes].tail(3))\n",
    "\n",
    "df.drop(index=indexes, inplace=True)\n",
    "df.reset_index(drop=True, inplace=True)\n",
    "display(df.sample(3))"
   ]
  },
  {
   "cell_type": "code",
   "execution_count": 14,
   "id": "9f87b70f-e0fd-49c3-80a5-aeb590f6c88e",
   "metadata": {},
   "outputs": [],
   "source": [
    "df['Invoice'] = df['Invoice'].astype('int')"
   ]
  },
  {
   "cell_type": "markdown",
   "id": "68a0069f-d6e8-4b15-89ce-b0ef0d904aa2",
   "metadata": {},
   "source": [
    "<p style=\"background-image: linear-gradient(#0aa98f, #ffffff 10%); font-weight:bold;\"> \n",
    "    &nbsp; </p>"
   ]
  },
  {
   "cell_type": "code",
   "execution_count": 15,
   "id": "970bac07-1177-4ff7-af7e-d57c308d0d8d",
   "metadata": {},
   "outputs": [
    {
     "data": {
      "text/html": [
       "<div>\n",
       "<style scoped>\n",
       "    .dataframe tbody tr th:only-of-type {\n",
       "        vertical-align: middle;\n",
       "    }\n",
       "\n",
       "    .dataframe tbody tr th {\n",
       "        vertical-align: top;\n",
       "    }\n",
       "\n",
       "    .dataframe thead th {\n",
       "        text-align: right;\n",
       "    }\n",
       "</style>\n",
       "<table border=\"1\" class=\"dataframe\">\n",
       "  <thead>\n",
       "    <tr style=\"text-align: right;\">\n",
       "      <th></th>\n",
       "      <th>Invoice</th>\n",
       "      <th>StockCode</th>\n",
       "      <th>Description</th>\n",
       "      <th>Quantity</th>\n",
       "      <th>InvoiceDate</th>\n",
       "      <th>Price</th>\n",
       "      <th>Customer ID</th>\n",
       "      <th>Country</th>\n",
       "      <th>Total</th>\n",
       "    </tr>\n",
       "  </thead>\n",
       "  <tbody>\n",
       "    <tr>\n",
       "      <th>397862</th>\n",
       "      <td>581580</td>\n",
       "      <td>85049A</td>\n",
       "      <td>TRADITIONAL CHRISTMAS RIBBONS</td>\n",
       "      <td>1</td>\n",
       "      <td>2011-12-09 12:20:00</td>\n",
       "      <td>1.25</td>\n",
       "      <td>12748</td>\n",
       "      <td>United Kingdom</td>\n",
       "      <td>1.25</td>\n",
       "    </tr>\n",
       "    <tr>\n",
       "      <th>397871</th>\n",
       "      <td>581580</td>\n",
       "      <td>85049E</td>\n",
       "      <td>SCANDINAVIAN REDS RIBBONS</td>\n",
       "      <td>2</td>\n",
       "      <td>2011-12-09 12:20:00</td>\n",
       "      <td>1.25</td>\n",
       "      <td>12748</td>\n",
       "      <td>United Kingdom</td>\n",
       "      <td>2.50</td>\n",
       "    </tr>\n",
       "    <tr>\n",
       "      <th>397924</th>\n",
       "      <td>581587</td>\n",
       "      <td>POST</td>\n",
       "      <td>POSTAGE</td>\n",
       "      <td>1</td>\n",
       "      <td>2011-12-09 12:50:00</td>\n",
       "      <td>18.00</td>\n",
       "      <td>12680</td>\n",
       "      <td>France</td>\n",
       "      <td>18.00</td>\n",
       "    </tr>\n",
       "  </tbody>\n",
       "</table>\n",
       "</div>"
      ],
      "text/plain": [
       "        Invoice StockCode                    Description  Quantity  \\\n",
       "397862   581580    85049A  TRADITIONAL CHRISTMAS RIBBONS         1   \n",
       "397871   581580    85049E      SCANDINAVIAN REDS RIBBONS         2   \n",
       "397924   581587      POST                        POSTAGE         1   \n",
       "\n",
       "               InvoiceDate  Price  Customer ID         Country  Total  \n",
       "397862 2011-12-09 12:20:00   1.25        12748  United Kingdom   1.25  \n",
       "397871 2011-12-09 12:20:00   1.25        12748  United Kingdom   2.50  \n",
       "397924 2011-12-09 12:50:00  18.00        12680          France  18.00  "
      ]
     },
     "metadata": {},
     "output_type": "display_data"
    },
    {
     "data": {
      "text/html": [
       "<div>\n",
       "<style scoped>\n",
       "    .dataframe tbody tr th:only-of-type {\n",
       "        vertical-align: middle;\n",
       "    }\n",
       "\n",
       "    .dataframe tbody tr th {\n",
       "        vertical-align: top;\n",
       "    }\n",
       "\n",
       "    .dataframe thead th {\n",
       "        text-align: right;\n",
       "    }\n",
       "</style>\n",
       "<table border=\"1\" class=\"dataframe\">\n",
       "  <thead>\n",
       "    <tr style=\"text-align: right;\">\n",
       "      <th></th>\n",
       "      <th>Invoice</th>\n",
       "      <th>StockCode</th>\n",
       "      <th>Description</th>\n",
       "      <th>Quantity</th>\n",
       "      <th>InvoiceDate</th>\n",
       "      <th>Price</th>\n",
       "      <th>Customer ID</th>\n",
       "      <th>Country</th>\n",
       "      <th>Total</th>\n",
       "    </tr>\n",
       "  </thead>\n",
       "  <tbody>\n",
       "    <tr>\n",
       "      <th>36026</th>\n",
       "      <td>541859</td>\n",
       "      <td>21617</td>\n",
       "      <td>4 LILY  BOTANICAL DINNER CANDLES</td>\n",
       "      <td>1</td>\n",
       "      <td>2011-01-23 15:34:00</td>\n",
       "      <td>3.75</td>\n",
       "      <td>14606</td>\n",
       "      <td>United Kingdom</td>\n",
       "      <td>3.75</td>\n",
       "    </tr>\n",
       "    <tr>\n",
       "      <th>281301</th>\n",
       "      <td>573151</td>\n",
       "      <td>21494</td>\n",
       "      <td>ROTATING LEAVES T-LIGHT HOLDER</td>\n",
       "      <td>60</td>\n",
       "      <td>2011-10-27 20:09:00</td>\n",
       "      <td>1.25</td>\n",
       "      <td>17602</td>\n",
       "      <td>United Kingdom</td>\n",
       "      <td>75.00</td>\n",
       "    </tr>\n",
       "    <tr>\n",
       "      <th>23012</th>\n",
       "      <td>539982</td>\n",
       "      <td>48111</td>\n",
       "      <td>DOORMAT 3 SMILEY CATS</td>\n",
       "      <td>10</td>\n",
       "      <td>2010-12-23 14:40:00</td>\n",
       "      <td>6.75</td>\n",
       "      <td>15311</td>\n",
       "      <td>United Kingdom</td>\n",
       "      <td>67.50</td>\n",
       "    </tr>\n",
       "  </tbody>\n",
       "</table>\n",
       "</div>"
      ],
      "text/plain": [
       "        Invoice StockCode                       Description  Quantity  \\\n",
       "36026    541859     21617  4 LILY  BOTANICAL DINNER CANDLES         1   \n",
       "281301   573151     21494    ROTATING LEAVES T-LIGHT HOLDER        60   \n",
       "23012    539982     48111             DOORMAT 3 SMILEY CATS        10   \n",
       "\n",
       "               InvoiceDate  Price  Customer ID         Country  Total  \n",
       "36026  2011-01-23 15:34:00   3.75        14606  United Kingdom   3.75  \n",
       "281301 2011-10-27 20:09:00   1.25        17602  United Kingdom  75.00  \n",
       "23012  2010-12-23 14:40:00   6.75        15311  United Kingdom  67.50  "
      ]
     },
     "metadata": {},
     "output_type": "display_data"
    }
   ],
   "source": [
    "filt = ~df['StockCode'].str.isdigit()\n",
    "indexes = df[filt].index\n",
    "display(df.loc[indexes].tail(3))\n",
    "\n",
    "df.drop(index=indexes, inplace=True)\n",
    "df.reset_index(drop=True, inplace=True)\n",
    "display(df.sample(3))"
   ]
  },
  {
   "cell_type": "code",
   "execution_count": 16,
   "id": "476fe363-0cc3-4a4c-8162-5c26aca53909",
   "metadata": {},
   "outputs": [],
   "source": [
    "df['StockCode'] = df['StockCode'].astype('int')"
   ]
  },
  {
   "cell_type": "markdown",
   "id": "3145ef2b-1724-48a7-9485-72f9b8006f80",
   "metadata": {},
   "source": [
    "<p style=\"background-image: linear-gradient(#0aa98f, #ffffff 10%); font-weight:bold;\"> \n",
    "    &nbsp; </p>"
   ]
  },
  {
   "cell_type": "code",
   "execution_count": 17,
   "id": "e8d6e030-ccc4-48e6-b786-a8b13f243ec3",
   "metadata": {},
   "outputs": [
    {
     "data": {
      "text/html": [
       "<div>\n",
       "<style scoped>\n",
       "    .dataframe tbody tr th:only-of-type {\n",
       "        vertical-align: middle;\n",
       "    }\n",
       "\n",
       "    .dataframe tbody tr th {\n",
       "        vertical-align: top;\n",
       "    }\n",
       "\n",
       "    .dataframe thead th {\n",
       "        text-align: right;\n",
       "    }\n",
       "</style>\n",
       "<table border=\"1\" class=\"dataframe\">\n",
       "  <thead>\n",
       "    <tr style=\"text-align: right;\">\n",
       "      <th></th>\n",
       "      <th>Invoice</th>\n",
       "      <th>StockCode</th>\n",
       "      <th>Description</th>\n",
       "      <th>Quantity</th>\n",
       "      <th>InvoiceDate</th>\n",
       "      <th>Price</th>\n",
       "      <th>Customer ID</th>\n",
       "      <th>Country</th>\n",
       "      <th>Total</th>\n",
       "    </tr>\n",
       "  </thead>\n",
       "  <tbody>\n",
       "  </tbody>\n",
       "</table>\n",
       "</div>"
      ],
      "text/plain": [
       "Empty DataFrame\n",
       "Columns: [Invoice, StockCode, Description, Quantity, InvoiceDate, Price, Customer ID, Country, Total]\n",
       "Index: []"
      ]
     },
     "metadata": {},
     "output_type": "display_data"
    },
    {
     "data": {
      "text/html": [
       "<div>\n",
       "<style scoped>\n",
       "    .dataframe tbody tr th:only-of-type {\n",
       "        vertical-align: middle;\n",
       "    }\n",
       "\n",
       "    .dataframe tbody tr th {\n",
       "        vertical-align: top;\n",
       "    }\n",
       "\n",
       "    .dataframe thead th {\n",
       "        text-align: right;\n",
       "    }\n",
       "</style>\n",
       "<table border=\"1\" class=\"dataframe\">\n",
       "  <thead>\n",
       "    <tr style=\"text-align: right;\">\n",
       "      <th></th>\n",
       "      <th>Invoice</th>\n",
       "      <th>StockCode</th>\n",
       "      <th>Description</th>\n",
       "      <th>Quantity</th>\n",
       "      <th>InvoiceDate</th>\n",
       "      <th>Price</th>\n",
       "      <th>Customer ID</th>\n",
       "      <th>Country</th>\n",
       "      <th>Total</th>\n",
       "    </tr>\n",
       "  </thead>\n",
       "  <tbody>\n",
       "    <tr>\n",
       "      <th>92</th>\n",
       "      <td>536381</td>\n",
       "      <td>71270</td>\n",
       "      <td>PHOTO CLIP LINE</td>\n",
       "      <td>1</td>\n",
       "      <td>2010-12-01 09:41:00</td>\n",
       "      <td>1.25</td>\n",
       "      <td>15311</td>\n",
       "      <td>United Kingdom</td>\n",
       "      <td>1.25</td>\n",
       "    </tr>\n",
       "    <tr>\n",
       "      <th>93</th>\n",
       "      <td>536381</td>\n",
       "      <td>22262</td>\n",
       "      <td>FELT EGG COSY CHICKEN</td>\n",
       "      <td>1</td>\n",
       "      <td>2010-12-01 09:41:00</td>\n",
       "      <td>0.85</td>\n",
       "      <td>15311</td>\n",
       "      <td>United Kingdom</td>\n",
       "      <td>0.85</td>\n",
       "    </tr>\n",
       "    <tr>\n",
       "      <th>94</th>\n",
       "      <td>536381</td>\n",
       "      <td>22637</td>\n",
       "      <td>PIGGY BANK RETROSPOT</td>\n",
       "      <td>1</td>\n",
       "      <td>2010-12-01 09:41:00</td>\n",
       "      <td>2.55</td>\n",
       "      <td>15311</td>\n",
       "      <td>United Kingdom</td>\n",
       "      <td>2.55</td>\n",
       "    </tr>\n",
       "  </tbody>\n",
       "</table>\n",
       "</div>"
      ],
      "text/plain": [
       "    Invoice  StockCode            Description  Quantity         InvoiceDate  \\\n",
       "92   536381      71270        PHOTO CLIP LINE         1 2010-12-01 09:41:00   \n",
       "93   536381      22262  FELT EGG COSY CHICKEN         1 2010-12-01 09:41:00   \n",
       "94   536381      22637  PIGGY BANK RETROSPOT          1 2010-12-01 09:41:00   \n",
       "\n",
       "    Price  Customer ID         Country  Total  \n",
       "92   1.25        15311  United Kingdom   1.25  \n",
       "93   0.85        15311  United Kingdom   0.85  \n",
       "94   2.55        15311  United Kingdom   2.55  "
      ]
     },
     "metadata": {},
     "output_type": "display_data"
    }
   ],
   "source": [
    "filt = df['Quantity'] <= 0\n",
    "indexes = df[filt].index\n",
    "display(df.loc[indexes].nsmallest(3, columns='Quantity'))\n",
    "\n",
    "df.drop(index=indexes, inplace=True)\n",
    "df.reset_index(drop=True, inplace=True)\n",
    "display(df.nsmallest(3, columns='Quantity'))"
   ]
  },
  {
   "cell_type": "markdown",
   "id": "f2427e52-6504-4906-81ff-59fe0a586bbb",
   "metadata": {},
   "source": [
    "<p style=\"background-image: linear-gradient(#0aa98f, #ffffff 10%); font-weight:bold;\"> \n",
    "    &nbsp; </p>"
   ]
  },
  {
   "cell_type": "code",
   "execution_count": 18,
   "id": "a2905692-ad9d-47f2-b4ec-496a9f838a17",
   "metadata": {},
   "outputs": [
    {
     "data": {
      "text/html": [
       "<div>\n",
       "<style scoped>\n",
       "    .dataframe tbody tr th:only-of-type {\n",
       "        vertical-align: middle;\n",
       "    }\n",
       "\n",
       "    .dataframe tbody tr th {\n",
       "        vertical-align: top;\n",
       "    }\n",
       "\n",
       "    .dataframe thead th {\n",
       "        text-align: right;\n",
       "    }\n",
       "</style>\n",
       "<table border=\"1\" class=\"dataframe\">\n",
       "  <thead>\n",
       "    <tr style=\"text-align: right;\">\n",
       "      <th></th>\n",
       "      <th>Invoice</th>\n",
       "      <th>StockCode</th>\n",
       "      <th>Description</th>\n",
       "      <th>Quantity</th>\n",
       "      <th>InvoiceDate</th>\n",
       "      <th>Price</th>\n",
       "      <th>Customer ID</th>\n",
       "      <th>Country</th>\n",
       "      <th>Total</th>\n",
       "    </tr>\n",
       "  </thead>\n",
       "  <tbody>\n",
       "    <tr>\n",
       "      <th>6098</th>\n",
       "      <td>537197</td>\n",
       "      <td>22841</td>\n",
       "      <td>ROUND CAKE TIN VINTAGE GREEN</td>\n",
       "      <td>1</td>\n",
       "      <td>2010-12-05 14:02:00</td>\n",
       "      <td>0.0</td>\n",
       "      <td>12647</td>\n",
       "      <td>Germany</td>\n",
       "      <td>0.0</td>\n",
       "    </tr>\n",
       "    <tr>\n",
       "      <th>19976</th>\n",
       "      <td>539263</td>\n",
       "      <td>22580</td>\n",
       "      <td>ADVENT CALENDAR GINGHAM SACK</td>\n",
       "      <td>4</td>\n",
       "      <td>2010-12-16 14:36:00</td>\n",
       "      <td>0.0</td>\n",
       "      <td>16560</td>\n",
       "      <td>United Kingdom</td>\n",
       "      <td>0.0</td>\n",
       "    </tr>\n",
       "    <tr>\n",
       "      <th>22432</th>\n",
       "      <td>539722</td>\n",
       "      <td>22423</td>\n",
       "      <td>REGENCY CAKESTAND 3 TIER</td>\n",
       "      <td>10</td>\n",
       "      <td>2010-12-21 13:45:00</td>\n",
       "      <td>0.0</td>\n",
       "      <td>14911</td>\n",
       "      <td>EIRE</td>\n",
       "      <td>0.0</td>\n",
       "    </tr>\n",
       "  </tbody>\n",
       "</table>\n",
       "</div>"
      ],
      "text/plain": [
       "       Invoice  StockCode                   Description  Quantity  \\\n",
       "6098    537197      22841  ROUND CAKE TIN VINTAGE GREEN         1   \n",
       "19976   539263      22580  ADVENT CALENDAR GINGHAM SACK         4   \n",
       "22432   539722      22423      REGENCY CAKESTAND 3 TIER        10   \n",
       "\n",
       "              InvoiceDate  Price  Customer ID         Country  Total  \n",
       "6098  2010-12-05 14:02:00    0.0        12647         Germany    0.0  \n",
       "19976 2010-12-16 14:36:00    0.0        16560  United Kingdom    0.0  \n",
       "22432 2010-12-21 13:45:00    0.0        14911            EIRE    0.0  "
      ]
     },
     "metadata": {},
     "output_type": "display_data"
    },
    {
     "data": {
      "text/html": [
       "<div>\n",
       "<style scoped>\n",
       "    .dataframe tbody tr th:only-of-type {\n",
       "        vertical-align: middle;\n",
       "    }\n",
       "\n",
       "    .dataframe tbody tr th {\n",
       "        vertical-align: top;\n",
       "    }\n",
       "\n",
       "    .dataframe thead th {\n",
       "        text-align: right;\n",
       "    }\n",
       "</style>\n",
       "<table border=\"1\" class=\"dataframe\">\n",
       "  <thead>\n",
       "    <tr style=\"text-align: right;\">\n",
       "      <th></th>\n",
       "      <th>Invoice</th>\n",
       "      <th>StockCode</th>\n",
       "      <th>Description</th>\n",
       "      <th>Quantity</th>\n",
       "      <th>InvoiceDate</th>\n",
       "      <th>Price</th>\n",
       "      <th>Customer ID</th>\n",
       "      <th>Country</th>\n",
       "      <th>Total</th>\n",
       "    </tr>\n",
       "  </thead>\n",
       "  <tbody>\n",
       "    <tr>\n",
       "      <th>136195</th>\n",
       "      <td>555876</td>\n",
       "      <td>16045</td>\n",
       "      <td>POPART WOODEN PENCILS ASST</td>\n",
       "      <td>100</td>\n",
       "      <td>2011-06-07 15:28:00</td>\n",
       "      <td>0.04</td>\n",
       "      <td>15799</td>\n",
       "      <td>United Kingdom</td>\n",
       "      <td>4.0</td>\n",
       "    </tr>\n",
       "    <tr>\n",
       "      <th>138794</th>\n",
       "      <td>556267</td>\n",
       "      <td>16045</td>\n",
       "      <td>POPART WOODEN PENCILS ASST</td>\n",
       "      <td>500</td>\n",
       "      <td>2011-06-09 19:33:00</td>\n",
       "      <td>0.04</td>\n",
       "      <td>13694</td>\n",
       "      <td>United Kingdom</td>\n",
       "      <td>20.0</td>\n",
       "    </tr>\n",
       "    <tr>\n",
       "      <th>143805</th>\n",
       "      <td>557006</td>\n",
       "      <td>16045</td>\n",
       "      <td>POPART WOODEN PENCILS ASST</td>\n",
       "      <td>100</td>\n",
       "      <td>2011-06-16 11:29:00</td>\n",
       "      <td>0.04</td>\n",
       "      <td>14282</td>\n",
       "      <td>United Kingdom</td>\n",
       "      <td>4.0</td>\n",
       "    </tr>\n",
       "  </tbody>\n",
       "</table>\n",
       "</div>"
      ],
      "text/plain": [
       "        Invoice  StockCode                 Description  Quantity  \\\n",
       "136195   555876      16045  POPART WOODEN PENCILS ASST       100   \n",
       "138794   556267      16045  POPART WOODEN PENCILS ASST       500   \n",
       "143805   557006      16045  POPART WOODEN PENCILS ASST       100   \n",
       "\n",
       "               InvoiceDate  Price  Customer ID         Country  Total  \n",
       "136195 2011-06-07 15:28:00   0.04        15799  United Kingdom    4.0  \n",
       "138794 2011-06-09 19:33:00   0.04        13694  United Kingdom   20.0  \n",
       "143805 2011-06-16 11:29:00   0.04        14282  United Kingdom    4.0  "
      ]
     },
     "metadata": {},
     "output_type": "display_data"
    }
   ],
   "source": [
    "filt = df['Price'] <= 0\n",
    "indexes = df[filt].index\n",
    "display(df.loc[indexes].nsmallest(3, columns='Price'))\n",
    "\n",
    "df.drop(index=indexes, inplace=True)\n",
    "df.reset_index(drop=True, inplace=True)\n",
    "display(df.nsmallest(3, columns='Price'))"
   ]
  },
  {
   "cell_type": "markdown",
   "id": "79be01c2-7d19-419f-a51c-d8cd335c7203",
   "metadata": {},
   "source": [
    "<p style=\"background-image: linear-gradient(to right, #0aa98f, #68dab2)\"> &nbsp; </p>"
   ]
  },
  {
   "cell_type": "markdown",
   "id": "5a2e145b-b12e-4861-90b2-0c581df83034",
   "metadata": {},
   "source": [
    "<p style=\"background-image: linear-gradient(#0aa98f, #ffffff 10%); font-weight:bold;\"> \n",
    "    &nbsp; REMOVE DUPLICATED </p>"
   ]
  },
  {
   "cell_type": "code",
   "execution_count": 19,
   "id": "544fb2dc-afd2-478c-bc9a-0aa05f593b1e",
   "metadata": {},
   "outputs": [
    {
     "data": {
      "text/plain": [
       "4810"
      ]
     },
     "execution_count": 19,
     "metadata": {},
     "output_type": "execute_result"
    }
   ],
   "source": [
    "# df[df.duplicated(keep=False)].sort_values(by=['Invoice', 'StockCode']).head(4)\n",
    "df.duplicated().sum()"
   ]
  },
  {
   "cell_type": "code",
   "execution_count": 20,
   "id": "12099fa8-cc33-44b7-aa83-0ac6794e2698",
   "metadata": {},
   "outputs": [
    {
     "data": {
      "text/plain": [
       "0"
      ]
     },
     "execution_count": 20,
     "metadata": {},
     "output_type": "execute_result"
    }
   ],
   "source": [
    "df.drop_duplicates(ignore_index=True, inplace=True)\n",
    "df.duplicated().sum()"
   ]
  },
  {
   "cell_type": "markdown",
   "id": "116c0f55-bc33-487d-9ba5-b3d4e38667cd",
   "metadata": {},
   "source": [
    "<p style=\"background-image: linear-gradient(to right, #0aa98f, #68dab2)\"> &nbsp; </p>"
   ]
  },
  {
   "cell_type": "markdown",
   "id": "5e4b9341-5089-4892-a4fd-f38219cc16ad",
   "metadata": {},
   "source": [
    "<p style=\"background-image: linear-gradient(#0aa98f, #ffffff 10%); font-weight:bold;\"> \n",
    "    &nbsp; REMOVE OUTLIERS </p>"
   ]
  },
  {
   "cell_type": "code",
   "execution_count": 21,
   "id": "9107613d-5d65-4c10-89b4-0b300406e63a",
   "metadata": {},
   "outputs": [
    {
     "data": {
      "image/png": "[encoded data removed]",
      "text/plain": [
       "<Figure size 700x300 with 1 Axes>"
      ]
     },
     "metadata": {},
     "output_type": "display_data"
    }
   ],
   "source": [
    "columns = ['Quantity', 'Price', 'Total']\n",
    "\n",
    "sns.boxplot(df[columns], orient='h')\n",
    "plt.gcf().set_size_inches(7,3)\n",
    "plt.show()"
   ]
  },
  {
   "cell_type": "code",
   "execution_count": 22,
   "id": "85995b4b-a7f7-4a3a-b2d4-7c8e38450873",
   "metadata": {},
   "outputs": [
    {
     "name": "stdout",
     "output_type": "stream",
     "text": [
      "Quantity : 23308\n"
     ]
    },
    {
     "data": {
      "text/html": [
       "<div>\n",
       "<style scoped>\n",
       "    .dataframe tbody tr th:only-of-type {\n",
       "        vertical-align: middle;\n",
       "    }\n",
       "\n",
       "    .dataframe tbody tr th {\n",
       "        vertical-align: top;\n",
       "    }\n",
       "\n",
       "    .dataframe thead th {\n",
       "        text-align: right;\n",
       "    }\n",
       "</style>\n",
       "<table border=\"1\" class=\"dataframe\">\n",
       "  <thead>\n",
       "    <tr style=\"text-align: right;\">\n",
       "      <th></th>\n",
       "      <th>Invoice</th>\n",
       "      <th>StockCode</th>\n",
       "      <th>Description</th>\n",
       "      <th>Quantity</th>\n",
       "      <th>InvoiceDate</th>\n",
       "      <th>Price</th>\n",
       "      <th>Customer ID</th>\n",
       "      <th>Country</th>\n",
       "      <th>Total</th>\n",
       "    </tr>\n",
       "  </thead>\n",
       "  <tbody>\n",
       "    <tr>\n",
       "      <th>9</th>\n",
       "      <td>536367</td>\n",
       "      <td>84879</td>\n",
       "      <td>ASSORTED COLOUR BIRD ORNAMENT</td>\n",
       "      <td>32</td>\n",
       "      <td>2010-12-01 08:34:00</td>\n",
       "      <td>1.69</td>\n",
       "      <td>13047</td>\n",
       "      <td>United Kingdom</td>\n",
       "      <td>54.08</td>\n",
       "    </tr>\n",
       "    <tr>\n",
       "      <th>27</th>\n",
       "      <td>536370</td>\n",
       "      <td>10002</td>\n",
       "      <td>INFLATABLE POLITICAL GLOBE</td>\n",
       "      <td>48</td>\n",
       "      <td>2010-12-01 08:45:00</td>\n",
       "      <td>0.85</td>\n",
       "      <td>12583</td>\n",
       "      <td>France</td>\n",
       "      <td>40.80</td>\n",
       "    </tr>\n",
       "    <tr>\n",
       "      <th>40</th>\n",
       "      <td>536370</td>\n",
       "      <td>22492</td>\n",
       "      <td>MINI PAINT SET VINTAGE</td>\n",
       "      <td>36</td>\n",
       "      <td>2010-12-01 08:45:00</td>\n",
       "      <td>0.65</td>\n",
       "      <td>12583</td>\n",
       "      <td>France</td>\n",
       "      <td>23.40</td>\n",
       "    </tr>\n",
       "  </tbody>\n",
       "</table>\n",
       "</div>"
      ],
      "text/plain": [
       "    Invoice  StockCode                    Description  Quantity  \\\n",
       "9    536367      84879  ASSORTED COLOUR BIRD ORNAMENT        32   \n",
       "27   536370      10002    INFLATABLE POLITICAL GLOBE         48   \n",
       "40   536370      22492        MINI PAINT SET VINTAGE         36   \n",
       "\n",
       "           InvoiceDate  Price  Customer ID         Country  Total  \n",
       "9  2010-12-01 08:34:00   1.69        13047  United Kingdom  54.08  \n",
       "27 2010-12-01 08:45:00   0.85        12583          France  40.80  \n",
       "40 2010-12-01 08:45:00   0.65        12583          France  23.40  "
      ]
     },
     "metadata": {},
     "output_type": "display_data"
    },
    {
     "name": "stdout",
     "output_type": "stream",
     "text": [
      "Price : 31227\n"
     ]
    },
    {
     "data": {
      "text/html": [
       "<div>\n",
       "<style scoped>\n",
       "    .dataframe tbody tr th:only-of-type {\n",
       "        vertical-align: middle;\n",
       "    }\n",
       "\n",
       "    .dataframe tbody tr th {\n",
       "        vertical-align: top;\n",
       "    }\n",
       "\n",
       "    .dataframe thead th {\n",
       "        text-align: right;\n",
       "    }\n",
       "</style>\n",
       "<table border=\"1\" class=\"dataframe\">\n",
       "  <thead>\n",
       "    <tr style=\"text-align: right;\">\n",
       "      <th></th>\n",
       "      <th>Invoice</th>\n",
       "      <th>StockCode</th>\n",
       "      <th>Description</th>\n",
       "      <th>Quantity</th>\n",
       "      <th>InvoiceDate</th>\n",
       "      <th>Price</th>\n",
       "      <th>Customer ID</th>\n",
       "      <th>Country</th>\n",
       "      <th>Total</th>\n",
       "    </tr>\n",
       "  </thead>\n",
       "  <tbody>\n",
       "    <tr>\n",
       "      <th>1</th>\n",
       "      <td>536365</td>\n",
       "      <td>22752</td>\n",
       "      <td>SET 7 BABUSHKA NESTING BOXES</td>\n",
       "      <td>2</td>\n",
       "      <td>2010-12-01 08:26:00</td>\n",
       "      <td>7.65</td>\n",
       "      <td>17850</td>\n",
       "      <td>United Kingdom</td>\n",
       "      <td>15.3</td>\n",
       "    </tr>\n",
       "    <tr>\n",
       "      <th>15</th>\n",
       "      <td>536367</td>\n",
       "      <td>22622</td>\n",
       "      <td>BOX OF VINTAGE ALPHABET BLOCKS</td>\n",
       "      <td>2</td>\n",
       "      <td>2010-12-01 08:34:00</td>\n",
       "      <td>9.95</td>\n",
       "      <td>13047</td>\n",
       "      <td>United Kingdom</td>\n",
       "      <td>19.9</td>\n",
       "    </tr>\n",
       "    <tr>\n",
       "      <th>18</th>\n",
       "      <td>536367</td>\n",
       "      <td>21777</td>\n",
       "      <td>RECIPE BOX WITH METAL HEART</td>\n",
       "      <td>4</td>\n",
       "      <td>2010-12-01 08:34:00</td>\n",
       "      <td>7.95</td>\n",
       "      <td>13047</td>\n",
       "      <td>United Kingdom</td>\n",
       "      <td>31.8</td>\n",
       "    </tr>\n",
       "  </tbody>\n",
       "</table>\n",
       "</div>"
      ],
      "text/plain": [
       "    Invoice  StockCode                     Description  Quantity  \\\n",
       "1    536365      22752    SET 7 BABUSHKA NESTING BOXES         2   \n",
       "15   536367      22622  BOX OF VINTAGE ALPHABET BLOCKS         2   \n",
       "18   536367      21777     RECIPE BOX WITH METAL HEART         4   \n",
       "\n",
       "           InvoiceDate  Price  Customer ID         Country  Total  \n",
       "1  2010-12-01 08:26:00   7.65        17850  United Kingdom   15.3  \n",
       "15 2010-12-01 08:34:00   9.95        13047  United Kingdom   19.9  \n",
       "18 2010-12-01 08:34:00   7.95        13047  United Kingdom   31.8  "
      ]
     },
     "metadata": {},
     "output_type": "display_data"
    },
    {
     "name": "stdout",
     "output_type": "stream",
     "text": [
      "Total : 12351\n"
     ]
    },
    {
     "data": {
      "text/html": [
       "<div>\n",
       "<style scoped>\n",
       "    .dataframe tbody tr th:only-of-type {\n",
       "        vertical-align: middle;\n",
       "    }\n",
       "\n",
       "    .dataframe tbody tr th {\n",
       "        vertical-align: top;\n",
       "    }\n",
       "\n",
       "    .dataframe thead th {\n",
       "        text-align: right;\n",
       "    }\n",
       "</style>\n",
       "<table border=\"1\" class=\"dataframe\">\n",
       "  <thead>\n",
       "    <tr style=\"text-align: right;\">\n",
       "      <th></th>\n",
       "      <th>Invoice</th>\n",
       "      <th>StockCode</th>\n",
       "      <th>Description</th>\n",
       "      <th>Quantity</th>\n",
       "      <th>InvoiceDate</th>\n",
       "      <th>Price</th>\n",
       "      <th>Customer ID</th>\n",
       "      <th>Country</th>\n",
       "      <th>Total</th>\n",
       "    </tr>\n",
       "  </thead>\n",
       "  <tbody>\n",
       "    <tr>\n",
       "      <th>17</th>\n",
       "      <td>536370</td>\n",
       "      <td>22728</td>\n",
       "      <td>ALARM CLOCK BAKELIKE PINK</td>\n",
       "      <td>24</td>\n",
       "      <td>2010-12-01 08:45:00</td>\n",
       "      <td>3.75</td>\n",
       "      <td>12583</td>\n",
       "      <td>France</td>\n",
       "      <td>90.0</td>\n",
       "    </tr>\n",
       "    <tr>\n",
       "      <th>18</th>\n",
       "      <td>536370</td>\n",
       "      <td>22727</td>\n",
       "      <td>ALARM CLOCK BAKELIKE RED</td>\n",
       "      <td>24</td>\n",
       "      <td>2010-12-01 08:45:00</td>\n",
       "      <td>3.75</td>\n",
       "      <td>12583</td>\n",
       "      <td>France</td>\n",
       "      <td>90.0</td>\n",
       "    </tr>\n",
       "    <tr>\n",
       "      <th>19</th>\n",
       "      <td>536370</td>\n",
       "      <td>22726</td>\n",
       "      <td>ALARM CLOCK BAKELIKE GREEN</td>\n",
       "      <td>12</td>\n",
       "      <td>2010-12-01 08:45:00</td>\n",
       "      <td>3.75</td>\n",
       "      <td>12583</td>\n",
       "      <td>France</td>\n",
       "      <td>45.0</td>\n",
       "    </tr>\n",
       "  </tbody>\n",
       "</table>\n",
       "</div>"
      ],
      "text/plain": [
       "    Invoice  StockCode                 Description  Quantity  \\\n",
       "17   536370      22728   ALARM CLOCK BAKELIKE PINK        24   \n",
       "18   536370      22727   ALARM CLOCK BAKELIKE RED         24   \n",
       "19   536370      22726  ALARM CLOCK BAKELIKE GREEN        12   \n",
       "\n",
       "           InvoiceDate  Price  Customer ID Country  Total  \n",
       "17 2010-12-01 08:45:00   3.75        12583  France   90.0  \n",
       "18 2010-12-01 08:45:00   3.75        12583  France   90.0  \n",
       "19 2010-12-01 08:45:00   3.75        12583  France   45.0  "
      ]
     },
     "metadata": {},
     "output_type": "display_data"
    },
    {
     "data": {
      "text/html": [
       "<div>\n",
       "<style scoped>\n",
       "    .dataframe tbody tr th:only-of-type {\n",
       "        vertical-align: middle;\n",
       "    }\n",
       "\n",
       "    .dataframe tbody tr th {\n",
       "        vertical-align: top;\n",
       "    }\n",
       "\n",
       "    .dataframe thead th {\n",
       "        text-align: right;\n",
       "    }\n",
       "</style>\n",
       "<table border=\"1\" class=\"dataframe\">\n",
       "  <thead>\n",
       "    <tr style=\"text-align: right;\">\n",
       "      <th></th>\n",
       "      <th>Invoice</th>\n",
       "      <th>StockCode</th>\n",
       "      <th>Description</th>\n",
       "      <th>Quantity</th>\n",
       "      <th>InvoiceDate</th>\n",
       "      <th>Price</th>\n",
       "      <th>Customer ID</th>\n",
       "      <th>Country</th>\n",
       "      <th>Total</th>\n",
       "    </tr>\n",
       "  </thead>\n",
       "  <tbody>\n",
       "    <tr>\n",
       "      <th>291388</th>\n",
       "      <td>581587</td>\n",
       "      <td>23254</td>\n",
       "      <td>CHILDRENS CUTLERY DOLLY GIRL</td>\n",
       "      <td>4</td>\n",
       "      <td>2011-12-09 12:50:00</td>\n",
       "      <td>4.15</td>\n",
       "      <td>12680</td>\n",
       "      <td>France</td>\n",
       "      <td>16.60</td>\n",
       "    </tr>\n",
       "    <tr>\n",
       "      <th>291389</th>\n",
       "      <td>581587</td>\n",
       "      <td>23255</td>\n",
       "      <td>CHILDRENS CUTLERY CIRCUS PARADE</td>\n",
       "      <td>4</td>\n",
       "      <td>2011-12-09 12:50:00</td>\n",
       "      <td>4.15</td>\n",
       "      <td>12680</td>\n",
       "      <td>France</td>\n",
       "      <td>16.60</td>\n",
       "    </tr>\n",
       "    <tr>\n",
       "      <th>291390</th>\n",
       "      <td>581587</td>\n",
       "      <td>22138</td>\n",
       "      <td>BAKING SET 9 PIECE RETROSPOT</td>\n",
       "      <td>3</td>\n",
       "      <td>2011-12-09 12:50:00</td>\n",
       "      <td>4.95</td>\n",
       "      <td>12680</td>\n",
       "      <td>France</td>\n",
       "      <td>14.85</td>\n",
       "    </tr>\n",
       "  </tbody>\n",
       "</table>\n",
       "</div>"
      ],
      "text/plain": [
       "        Invoice  StockCode                      Description  Quantity  \\\n",
       "291388   581587      23254    CHILDRENS CUTLERY DOLLY GIRL          4   \n",
       "291389   581587      23255  CHILDRENS CUTLERY CIRCUS PARADE         4   \n",
       "291390   581587      22138    BAKING SET 9 PIECE RETROSPOT          3   \n",
       "\n",
       "               InvoiceDate  Price  Customer ID Country  Total  \n",
       "291388 2011-12-09 12:50:00   4.15        12680  France  16.60  \n",
       "291389 2011-12-09 12:50:00   4.15        12680  France  16.60  \n",
       "291390 2011-12-09 12:50:00   4.95        12680  France  14.85  "
      ]
     },
     "metadata": {},
     "output_type": "display_data"
    }
   ],
   "source": [
    "outliers = []\n",
    "for column in columns:\n",
    "    Q1 = df[column].quantile(0.25)\n",
    "    Q3 = df[column].quantile(0.75)\n",
    "    IQR = Q3 - Q1\n",
    "\n",
    "    upper_boundary = Q3 + 1.5 * IQR\n",
    "    lower_boundary = Q1 - 1.5 * IQR\n",
    "\n",
    "    filt = (df[column] > upper_boundary) | (df[column] < lower_boundary)\n",
    "    df_outlier = df[filt].copy()\n",
    "    print(column, ':', filt.sum())\n",
    "    display(df_outlier.head(3))\n",
    "\n",
    "    # Deleting Outliers in Order\n",
    "    df.drop(index=df_outlier.index, inplace=True)\n",
    "    df.reset_index(drop=True, inplace=True)\n",
    "    \n",
    "display(df.tail(3))"
   ]
  },
  {
   "cell_type": "code",
   "execution_count": 23,
   "id": "ff0a14e5-4071-41d2-84c9-841d02d81d5b",
   "metadata": {},
   "outputs": [
    {
     "data": {
      "image/png": "[encoded data removed]",
      "text/plain": [
       "<Figure size 700x300 with 1 Axes>"
      ]
     },
     "metadata": {},
     "output_type": "display_data"
    }
   ],
   "source": [
    "sns.boxplot(df[columns], orient='h')\n",
    "plt.gcf().set_size_inches(7,3)\n",
    "plt.show()"
   ]
  },
  {
   "cell_type": "markdown",
   "id": "4f544836-945f-409b-8206-f7bbf29fbbcd",
   "metadata": {},
   "source": [
    "<p style=\"background-image: linear-gradient(to right, #0aa98f, #68dab2)\"> &nbsp; </p>"
   ]
  },
  {
   "cell_type": "markdown",
   "id": "949bd92a-d448-46a4-868e-32bd0c6a5d74",
   "metadata": {},
   "source": [
    "<p style=\"background-image: linear-gradient(#0aa98f, #ffffff 10%); font-weight:bold;\"> \n",
    "    &nbsp; STOCK CODE and DESCRIPTION COMPATIBILITY - find same item with more than one description and change them with mode </p>"
   ]
  },
  {
   "cell_type": "code",
   "execution_count": 24,
   "id": "3f7532d2-0a8d-4e3f-a38e-ea78b4b75435",
   "metadata": {},
   "outputs": [
    {
     "data": {
      "text/html": [
       "<div>\n",
       "<style scoped>\n",
       "    .dataframe tbody tr th:only-of-type {\n",
       "        vertical-align: middle;\n",
       "    }\n",
       "\n",
       "    .dataframe tbody tr th {\n",
       "        vertical-align: top;\n",
       "    }\n",
       "\n",
       "    .dataframe thead th {\n",
       "        text-align: right;\n",
       "    }\n",
       "</style>\n",
       "<table border=\"1\" class=\"dataframe\">\n",
       "  <thead>\n",
       "    <tr style=\"text-align: right;\">\n",
       "      <th></th>\n",
       "      <th>Invoice</th>\n",
       "      <th>StockCode</th>\n",
       "      <th>Description</th>\n",
       "      <th>Quantity</th>\n",
       "      <th>InvoiceDate</th>\n",
       "      <th>Price</th>\n",
       "      <th>Customer ID</th>\n",
       "      <th>Country</th>\n",
       "      <th>Total</th>\n",
       "    </tr>\n",
       "  </thead>\n",
       "  <tbody>\n",
       "    <tr>\n",
       "      <th>3</th>\n",
       "      <td>536366</td>\n",
       "      <td>22632</td>\n",
       "      <td>HAND WARMER RED POLKA DOT</td>\n",
       "      <td>6</td>\n",
       "      <td>2010-12-01 08:28:00</td>\n",
       "      <td>1.85</td>\n",
       "      <td>17850</td>\n",
       "      <td>United Kingdom</td>\n",
       "      <td>11.1</td>\n",
       "    </tr>\n",
       "    <tr>\n",
       "      <th>162</th>\n",
       "      <td>536398</td>\n",
       "      <td>22632</td>\n",
       "      <td>HAND WARMER RED RETROSPOT</td>\n",
       "      <td>12</td>\n",
       "      <td>2010-12-01 10:52:00</td>\n",
       "      <td>2.10</td>\n",
       "      <td>13448</td>\n",
       "      <td>United Kingdom</td>\n",
       "      <td>25.2</td>\n",
       "    </tr>\n",
       "  </tbody>\n",
       "</table>\n",
       "</div>"
      ],
      "text/plain": [
       "     Invoice  StockCode                Description  Quantity  \\\n",
       "3     536366      22632  HAND WARMER RED POLKA DOT         6   \n",
       "162   536398      22632  HAND WARMER RED RETROSPOT        12   \n",
       "\n",
       "            InvoiceDate  Price  Customer ID         Country  Total  \n",
       "3   2010-12-01 08:28:00   1.85        17850  United Kingdom   11.1  \n",
       "162 2010-12-01 10:52:00   2.10        13448  United Kingdom   25.2  "
      ]
     },
     "execution_count": 24,
     "metadata": {},
     "output_type": "execute_result"
    }
   ],
   "source": [
    "temp = df.loc[:500, :].copy()  # 2000\n",
    "temp = temp.groupby('StockCode')['Description'].nunique()!=1\n",
    "stockcodes = temp[temp].index # ==True\n",
    "\n",
    "df[df['StockCode'].isin(stockcodes)].drop_duplicates(subset='Description')"
   ]
  },
  {
   "cell_type": "code",
   "execution_count": 25,
   "id": "d5b36685-26e0-4874-8191-e3a480f04d5d",
   "metadata": {},
   "outputs": [
    {
     "name": "stdout",
     "output_type": "stream",
     "text": [
      "166 [20622, 21109, 21112, 21175, 21232]\n"
     ]
    }
   ],
   "source": [
    "temp = df.groupby('StockCode')['Description'].nunique()!=1\n",
    "stockcodes = temp[temp].index # ==True\n",
    "print(stockcodes.size, stockcodes[:5].to_list())"
   ]
  },
  {
   "cell_type": "code",
   "execution_count": 26,
   "id": "6769d76b-3e63-4e84-a19b-47c6a740665f",
   "metadata": {},
   "outputs": [],
   "source": [
    "for stockcode in stockcodes:\n",
    "    _mode = df[df['StockCode']==stockcode]['Description'].mode()[0]\n",
    "    df.loc[df['StockCode']==stockcode, 'Description'] = _mode"
   ]
  },
  {
   "cell_type": "code",
   "execution_count": 27,
   "id": "f14be9c8-fc56-42df-b377-18138ae85db6",
   "metadata": {},
   "outputs": [
    {
     "name": "stdout",
     "output_type": "stream",
     "text": [
      "0 []\n"
     ]
    }
   ],
   "source": [
    "temp = df.groupby('StockCode')['Description'].nunique()!=1\n",
    "stockcodes = temp[temp].index # ==True\n",
    "print(stockcodes.size, stockcodes[:5].to_list())"
   ]
  },
  {
   "cell_type": "markdown",
   "id": "55989115-d871-40e5-a7b9-23764a6a1cc0",
   "metadata": {},
   "source": [
    "<p style=\"background-image: linear-gradient(#0aa98f, #ffffff 10%); font-weight:bold;\"> \n",
    "    &nbsp; </p>"
   ]
  },
  {
   "cell_type": "code",
   "execution_count": 28,
   "id": "1103c477-9090-465a-b0ad-49f1e8738c6d",
   "metadata": {},
   "outputs": [
    {
     "data": {
      "text/html": [
       "<div>\n",
       "<style scoped>\n",
       "    .dataframe tbody tr th:only-of-type {\n",
       "        vertical-align: middle;\n",
       "    }\n",
       "\n",
       "    .dataframe tbody tr th {\n",
       "        vertical-align: top;\n",
       "    }\n",
       "\n",
       "    .dataframe thead th {\n",
       "        text-align: right;\n",
       "    }\n",
       "</style>\n",
       "<table border=\"1\" class=\"dataframe\">\n",
       "  <thead>\n",
       "    <tr style=\"text-align: right;\">\n",
       "      <th></th>\n",
       "      <th>Invoice</th>\n",
       "      <th>StockCode</th>\n",
       "      <th>Description</th>\n",
       "      <th>Quantity</th>\n",
       "      <th>InvoiceDate</th>\n",
       "      <th>Price</th>\n",
       "      <th>Customer ID</th>\n",
       "      <th>Country</th>\n",
       "      <th>Total</th>\n",
       "    </tr>\n",
       "  </thead>\n",
       "  <tbody>\n",
       "    <tr>\n",
       "      <th>491</th>\n",
       "      <td>536446</td>\n",
       "      <td>10133</td>\n",
       "      <td>COLOURING PENCILS BROWN TUBE</td>\n",
       "      <td>5</td>\n",
       "      <td>2010-12-01 12:15:00</td>\n",
       "      <td>0.85</td>\n",
       "      <td>15983</td>\n",
       "      <td>United Kingdom</td>\n",
       "      <td>4.25</td>\n",
       "    </tr>\n",
       "    <tr>\n",
       "      <th>1460</th>\n",
       "      <td>536621</td>\n",
       "      <td>10135</td>\n",
       "      <td>COLOURING PENCILS BROWN TUBE</td>\n",
       "      <td>10</td>\n",
       "      <td>2010-12-02 10:35:00</td>\n",
       "      <td>1.25</td>\n",
       "      <td>13108</td>\n",
       "      <td>United Kingdom</td>\n",
       "      <td>12.50</td>\n",
       "    </tr>\n",
       "  </tbody>\n",
       "</table>\n",
       "</div>"
      ],
      "text/plain": [
       "      Invoice  StockCode                   Description  Quantity  \\\n",
       "491    536446      10133  COLOURING PENCILS BROWN TUBE         5   \n",
       "1460   536621      10135  COLOURING PENCILS BROWN TUBE        10   \n",
       "\n",
       "             InvoiceDate  Price  Customer ID         Country  Total  \n",
       "491  2010-12-01 12:15:00   0.85        15983  United Kingdom   4.25  \n",
       "1460 2010-12-02 10:35:00   1.25        13108  United Kingdom  12.50  "
      ]
     },
     "execution_count": 28,
     "metadata": {},
     "output_type": "execute_result"
    }
   ],
   "source": [
    "temp = df.loc[:3000, :].copy()  # 10000\n",
    "temp = temp.groupby('Description')['StockCode'].nunique()!=1\n",
    "descriptions = temp[temp].index # ==True\n",
    "\n",
    "df[df['Description'].isin(descriptions)].drop_duplicates(subset='StockCode')"
   ]
  },
  {
   "cell_type": "code",
   "execution_count": 29,
   "id": "0467f106-893e-4819-871a-6f0194f6d730",
   "metadata": {},
   "outputs": [
    {
     "name": "stdout",
     "output_type": "stream",
     "text": [
      "9 ['COLOURING PENCILS BROWN TUBE', 'COLUMBIAN CANDLE RECTANGLE', 'COLUMBIAN CANDLE ROUND']\n"
     ]
    }
   ],
   "source": [
    "temp = df.groupby('Description')['StockCode'].nunique()!=1\n",
    "descriptions = temp[temp].index # ==True\n",
    "print(descriptions.size, descriptions[:3].to_list())"
   ]
  },
  {
   "cell_type": "code",
   "execution_count": 30,
   "id": "1c98dc32-f372-410c-869f-aa573c64b0f6",
   "metadata": {},
   "outputs": [],
   "source": [
    "for description in descriptions:\n",
    "    _mode = df[df['Description']==description]['StockCode'].mode()[0]\n",
    "    df.loc[df['Description']==description, 'StockCode'] = _mode"
   ]
  },
  {
   "cell_type": "code",
   "execution_count": 31,
   "id": "a61e0d11-db49-4c5a-a047-b20c24561dee",
   "metadata": {},
   "outputs": [
    {
     "name": "stdout",
     "output_type": "stream",
     "text": [
      "0 []\n"
     ]
    }
   ],
   "source": [
    "temp = df.groupby('Description')['StockCode'].nunique()!=1\n",
    "descriptions = temp[temp].index # ==True\n",
    "print(descriptions.size, descriptions[:3].to_list())"
   ]
  },
  {
   "cell_type": "code",
   "execution_count": 32,
   "id": "a9793f47-9608-400c-9c6e-72b1f07f412b",
   "metadata": {},
   "outputs": [
    {
     "name": "stdout",
     "output_type": "stream",
     "text": [
      "0 []\n"
     ]
    }
   ],
   "source": [
    "temp = df.groupby('StockCode')['Description'].nunique()!=1\n",
    "stockcodes = temp[temp].index # ==True\n",
    "print(stockcodes.size, stockcodes[:5].to_list())"
   ]
  },
  {
   "cell_type": "markdown",
   "id": "5d2c3ba3-2596-459b-9274-5eb5991aaa1b",
   "metadata": {},
   "source": [
    "<p style=\"background-image: linear-gradient(to right, #0aa98f, #68dab2)\"> &nbsp; </p>"
   ]
  },
  {
   "cell_type": "markdown",
   "id": "f316354f-10cb-45fb-8017-ad85d4ab3297",
   "metadata": {},
   "source": [
    "<p style=\"background-image: linear-gradient(#0aa98f, #ffffff 10%); font-weight:bold;\"> \n",
    "    &nbsp; ADD FEATURES FOR DATES </p>"
   ]
  },
  {
   "cell_type": "code",
   "execution_count": 33,
   "id": "d9a7df60-2029-4c08-9742-0db6399b4f7f",
   "metadata": {},
   "outputs": [],
   "source": [
    "# df['Year'] = df['InvoiceDate'].dt.year\n",
    "# df['Month'] = df['InvoiceDate'].dt.month\n",
    "# df['Day'] = df['InvoiceDate'].dt.day\n",
    "# # df['Day'] = df['InvoiceDate'].dt.dayofweek\n",
    "# df['Day of Week'] = df['InvoiceDate'].dt.strftime('%a') # %A\n",
    "\n",
    "# display(df.sample(3))"
   ]
  },
  {
   "cell_type": "markdown",
   "id": "5e643624-ad11-4670-a82b-9612492068f4",
   "metadata": {},
   "source": [
    "<p style=\"background-image: linear-gradient(to right, #0aa98f, #68dab2)\"> &nbsp; </p>"
   ]
  },
  {
   "cell_type": "markdown",
   "id": "16bf0205-7cdb-4c4b-96b8-3638e83b80c0",
   "metadata": {},
   "source": [
    "<p style=\"background-image: linear-gradient(#0aa98f, #ffffff 10%); font-weight:bold;\"> \n",
    "    &nbsp; SAVE CLEAN VERSION </p>"
   ]
  },
  {
   "cell_type": "code",
   "execution_count": 34,
   "id": "a8966536-ec4d-4593-860d-783eb700a74b",
   "metadata": {},
   "outputs": [],
   "source": [
    "# df.to_csv('data/online_retail_II_clean.csv', index=False)"
   ]
  }
 ],
 "metadata": {
  "kernelspec": {
   "display_name": "Python 3 (ipykernel)",
   "language": "python",
   "name": "python3"
  },
  "language_info": {
   "codemirror_mode": {
    "name": "ipython",
    "version": 3
   },
   "file_extension": ".py",
   "mimetype": "text/x-python",
   "name": "python",
   "nbconvert_exporter": "python",
   "pygments_lexer": "ipython3",
   "version": "3.11.10"
  }
 },
 "nbformat": 4,
 "nbformat_minor": 5
}
