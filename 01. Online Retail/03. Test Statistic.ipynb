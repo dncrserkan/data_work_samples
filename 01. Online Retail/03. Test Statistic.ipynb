{
 "cells": [
  {
   "cell_type": "markdown",
   "id": "d920c6dc-b04d-4b8b-a015-0acdca2cc210",
   "metadata": {},
   "source": [
    "1. Is there a significant difference in daily sales counts between the UK and non-UK markets? [Go](#1)\n",
    "2. Do total revenues in the UK vary significantly depending on the day of the week? [Go](#2)\n",
    "3. Is there a difference in invoice amounts between clusters? (online_retail_clean_customer_clusters.csv) [Go](#3)\n",
    "4. Does the average number of items sold per invoice differ between the UK and non-UK countries? [Go](#4)\n",
    "5. Is there a difference in the invoice amounts of the first and second purchases of customers who make more than one purchase? [Go](#5)\n",
    "6. Is there a difference in the invoice amounts of the first and second and third purchases of customers who make more than two purchase? [Go](#6)\n",
    "7. Investigate whether the average total revenues on different days of the week differ for the top 5 countries with the highest sales outside the UK. [Go](#7)"
   ]
  },
  {
   "cell_type": "markdown",
   "id": "07bc1fcc-aba4-4164-9200-876a69813e36",
   "metadata": {},
   "source": [
    "<p style=\"background-image: linear-gradient(to right, #0aa98f, #68dab2)\"> &nbsp; </p>"
   ]
  },
  {
   "cell_type": "code",
   "execution_count": 1,
   "id": "1def8f61-42ff-443b-bdc9-302dc0712b67",
   "metadata": {},
   "outputs": [],
   "source": [
    "import pandas as pd\n",
    "import pingouin as pg\n",
    "import scikit_posthocs as sp\n",
    "import matplotlib.pyplot as plt"
   ]
  },
  {
   "cell_type": "code",
   "execution_count": 2,
   "id": "ca8312f1-8689-4f27-a153-e021f0132497",
   "metadata": {},
   "outputs": [],
   "source": [
    "α = alpha = 0.05\n",
    "\n",
    "def decision(p, alpha=0.05, method=None):\n",
    "    'acceptance or rejection of the null hypothesis'\n",
    "    if method=='verbose':\n",
    "        if p < alpha: return 'H0 rejected.'\n",
    "        else: return 'H0 accepted.'\n",
    "            \n",
    "    if method=='sign':\n",
    "        if p < alpha: return '✗'  # null hypothesis rejected\n",
    "        else: return '✔'          # null hypothesis accepted\n",
    "                \n",
    "    if p < alpha: return True  # null hypothesis rejected\n",
    "    else: return False         # null hypothesis accepted\n",
    "\n",
    "\n",
    "def get_pairs(table):\n",
    "    temp = table.melt(ignore_index=False).reset_index()\n",
    "    temp = temp[temp['value']=='✗']\n",
    "    temp = [list(temp.iloc[i, [0,1]].values) for i in range(len(temp.index))]\n",
    "\n",
    "    pairs = set()\n",
    "    for i, couple in enumerate(temp):\n",
    "        couple.sort()\n",
    "        pairs.add(f'{couple[0]} & {couple[1]}')\n",
    "\n",
    "    return pairs"
   ]
  },
  {
   "cell_type": "markdown",
   "id": "e8f1507b-3435-4935-85f6-4270a011cf39",
   "metadata": {},
   "source": [
    "<p style=\"background-image: linear-gradient(to right, #0aa98f, #68dab2)\"> &nbsp; </p>\n",
    "\n",
    "##### **READ DATA**"
   ]
  },
  {
   "cell_type": "code",
   "execution_count": 3,
   "id": "22b21a49-6f00-4006-a5b3-45038bce017e",
   "metadata": {},
   "outputs": [
    {
     "data": {
      "text/html": [
       "<div>\n",
       "<style scoped>\n",
       "    .dataframe tbody tr th:only-of-type {\n",
       "        vertical-align: middle;\n",
       "    }\n",
       "\n",
       "    .dataframe tbody tr th {\n",
       "        vertical-align: top;\n",
       "    }\n",
       "\n",
       "    .dataframe thead th {\n",
       "        text-align: right;\n",
       "    }\n",
       "</style>\n",
       "<table border=\"1\" class=\"dataframe\">\n",
       "  <thead>\n",
       "    <tr style=\"text-align: right;\">\n",
       "      <th></th>\n",
       "      <th>Invoice</th>\n",
       "      <th>StockCode</th>\n",
       "      <th>Description</th>\n",
       "      <th>Quantity</th>\n",
       "      <th>InvoiceDate</th>\n",
       "      <th>Price</th>\n",
       "      <th>Customer ID</th>\n",
       "      <th>Country</th>\n",
       "      <th>Total</th>\n",
       "    </tr>\n",
       "  </thead>\n",
       "  <tbody>\n",
       "    <tr>\n",
       "      <th>0</th>\n",
       "      <td>536365</td>\n",
       "      <td>71053</td>\n",
       "      <td>WHITE METAL LANTERN</td>\n",
       "      <td>6</td>\n",
       "      <td>2010-12-01 08:26:00</td>\n",
       "      <td>3.39</td>\n",
       "      <td>17850</td>\n",
       "      <td>United Kingdom</td>\n",
       "      <td>20.34</td>\n",
       "    </tr>\n",
       "    <tr>\n",
       "      <th>1</th>\n",
       "      <td>536365</td>\n",
       "      <td>21730</td>\n",
       "      <td>GLASS STAR FROSTED T-LIGHT HOLDER</td>\n",
       "      <td>6</td>\n",
       "      <td>2010-12-01 08:26:00</td>\n",
       "      <td>4.25</td>\n",
       "      <td>17850</td>\n",
       "      <td>United Kingdom</td>\n",
       "      <td>25.50</td>\n",
       "    </tr>\n",
       "    <tr>\n",
       "      <th>2</th>\n",
       "      <td>536366</td>\n",
       "      <td>22633</td>\n",
       "      <td>HAND WARMER UNION JACK</td>\n",
       "      <td>6</td>\n",
       "      <td>2010-12-01 08:28:00</td>\n",
       "      <td>1.85</td>\n",
       "      <td>17850</td>\n",
       "      <td>United Kingdom</td>\n",
       "      <td>11.10</td>\n",
       "    </tr>\n",
       "  </tbody>\n",
       "</table>\n",
       "</div>"
      ],
      "text/plain": [
       "   Invoice  StockCode                        Description  Quantity  \\\n",
       "0   536365      71053                WHITE METAL LANTERN         6   \n",
       "1   536365      21730  GLASS STAR FROSTED T-LIGHT HOLDER         6   \n",
       "2   536366      22633             HAND WARMER UNION JACK         6   \n",
       "\n",
       "          InvoiceDate  Price  Customer ID         Country  Total  \n",
       "0 2010-12-01 08:26:00   3.39        17850  United Kingdom  20.34  \n",
       "1 2010-12-01 08:26:00   4.25        17850  United Kingdom  25.50  \n",
       "2 2010-12-01 08:28:00   1.85        17850  United Kingdom  11.10  "
      ]
     },
     "execution_count": 3,
     "metadata": {},
     "output_type": "execute_result"
    }
   ],
   "source": [
    "data = pd.read_csv('data/online_retail_II_clean.csv', parse_dates=['InvoiceDate'])\n",
    "data_backup = data.copy()\n",
    "data.head(3)"
   ]
  },
  {
   "cell_type": "code",
   "execution_count": 4,
   "id": "507a4ed7-3046-4390-a779-5ab9b0b8e492",
   "metadata": {},
   "outputs": [
    {
     "data": {
      "text/html": [
       "<div>\n",
       "<style scoped>\n",
       "    .dataframe tbody tr th:only-of-type {\n",
       "        vertical-align: middle;\n",
       "    }\n",
       "\n",
       "    .dataframe tbody tr th {\n",
       "        vertical-align: top;\n",
       "    }\n",
       "\n",
       "    .dataframe thead th {\n",
       "        text-align: right;\n",
       "    }\n",
       "</style>\n",
       "<table border=\"1\" class=\"dataframe\">\n",
       "  <thead>\n",
       "    <tr style=\"text-align: right;\">\n",
       "      <th></th>\n",
       "      <th>StockCode</th>\n",
       "      <th>Description</th>\n",
       "    </tr>\n",
       "  </thead>\n",
       "  <tbody>\n",
       "    <tr>\n",
       "      <th>2512</th>\n",
       "      <td>23143</td>\n",
       "      <td>ZINC WIRE KITCHEN ORGANISER</td>\n",
       "    </tr>\n",
       "    <tr>\n",
       "      <th>2513</th>\n",
       "      <td>84679</td>\n",
       "      <td>CLASSICAL ROSE TABLE LAMP</td>\n",
       "    </tr>\n",
       "    <tr>\n",
       "      <th>2514</th>\n",
       "      <td>90089</td>\n",
       "      <td>PINK CRYSTAL SKULL PHONE CHARM</td>\n",
       "    </tr>\n",
       "  </tbody>\n",
       "</table>\n",
       "</div>"
      ],
      "text/plain": [
       "      StockCode                     Description\n",
       "2512      23143     ZINC WIRE KITCHEN ORGANISER\n",
       "2513      84679       CLASSICAL ROSE TABLE LAMP\n",
       "2514      90089  PINK CRYSTAL SKULL PHONE CHARM"
      ]
     },
     "metadata": {},
     "output_type": "display_data"
    }
   ],
   "source": [
    "products = data[['StockCode', 'Description']].drop_duplicates(ignore_index=True)\n",
    "display(products.tail(3))\n",
    "data.drop(columns='Description', inplace=True)"
   ]
  },
  {
   "cell_type": "code",
   "execution_count": 5,
   "id": "b64d3406-a9aa-4f4a-9cca-b62565f994cf",
   "metadata": {},
   "outputs": [
    {
     "data": {
      "text/html": [
       "<div>\n",
       "<style scoped>\n",
       "    .dataframe tbody tr th:only-of-type {\n",
       "        vertical-align: middle;\n",
       "    }\n",
       "\n",
       "    .dataframe tbody tr th {\n",
       "        vertical-align: top;\n",
       "    }\n",
       "\n",
       "    .dataframe thead th {\n",
       "        text-align: right;\n",
       "    }\n",
       "</style>\n",
       "<table border=\"1\" class=\"dataframe\">\n",
       "  <thead>\n",
       "    <tr style=\"text-align: right;\">\n",
       "      <th></th>\n",
       "      <th>Invoice</th>\n",
       "      <th>StockCode</th>\n",
       "      <th>Quantity</th>\n",
       "      <th>InvoiceDate</th>\n",
       "      <th>Price</th>\n",
       "      <th>Customer ID</th>\n",
       "      <th>Country</th>\n",
       "      <th>Total</th>\n",
       "      <th>Day of Week</th>\n",
       "    </tr>\n",
       "  </thead>\n",
       "  <tbody>\n",
       "    <tr>\n",
       "      <th>110538</th>\n",
       "      <td>556484</td>\n",
       "      <td>23298</td>\n",
       "      <td>6</td>\n",
       "      <td>06.12.2011</td>\n",
       "      <td>4.95</td>\n",
       "      <td>16938</td>\n",
       "      <td>United Kingdom</td>\n",
       "      <td>29.70</td>\n",
       "      <td>Sunday</td>\n",
       "    </tr>\n",
       "    <tr>\n",
       "      <th>10572</th>\n",
       "      <td>538203</td>\n",
       "      <td>22726</td>\n",
       "      <td>6</td>\n",
       "      <td>12.10.2010</td>\n",
       "      <td>3.75</td>\n",
       "      <td>13767</td>\n",
       "      <td>United Kingdom</td>\n",
       "      <td>22.50</td>\n",
       "      <td>Friday</td>\n",
       "    </tr>\n",
       "    <tr>\n",
       "      <th>31234</th>\n",
       "      <td>542419</td>\n",
       "      <td>22727</td>\n",
       "      <td>1</td>\n",
       "      <td>01.27.2011</td>\n",
       "      <td>3.75</td>\n",
       "      <td>14662</td>\n",
       "      <td>United Kingdom</td>\n",
       "      <td>3.75</td>\n",
       "      <td>Thursday</td>\n",
       "    </tr>\n",
       "  </tbody>\n",
       "</table>\n",
       "</div>"
      ],
      "text/plain": [
       "        Invoice  StockCode  Quantity InvoiceDate  Price  Customer ID  \\\n",
       "110538   556484      23298         6  06.12.2011   4.95        16938   \n",
       "10572    538203      22726         6  12.10.2010   3.75        13767   \n",
       "31234    542419      22727         1  01.27.2011   3.75        14662   \n",
       "\n",
       "               Country  Total Day of Week  \n",
       "110538  United Kingdom  29.70      Sunday  \n",
       "10572   United Kingdom  22.50      Friday  \n",
       "31234   United Kingdom   3.75    Thursday  "
      ]
     },
     "metadata": {},
     "output_type": "display_data"
    }
   ],
   "source": [
    "data['Day of Week'] = data['InvoiceDate'].dt.strftime('%A')\n",
    "data['InvoiceDate'] = data['InvoiceDate'].dt.strftime('%m.%d.%Y')\n",
    "display(data.sample(3))"
   ]
  },
  {
   "cell_type": "markdown",
   "id": "4a7701ea-8eff-4d74-99d2-05aa3a89836d",
   "metadata": {},
   "source": [
    "<a id='1'></a>\n",
    "<p style=\"background-image: linear-gradient(to right, #0aa98f, #68dab2)\"> &nbsp; </p>\n",
    "\n",
    "#####  **1. Is there a significant difference in daily sales counts between the UK and non-UK markets?**\n",
    "\n",
    "| | |\n",
    "|-|-|\n",
    "| $H_0$ | **→** There is no significant difference in daily sales counts between the UK and non-UK markets. |\n",
    "| $H_1$ | **→** There is a significant difference in daily sales counts between the UK and non-UK markets. |"
   ]
  },
  {
   "cell_type": "code",
   "execution_count": 6,
   "id": "b59cdf0a-6538-4756-8aaa-63e7b538a6f3",
   "metadata": {},
   "outputs": [
    {
     "data": {
      "text/html": [
       "<div>\n",
       "<style scoped>\n",
       "    .dataframe tbody tr th:only-of-type {\n",
       "        vertical-align: middle;\n",
       "    }\n",
       "\n",
       "    .dataframe tbody tr th {\n",
       "        vertical-align: top;\n",
       "    }\n",
       "\n",
       "    .dataframe thead th {\n",
       "        text-align: right;\n",
       "    }\n",
       "</style>\n",
       "<table border=\"1\" class=\"dataframe\">\n",
       "  <thead>\n",
       "    <tr style=\"text-align: right;\">\n",
       "      <th></th>\n",
       "      <th>Country</th>\n",
       "      <th>InvoiceDate</th>\n",
       "      <th>Invoice</th>\n",
       "    </tr>\n",
       "  </thead>\n",
       "  <tbody>\n",
       "    <tr>\n",
       "      <th>589</th>\n",
       "      <td>UK</td>\n",
       "      <td>12.21.2010</td>\n",
       "      <td>18</td>\n",
       "    </tr>\n",
       "    <tr>\n",
       "      <th>590</th>\n",
       "      <td>UK</td>\n",
       "      <td>12.22.2010</td>\n",
       "      <td>9</td>\n",
       "    </tr>\n",
       "    <tr>\n",
       "      <th>591</th>\n",
       "      <td>UK</td>\n",
       "      <td>12.23.2010</td>\n",
       "      <td>11</td>\n",
       "    </tr>\n",
       "  </tbody>\n",
       "</table>\n",
       "</div>"
      ],
      "text/plain": [
       "    Country InvoiceDate  Invoice\n",
       "589      UK  12.21.2010       18\n",
       "590      UK  12.22.2010        9\n",
       "591      UK  12.23.2010       11"
      ]
     },
     "metadata": {},
     "output_type": "display_data"
    }
   ],
   "source": [
    "df = data[['Country', 'InvoiceDate', 'Invoice']].copy()\n",
    "df['Country'] = df['Country'].apply(lambda c: 'UK' if c=='United Kingdom' else 'Non-UK')\n",
    "\n",
    "df = df.groupby(['Country', 'InvoiceDate']).agg({'Invoice':'nunique'}).reset_index()\n",
    "display(df.tail(3))\n",
    "\n",
    "df_1 = df[df['Country']=='UK']['Invoice']\n",
    "df_2 = df[df['Country']=='Non-UK']['Invoice']"
   ]
  },
  {
   "cell_type": "markdown",
   "id": "c4d7199d-e76e-4a1f-ada0-eb01a6423ae2",
   "metadata": {},
   "source": [
    "<p style=\"background-image: linear-gradient(#0aa98f, #ffffff 10%); font-weight:bold;\"> \n",
    "    &nbsp; Normality Test </p>"
   ]
  },
  {
   "cell_type": "code",
   "execution_count": 7,
   "id": "ece7411c-8158-4066-8e6d-f58cb94f0994",
   "metadata": {},
   "outputs": [
    {
     "data": {
      "text/html": [
       "<div>\n",
       "<style scoped>\n",
       "    .dataframe tbody tr th:only-of-type {\n",
       "        vertical-align: middle;\n",
       "    }\n",
       "\n",
       "    .dataframe tbody tr th {\n",
       "        vertical-align: top;\n",
       "    }\n",
       "\n",
       "    .dataframe thead th {\n",
       "        text-align: right;\n",
       "    }\n",
       "</style>\n",
       "<table border=\"1\" class=\"dataframe\">\n",
       "  <thead>\n",
       "    <tr style=\"text-align: right;\">\n",
       "      <th></th>\n",
       "      <th>W</th>\n",
       "      <th>pval</th>\n",
       "      <th>normal</th>\n",
       "    </tr>\n",
       "    <tr>\n",
       "      <th>Country</th>\n",
       "      <th></th>\n",
       "      <th></th>\n",
       "      <th></th>\n",
       "    </tr>\n",
       "  </thead>\n",
       "  <tbody>\n",
       "    <tr>\n",
       "      <th>Non-UK</th>\n",
       "      <td>0.929486</td>\n",
       "      <td>1.989942e-10</td>\n",
       "      <td>False</td>\n",
       "    </tr>\n",
       "    <tr>\n",
       "      <th>UK</th>\n",
       "      <td>0.946861</td>\n",
       "      <td>4.870171e-09</td>\n",
       "      <td>False</td>\n",
       "    </tr>\n",
       "  </tbody>\n",
       "</table>\n",
       "</div>"
      ],
      "text/plain": [
       "                W          pval  normal\n",
       "Country                                \n",
       "Non-UK   0.929486  1.989942e-10   False\n",
       "UK       0.946861  4.870171e-09   False"
      ]
     },
     "metadata": {},
     "output_type": "display_data"
    },
    {
     "data": {
      "image/png": "[encoded data removed]",
      "text/plain": [
       "<Figure size 900x300 with 2 Axes>"
      ]
     },
     "metadata": {},
     "output_type": "display_data"
    }
   ],
   "source": [
    "display(pg.normality(df, dv='Invoice', group='Country'))\n",
    "\n",
    "fig, (ax1, ax2) = plt.subplots(1,2, figsize=(9,3))\n",
    "pg.qqplot(df_1, ax=ax1)\n",
    "pg.qqplot(df_2, ax=ax2)\n",
    "\n",
    "ax1.set_facecolor('#f5f5f5')\n",
    "ax2.set_facecolor('#f5f5f5')\n",
    "plt.show()"
   ]
  },
  {
   "cell_type": "markdown",
   "id": "2aaceba3-f827-4329-8631-f03f1e288273",
   "metadata": {},
   "source": [
    "<p style=\"background-image: linear-gradient(#0aa98f, #ffffff 10%); font-weight:bold;\"> \n",
    "    &nbsp; Homogeneity of Variance Test </p>"
   ]
  },
  {
   "cell_type": "code",
   "execution_count": 8,
   "id": "2cc846f9-b437-47bf-8c80-5f43cc6dd3bc",
   "metadata": {},
   "outputs": [
    {
     "data": {
      "text/html": [
       "<div>\n",
       "<style scoped>\n",
       "    .dataframe tbody tr th:only-of-type {\n",
       "        vertical-align: middle;\n",
       "    }\n",
       "\n",
       "    .dataframe tbody tr th {\n",
       "        vertical-align: top;\n",
       "    }\n",
       "\n",
       "    .dataframe thead th {\n",
       "        text-align: right;\n",
       "    }\n",
       "</style>\n",
       "<table border=\"1\" class=\"dataframe\">\n",
       "  <thead>\n",
       "    <tr style=\"text-align: right;\">\n",
       "      <th></th>\n",
       "      <th>T</th>\n",
       "      <th>pval</th>\n",
       "      <th>equal_var</th>\n",
       "    </tr>\n",
       "  </thead>\n",
       "  <tbody>\n",
       "    <tr>\n",
       "      <th>bartlett</th>\n",
       "      <td>654.904908</td>\n",
       "      <td>1.916004e-144</td>\n",
       "      <td>False</td>\n",
       "    </tr>\n",
       "  </tbody>\n",
       "</table>\n",
       "</div>"
      ],
      "text/plain": [
       "                   T           pval  equal_var\n",
       "bartlett  654.904908  1.916004e-144      False"
      ]
     },
     "execution_count": 8,
     "metadata": {},
     "output_type": "execute_result"
    }
   ],
   "source": [
    "pg.homoscedasticity(df, dv='Invoice', group='Country', method='bartlett') #  method='levene'"
   ]
  },
  {
   "cell_type": "markdown",
   "id": "cb826cd0-f738-478a-a495-e729b90ff1f5",
   "metadata": {},
   "source": [
    "<p style=\"background-image: linear-gradient(#0aa98f, #ffffff 10%); font-weight:bold;\"> \n",
    "    &nbsp; Mann-Whitney U Test </p>\n",
    "\n",
    "Since the assumptions of normality and homogeneity of variance are violated, we use the Mann-Whitney U Test instead of the Independent Samples T-Test or Welch T-test."
   ]
  },
  {
   "cell_type": "code",
   "execution_count": 9,
   "id": "e1e81e86-08f4-4705-b8ba-0bdbe2fc988d",
   "metadata": {},
   "outputs": [
    {
     "data": {
      "text/html": [
       "<div>\n",
       "<style scoped>\n",
       "    .dataframe tbody tr th:only-of-type {\n",
       "        vertical-align: middle;\n",
       "    }\n",
       "\n",
       "    .dataframe tbody tr th {\n",
       "        vertical-align: top;\n",
       "    }\n",
       "\n",
       "    .dataframe thead th {\n",
       "        text-align: right;\n",
       "    }\n",
       "</style>\n",
       "<table border=\"1\" class=\"dataframe\">\n",
       "  <thead>\n",
       "    <tr style=\"text-align: right;\">\n",
       "      <th></th>\n",
       "      <th>U-val</th>\n",
       "      <th>alternative</th>\n",
       "      <th>p-val</th>\n",
       "      <th>RBC</th>\n",
       "      <th>CLES</th>\n",
       "      <th>Reject</th>\n",
       "    </tr>\n",
       "  </thead>\n",
       "  <tbody>\n",
       "    <tr>\n",
       "      <th>MWU</th>\n",
       "      <td>87440.0</td>\n",
       "      <td>two-sided</td>\n",
       "      <td>4.993953e-98</td>\n",
       "      <td>0.997829</td>\n",
       "      <td>0.998915</td>\n",
       "      <td>H0 rejected.</td>\n",
       "    </tr>\n",
       "  </tbody>\n",
       "</table>\n",
       "</div>"
      ],
      "text/plain": [
       "       U-val alternative         p-val       RBC      CLES        Reject\n",
       "MWU  87440.0   two-sided  4.993953e-98  0.997829  0.998915  H0 rejected."
      ]
     },
     "execution_count": 9,
     "metadata": {},
     "output_type": "execute_result"
    }
   ],
   "source": [
    "# test = pg.parametric.ttest(df_1, df_2, correction=False)\n",
    "# test = pg.parametric.ttest(df_1, df_2, correction=True)\n",
    "test = pg.nonparametric.mwu(df_1, df_2)\n",
    "test['Reject'] = test[['p-val']].map(decision, method='verbose')\n",
    "test"
   ]
  },
  {
   "cell_type": "markdown",
   "id": "d45f86fd-98d9-4682-97fa-c123f16bb0d0",
   "metadata": {},
   "source": [
    "<p style=\"background-image: linear-gradient(#0aa98f, #ffffff 10%); font-weight:bold;\"> \n",
    "    &nbsp; Display of Metrics </p>"
   ]
  },
  {
   "cell_type": "code",
   "execution_count": 10,
   "id": "5395380e-3b88-4e84-a3d9-08d3b1391dc6",
   "metadata": {},
   "outputs": [
    {
     "data": {
      "text/html": [
       "<div>\n",
       "<style scoped>\n",
       "    .dataframe tbody tr th:only-of-type {\n",
       "        vertical-align: middle;\n",
       "    }\n",
       "\n",
       "    .dataframe tbody tr th {\n",
       "        vertical-align: top;\n",
       "    }\n",
       "\n",
       "    .dataframe thead th {\n",
       "        text-align: right;\n",
       "    }\n",
       "</style>\n",
       "<table border=\"1\" class=\"dataframe\">\n",
       "  <thead>\n",
       "    <tr style=\"text-align: right;\">\n",
       "      <th>Country</th>\n",
       "      <th>Non-UK</th>\n",
       "      <th>UK</th>\n",
       "    </tr>\n",
       "  </thead>\n",
       "  <tbody>\n",
       "    <tr>\n",
       "      <th>mean</th>\n",
       "      <td>5.61</td>\n",
       "      <td>47.46</td>\n",
       "    </tr>\n",
       "    <tr>\n",
       "      <th>std</th>\n",
       "      <td>3.24</td>\n",
       "      <td>19.71</td>\n",
       "    </tr>\n",
       "  </tbody>\n",
       "</table>\n",
       "</div>"
      ],
      "text/plain": [
       "Country  Non-UK     UK\n",
       "mean       5.61  47.46\n",
       "std        3.24  19.71"
      ]
     },
     "execution_count": 10,
     "metadata": {},
     "output_type": "execute_result"
    }
   ],
   "source": [
    "df.groupby('Country')['Invoice'].agg(['mean', 'std']).round(2).T"
   ]
  },
  {
   "cell_type": "markdown",
   "id": "c4d0ec92-40c1-41c5-8312-44861947bcff",
   "metadata": {},
   "source": [
    "<a id='2'></a>\n",
    "<p style=\"background-image: linear-gradient(to right, #0aa98f, #68dab2)\"> &nbsp; </p>\n",
    "\n",
    "#####  **2. Do total revenues in the UK vary significantly depending on the day of the week?**\n",
    "\n",
    "| | |\n",
    "|-|-|\n",
    "| $H_0$ | **→** There is no significant difference in total revenues in the UK based on the day of the week. |\n",
    "| $H_1$ | **→** At least one day of the week has significantly different total revenues compared to the others. |"
   ]
  },
  {
   "cell_type": "code",
   "execution_count": 11,
   "id": "5358ffed-c747-40ff-8faf-5a42798487cb",
   "metadata": {},
   "outputs": [
    {
     "data": {
      "text/html": [
       "<div>\n",
       "<style scoped>\n",
       "    .dataframe tbody tr th:only-of-type {\n",
       "        vertical-align: middle;\n",
       "    }\n",
       "\n",
       "    .dataframe tbody tr th {\n",
       "        vertical-align: top;\n",
       "    }\n",
       "\n",
       "    .dataframe thead th {\n",
       "        text-align: right;\n",
       "    }\n",
       "</style>\n",
       "<table border=\"1\" class=\"dataframe\">\n",
       "  <thead>\n",
       "    <tr style=\"text-align: right;\">\n",
       "      <th></th>\n",
       "      <th>Day of Week</th>\n",
       "      <th>Total</th>\n",
       "    </tr>\n",
       "  </thead>\n",
       "  <tbody>\n",
       "    <tr>\n",
       "      <th>36</th>\n",
       "      <td>Tuesday</td>\n",
       "      <td>6719.06</td>\n",
       "    </tr>\n",
       "    <tr>\n",
       "      <th>46</th>\n",
       "      <td>Sunday</td>\n",
       "      <td>4331.21</td>\n",
       "    </tr>\n",
       "    <tr>\n",
       "      <th>226</th>\n",
       "      <td>Monday</td>\n",
       "      <td>15626.35</td>\n",
       "    </tr>\n",
       "  </tbody>\n",
       "</table>\n",
       "</div>"
      ],
      "text/plain": [
       "    Day of Week     Total\n",
       "36      Tuesday   6719.06\n",
       "46       Sunday   4331.21\n",
       "226      Monday  15626.35"
      ]
     },
     "metadata": {},
     "output_type": "display_data"
    },
    {
     "data": {
      "text/html": [
       "<div>\n",
       "<style scoped>\n",
       "    .dataframe tbody tr th:only-of-type {\n",
       "        vertical-align: middle;\n",
       "    }\n",
       "\n",
       "    .dataframe tbody tr th {\n",
       "        vertical-align: top;\n",
       "    }\n",
       "\n",
       "    .dataframe thead th {\n",
       "        text-align: right;\n",
       "    }\n",
       "</style>\n",
       "<table border=\"1\" class=\"dataframe\">\n",
       "  <thead>\n",
       "    <tr style=\"text-align: right;\">\n",
       "      <th>Day of Week</th>\n",
       "      <th>Friday</th>\n",
       "      <th>Monday</th>\n",
       "      <th>Sunday</th>\n",
       "      <th>Thursday</th>\n",
       "      <th>Tuesday</th>\n",
       "      <th>Wednesday</th>\n",
       "    </tr>\n",
       "  </thead>\n",
       "  <tbody>\n",
       "    <tr>\n",
       "      <th>0</th>\n",
       "      <td>50</td>\n",
       "      <td>47</td>\n",
       "      <td>50</td>\n",
       "      <td>53</td>\n",
       "      <td>52</td>\n",
       "      <td>53</td>\n",
       "    </tr>\n",
       "  </tbody>\n",
       "</table>\n",
       "</div>"
      ],
      "text/plain": [
       "Day of Week  Friday  Monday  Sunday  Thursday  Tuesday  Wednesday\n",
       "0                50      47      50        53       52         53"
      ]
     },
     "metadata": {},
     "output_type": "display_data"
    }
   ],
   "source": [
    "filt = data['Country']=='United Kingdom'\n",
    "df = data[filt].copy()\n",
    "\n",
    "df = df.groupby(['InvoiceDate', 'Day of Week']).agg({'Total':'sum'})\n",
    "df = df.reset_index().drop(columns='InvoiceDate')\n",
    "display(df.sample(3))\n",
    "\n",
    "groups = df.groupby('Day of Week')\n",
    "display(groups.size().to_frame().T)"
   ]
  },
  {
   "cell_type": "markdown",
   "id": "b83c6719-bf28-4516-bbcb-62e4ada32582",
   "metadata": {},
   "source": [
    "<p style=\"background-image: linear-gradient(#0aa98f, #ffffff 10%); font-weight:bold;\"> \n",
    "    &nbsp; Normality Test </p>"
   ]
  },
  {
   "cell_type": "code",
   "execution_count": 12,
   "id": "e65f900d-5b26-4dd9-9989-ae4e72cbaf82",
   "metadata": {},
   "outputs": [
    {
     "data": {
      "text/html": [
       "<div>\n",
       "<style scoped>\n",
       "    .dataframe tbody tr th:only-of-type {\n",
       "        vertical-align: middle;\n",
       "    }\n",
       "\n",
       "    .dataframe tbody tr th {\n",
       "        vertical-align: top;\n",
       "    }\n",
       "\n",
       "    .dataframe thead th {\n",
       "        text-align: right;\n",
       "    }\n",
       "</style>\n",
       "<table border=\"1\" class=\"dataframe\">\n",
       "  <thead>\n",
       "    <tr style=\"text-align: right;\">\n",
       "      <th>Day of Week</th>\n",
       "      <th>Tuesday</th>\n",
       "      <th>Wednesday</th>\n",
       "      <th>Thursday</th>\n",
       "      <th>Friday</th>\n",
       "      <th>Sunday</th>\n",
       "      <th>Monday</th>\n",
       "    </tr>\n",
       "  </thead>\n",
       "  <tbody>\n",
       "    <tr>\n",
       "      <th>W</th>\n",
       "      <td>0.91638</td>\n",
       "      <td>0.938053</td>\n",
       "      <td>0.945421</td>\n",
       "      <td>0.887287</td>\n",
       "      <td>0.882883</td>\n",
       "      <td>0.887538</td>\n",
       "    </tr>\n",
       "    <tr>\n",
       "      <th>pval</th>\n",
       "      <td>0.001381</td>\n",
       "      <td>0.0085</td>\n",
       "      <td>0.017185</td>\n",
       "      <td>0.000188</td>\n",
       "      <td>0.000137</td>\n",
       "      <td>0.000295</td>\n",
       "    </tr>\n",
       "    <tr>\n",
       "      <th>normal</th>\n",
       "      <td>False</td>\n",
       "      <td>False</td>\n",
       "      <td>False</td>\n",
       "      <td>False</td>\n",
       "      <td>False</td>\n",
       "      <td>False</td>\n",
       "    </tr>\n",
       "  </tbody>\n",
       "</table>\n",
       "</div>"
      ],
      "text/plain": [
       "Day of Week   Tuesday Wednesday  Thursday    Friday    Sunday    Monday\n",
       "W             0.91638  0.938053  0.945421  0.887287  0.882883  0.887538\n",
       "pval         0.001381    0.0085  0.017185  0.000188  0.000137  0.000295\n",
       "normal          False     False     False     False     False     False"
      ]
     },
     "metadata": {},
     "output_type": "display_data"
    },
    {
     "data": {
      "image/png": "[encoded data removed]",
      "text/plain": [
       "<Figure size 1200x900 with 6 Axes>"
      ]
     },
     "metadata": {},
     "output_type": "display_data"
    }
   ],
   "source": [
    "display(pg.normality(df, dv='Total', group='Day of Week').T)\n",
    "\n",
    "fig, axs = plt.subplots(2,3, figsize=(12,9))\n",
    "for c, (name, group) in enumerate(groups):\n",
    "    i, j = c//3, c%3\n",
    "    pg.qqplot(group['Total'], ax=axs[i,j])\n",
    "    axs[i,j].set_title(name)\n",
    "    axs[i,j].set_facecolor('#f5f5f5')\n",
    "\n",
    "plt.show()"
   ]
  },
  {
   "cell_type": "markdown",
   "id": "647b0e48-38b4-4881-bf39-a99c19237a3c",
   "metadata": {},
   "source": [
    "<p style=\"background-image: linear-gradient(#0aa98f, #ffffff 10%); font-weight:bold;\"> \n",
    "    &nbsp; Homogeneity of Variance Test </p>"
   ]
  },
  {
   "cell_type": "code",
   "execution_count": 13,
   "id": "92027436-5464-4ea6-a3bf-41c46fc7cb3b",
   "metadata": {},
   "outputs": [
    {
     "data": {
      "text/html": [
       "<div>\n",
       "<style scoped>\n",
       "    .dataframe tbody tr th:only-of-type {\n",
       "        vertical-align: middle;\n",
       "    }\n",
       "\n",
       "    .dataframe tbody tr th {\n",
       "        vertical-align: top;\n",
       "    }\n",
       "\n",
       "    .dataframe thead th {\n",
       "        text-align: right;\n",
       "    }\n",
       "</style>\n",
       "<table border=\"1\" class=\"dataframe\">\n",
       "  <thead>\n",
       "    <tr style=\"text-align: right;\">\n",
       "      <th></th>\n",
       "      <th>T</th>\n",
       "      <th>pval</th>\n",
       "      <th>equal_var</th>\n",
       "    </tr>\n",
       "  </thead>\n",
       "  <tbody>\n",
       "    <tr>\n",
       "      <th>bartlett</th>\n",
       "      <td>3.756003</td>\n",
       "      <td>0.585052</td>\n",
       "      <td>True</td>\n",
       "    </tr>\n",
       "  </tbody>\n",
       "</table>\n",
       "</div>"
      ],
      "text/plain": [
       "                 T      pval  equal_var\n",
       "bartlett  3.756003  0.585052       True"
      ]
     },
     "execution_count": 13,
     "metadata": {},
     "output_type": "execute_result"
    }
   ],
   "source": [
    "pg.homoscedasticity(df, dv='Total', group='Day of Week', method='bartlett')"
   ]
  },
  {
   "cell_type": "markdown",
   "id": "6b84c36f-7596-4036-a3c7-1fbab1a4d0e3",
   "metadata": {},
   "source": [
    "<p style=\"background-image: linear-gradient(#0aa98f, #ffffff 10%); font-weight:bold;\"> \n",
    "    &nbsp; ANOVA Test</p>\n",
    "\n",
    "One-way ANOVA can be applied by invoking the Central Limit Theorem. "
   ]
  },
  {
   "cell_type": "code",
   "execution_count": 14,
   "id": "af03182f-5123-45d9-b404-2865d6fd536c",
   "metadata": {},
   "outputs": [
    {
     "data": {
      "text/html": [
       "<div>\n",
       "<style scoped>\n",
       "    .dataframe tbody tr th:only-of-type {\n",
       "        vertical-align: middle;\n",
       "    }\n",
       "\n",
       "    .dataframe tbody tr th {\n",
       "        vertical-align: top;\n",
       "    }\n",
       "\n",
       "    .dataframe thead th {\n",
       "        text-align: right;\n",
       "    }\n",
       "</style>\n",
       "<table border=\"1\" class=\"dataframe\">\n",
       "  <thead>\n",
       "    <tr style=\"text-align: right;\">\n",
       "      <th></th>\n",
       "      <th>Source</th>\n",
       "      <th>ddof1</th>\n",
       "      <th>ddof2</th>\n",
       "      <th>F</th>\n",
       "      <th>p-unc</th>\n",
       "      <th>np2</th>\n",
       "      <th>Reject</th>\n",
       "    </tr>\n",
       "  </thead>\n",
       "  <tbody>\n",
       "    <tr>\n",
       "      <th>0</th>\n",
       "      <td>Day of Week</td>\n",
       "      <td>5</td>\n",
       "      <td>299</td>\n",
       "      <td>5.438442</td>\n",
       "      <td>0.000083</td>\n",
       "      <td>0.083363</td>\n",
       "      <td>H0 rejected.</td>\n",
       "    </tr>\n",
       "  </tbody>\n",
       "</table>\n",
       "</div>"
      ],
      "text/plain": [
       "        Source  ddof1  ddof2         F     p-unc       np2        Reject\n",
       "0  Day of Week      5    299  5.438442  0.000083  0.083363  H0 rejected."
      ]
     },
     "execution_count": 14,
     "metadata": {},
     "output_type": "execute_result"
    }
   ],
   "source": [
    "test = pg.parametric.anova(df, dv='Total', between='Day of Week')\n",
    "# test = pg.parametric.welch_anova(df, dv='Total', between='Day of Week')\n",
    "# test = pg.nonparametric.kruskal(df, dv='Total', between='Day of Week')\n",
    "test['Reject'] = test[['p-unc']].map(decision, method='verbose')\n",
    "test"
   ]
  },
  {
   "cell_type": "markdown",
   "id": "ced6e706-482c-437a-91ad-c02d73857441",
   "metadata": {},
   "source": [
    "<p style=\"background-image: linear-gradient(#0aa98f, #ffffff 10%); font-weight:bold;\"> \n",
    "    &nbsp; Post-Hoc - Tukey HSD </p>\n",
    "\n",
    "Since the variances are homogeneous and the sample sizes are similar across groups, the Tukey HSD test can be applied as a post hoc test."
   ]
  },
  {
   "cell_type": "code",
   "execution_count": 15,
   "id": "cb47f50b-c8f7-4b6a-ad51-575709a400c7",
   "metadata": {},
   "outputs": [
    {
     "data": {
      "text/html": [
       "<div>\n",
       "<style scoped>\n",
       "    .dataframe tbody tr th:only-of-type {\n",
       "        vertical-align: middle;\n",
       "    }\n",
       "\n",
       "    .dataframe tbody tr th {\n",
       "        vertical-align: top;\n",
       "    }\n",
       "\n",
       "    .dataframe thead th {\n",
       "        text-align: right;\n",
       "    }\n",
       "</style>\n",
       "<table border=\"1\" class=\"dataframe\">\n",
       "  <thead>\n",
       "    <tr style=\"text-align: right;\">\n",
       "      <th></th>\n",
       "      <th>A</th>\n",
       "      <th>B</th>\n",
       "      <th>mean(A)</th>\n",
       "      <th>mean(B)</th>\n",
       "      <th>diff</th>\n",
       "      <th>se</th>\n",
       "      <th>T</th>\n",
       "      <th>p-tukey</th>\n",
       "      <th>hedges</th>\n",
       "      <th>Reject</th>\n",
       "    </tr>\n",
       "  </thead>\n",
       "  <tbody>\n",
       "    <tr>\n",
       "      <th>2</th>\n",
       "      <td>Friday</td>\n",
       "      <td>Thursday</td>\n",
       "      <td>7925.8050</td>\n",
       "      <td>11083.513774</td>\n",
       "      <td>-3157.708774</td>\n",
       "      <td>817.941986</td>\n",
       "      <td>-3.860553</td>\n",
       "      <td>0.001912</td>\n",
       "      <td>-0.763270</td>\n",
       "      <td>True</td>\n",
       "    </tr>\n",
       "    <tr>\n",
       "      <th>9</th>\n",
       "      <td>Sunday</td>\n",
       "      <td>Thursday</td>\n",
       "      <td>7200.4826</td>\n",
       "      <td>11083.513774</td>\n",
       "      <td>-3883.031174</td>\n",
       "      <td>817.941986</td>\n",
       "      <td>-4.747319</td>\n",
       "      <td>0.000047</td>\n",
       "      <td>-0.864919</td>\n",
       "      <td>True</td>\n",
       "    </tr>\n",
       "  </tbody>\n",
       "</table>\n",
       "</div>"
      ],
      "text/plain": [
       "        A         B    mean(A)       mean(B)         diff          se  \\\n",
       "2  Friday  Thursday  7925.8050  11083.513774 -3157.708774  817.941986   \n",
       "9  Sunday  Thursday  7200.4826  11083.513774 -3883.031174  817.941986   \n",
       "\n",
       "          T   p-tukey    hedges  Reject  \n",
       "2 -3.860553  0.001912 -0.763270    True  \n",
       "9 -4.747319  0.000047 -0.864919    True  "
      ]
     },
     "metadata": {},
     "output_type": "display_data"
    }
   ],
   "source": [
    "# sp.posthoc_tukey_hsd(x=df['Total'], g=df['Day of Week'], alpha=0.05)\n",
    "\n",
    "tukey_hsd = pg.pairwise_tukey(df, dv='Total', between='Day of Week')\n",
    "tukey_hsd['Reject'] = tukey_hsd['p-tukey'].map(decision)\n",
    "\n",
    "# display(tukey_hsd)\n",
    "display(tukey_hsd[tukey_hsd['Reject']==True])"
   ]
  },
  {
   "cell_type": "markdown",
   "id": "d62b18c1-ccc2-45ad-9fb2-73ae030eb960",
   "metadata": {},
   "source": [
    "<p style=\"background-image: linear-gradient(#0aa98f, #ffffff 10%); font-weight:bold;\"> \n",
    "    &nbsp; Display of Metrics </p>"
   ]
  },
  {
   "cell_type": "code",
   "execution_count": 16,
   "id": "3d6452b8-e4cb-40d7-b193-f24505fea15c",
   "metadata": {},
   "outputs": [
    {
     "data": {
      "text/html": [
       "<div>\n",
       "<style scoped>\n",
       "    .dataframe tbody tr th:only-of-type {\n",
       "        vertical-align: middle;\n",
       "    }\n",
       "\n",
       "    .dataframe tbody tr th {\n",
       "        vertical-align: top;\n",
       "    }\n",
       "\n",
       "    .dataframe thead th {\n",
       "        text-align: right;\n",
       "    }\n",
       "</style>\n",
       "<table border=\"1\" class=\"dataframe\">\n",
       "  <thead>\n",
       "    <tr style=\"text-align: right;\">\n",
       "      <th>Day of Week</th>\n",
       "      <th>Friday</th>\n",
       "      <th>Monday</th>\n",
       "      <th>Sunday</th>\n",
       "      <th>Thursday</th>\n",
       "      <th>Tuesday</th>\n",
       "      <th>Wednesday</th>\n",
       "    </tr>\n",
       "  </thead>\n",
       "  <tbody>\n",
       "    <tr>\n",
       "      <th>Total</th>\n",
       "      <td>7926.0</td>\n",
       "      <td>9587.0</td>\n",
       "      <td>7200.0</td>\n",
       "      <td>11084.0</td>\n",
       "      <td>9185.0</td>\n",
       "      <td>9120.0</td>\n",
       "    </tr>\n",
       "  </tbody>\n",
       "</table>\n",
       "</div>"
      ],
      "text/plain": [
       "Day of Week  Friday  Monday  Sunday  Thursday  Tuesday  Wednesday\n",
       "Total        7926.0  9587.0  7200.0   11084.0   9185.0     9120.0"
      ]
     },
     "execution_count": 16,
     "metadata": {},
     "output_type": "execute_result"
    }
   ],
   "source": [
    "groups.mean().T.round()"
   ]
  },
  {
   "cell_type": "markdown",
   "id": "b1719e4c-3f50-4c9c-986a-38bbaf4bc02c",
   "metadata": {},
   "source": [
    "<a id='3'></a>\n",
    "<p style=\"background-image: linear-gradient(to right, #0aa98f, #68dab2)\"> &nbsp; </p>\n",
    "\n",
    "#####  **3. Is there a difference in invoice amounts between clusters?** (online_retail_clean_customer_clusters.csv)\n",
    "\n",
    "| | |\n",
    "|-|-|\n",
    "| $H_0$ | **→** There is no significant difference in invoice amounts based on customer groups. |\n",
    "| $H_1$ | **→** At least one customer group has significantly different invoice amounts compared to the others. |"
   ]
  },
  {
   "cell_type": "code",
   "execution_count": 17,
   "id": "3e654489-0a1e-471b-823a-6debf0c935b9",
   "metadata": {},
   "outputs": [
    {
     "data": {
      "text/html": [
       "<div>\n",
       "<style scoped>\n",
       "    .dataframe tbody tr th:only-of-type {\n",
       "        vertical-align: middle;\n",
       "    }\n",
       "\n",
       "    .dataframe tbody tr th {\n",
       "        vertical-align: top;\n",
       "    }\n",
       "\n",
       "    .dataframe thead tr th {\n",
       "        text-align: left;\n",
       "    }\n",
       "</style>\n",
       "<table border=\"1\" class=\"dataframe\">\n",
       "  <thead>\n",
       "    <tr>\n",
       "      <th>Label</th>\n",
       "      <th>1</th>\n",
       "      <th>0</th>\n",
       "      <th>2</th>\n",
       "      <th>3</th>\n",
       "    </tr>\n",
       "  </thead>\n",
       "  <tbody>\n",
       "    <tr>\n",
       "      <th>count</th>\n",
       "      <td>2016</td>\n",
       "      <td>1028</td>\n",
       "      <td>613</td>\n",
       "      <td>474</td>\n",
       "    </tr>\n",
       "  </tbody>\n",
       "</table>\n",
       "</div>"
      ],
      "text/plain": [
       "Label     1     0    2    3\n",
       "count  2016  1028  613  474"
      ]
     },
     "metadata": {},
     "output_type": "display_data"
    },
    {
     "data": {
      "text/html": [
       "<div>\n",
       "<style scoped>\n",
       "    .dataframe tbody tr th:only-of-type {\n",
       "        vertical-align: middle;\n",
       "    }\n",
       "\n",
       "    .dataframe tbody tr th {\n",
       "        vertical-align: top;\n",
       "    }\n",
       "\n",
       "    .dataframe thead th {\n",
       "        text-align: right;\n",
       "    }\n",
       "</style>\n",
       "<table border=\"1\" class=\"dataframe\">\n",
       "  <thead>\n",
       "    <tr style=\"text-align: right;\">\n",
       "      <th>Customer ID</th>\n",
       "      <th>12347</th>\n",
       "      <th>12348</th>\n",
       "      <th>12349</th>\n",
       "      <th>12350</th>\n",
       "      <th>12352</th>\n",
       "    </tr>\n",
       "  </thead>\n",
       "  <tbody>\n",
       "    <tr>\n",
       "      <th>Label</th>\n",
       "      <td>1</td>\n",
       "      <td>2</td>\n",
       "      <td>1</td>\n",
       "      <td>3</td>\n",
       "      <td>1</td>\n",
       "    </tr>\n",
       "  </tbody>\n",
       "</table>\n",
       "</div>"
      ],
      "text/plain": [
       "Customer ID  12347  12348  12349  12350  12352\n",
       "Label            1      2      1      3      1"
      ]
     },
     "metadata": {},
     "output_type": "display_data"
    }
   ],
   "source": [
    "C = pd.read_csv('data/online_retail_clean_customer_clusters.csv', index_col='Customer ID')\n",
    "display(C.value_counts().to_frame().T)\n",
    "display(C.head().T)"
   ]
  },
  {
   "cell_type": "code",
   "execution_count": 18,
   "id": "45ef0420-a47b-4dfd-a32b-d5dab7bd7cc7",
   "metadata": {},
   "outputs": [
    {
     "data": {
      "text/html": [
       "<div>\n",
       "<style scoped>\n",
       "    .dataframe tbody tr th:only-of-type {\n",
       "        vertical-align: middle;\n",
       "    }\n",
       "\n",
       "    .dataframe tbody tr th {\n",
       "        vertical-align: top;\n",
       "    }\n",
       "\n",
       "    .dataframe thead th {\n",
       "        text-align: right;\n",
       "    }\n",
       "</style>\n",
       "<table border=\"1\" class=\"dataframe\">\n",
       "  <thead>\n",
       "    <tr style=\"text-align: right;\">\n",
       "      <th></th>\n",
       "      <th>Total</th>\n",
       "      <th>Group</th>\n",
       "    </tr>\n",
       "    <tr>\n",
       "      <th>Invoice</th>\n",
       "      <th></th>\n",
       "      <th></th>\n",
       "    </tr>\n",
       "  </thead>\n",
       "  <tbody>\n",
       "    <tr>\n",
       "      <th>549185</th>\n",
       "      <td>415.06</td>\n",
       "      <td>1</td>\n",
       "    </tr>\n",
       "    <tr>\n",
       "      <th>562619</th>\n",
       "      <td>124.02</td>\n",
       "      <td>1</td>\n",
       "    </tr>\n",
       "    <tr>\n",
       "      <th>566062</th>\n",
       "      <td>1.45</td>\n",
       "      <td>0</td>\n",
       "    </tr>\n",
       "  </tbody>\n",
       "</table>\n",
       "</div>"
      ],
      "text/plain": [
       "          Total  Group\n",
       "Invoice               \n",
       "549185   415.06      1\n",
       "562619   124.02      1\n",
       "566062     1.45      0"
      ]
     },
     "metadata": {},
     "output_type": "display_data"
    }
   ],
   "source": [
    "df = data[['Invoice', 'Customer ID', 'Total']]\n",
    "df = df.groupby(['Customer ID', 'Invoice']).agg({'Total':'sum'})\n",
    "df = df.reset_index().set_index('Invoice')\n",
    "\n",
    "df['Group'] = df['Customer ID'].map(lambda id: C.loc[id, 'Label'])\n",
    "df.drop(columns='Customer ID', inplace=True)\n",
    "display(df.sample(3))\n",
    "\n",
    "groups = df.groupby('Group')"
   ]
  },
  {
   "cell_type": "markdown",
   "id": "5bc23e57-e756-4422-b9ac-22b3fad8a547",
   "metadata": {},
   "source": [
    "<p style=\"background-image: linear-gradient(#0aa98f, #ffffff 10%); font-weight:bold;\"> \n",
    "    &nbsp; Normality Test </p>"
   ]
  },
  {
   "cell_type": "code",
   "execution_count": 19,
   "id": "51e895d6-d36e-46b3-8310-811ebea62e47",
   "metadata": {},
   "outputs": [
    {
     "data": {
      "text/html": [
       "<div>\n",
       "<style scoped>\n",
       "    .dataframe tbody tr th:only-of-type {\n",
       "        vertical-align: middle;\n",
       "    }\n",
       "\n",
       "    .dataframe tbody tr th {\n",
       "        vertical-align: top;\n",
       "    }\n",
       "\n",
       "    .dataframe thead th {\n",
       "        text-align: right;\n",
       "    }\n",
       "</style>\n",
       "<table border=\"1\" class=\"dataframe\">\n",
       "  <thead>\n",
       "    <tr style=\"text-align: right;\">\n",
       "      <th>Group</th>\n",
       "      <th>1</th>\n",
       "      <th>2</th>\n",
       "      <th>3</th>\n",
       "      <th>0</th>\n",
       "    </tr>\n",
       "  </thead>\n",
       "  <tbody>\n",
       "    <tr>\n",
       "      <th>W</th>\n",
       "      <td>10199.039821</td>\n",
       "      <td>432.492808</td>\n",
       "      <td>473.752964</td>\n",
       "      <td>2365.517597</td>\n",
       "    </tr>\n",
       "    <tr>\n",
       "      <th>pval</th>\n",
       "      <td>0.0</td>\n",
       "      <td>0.0</td>\n",
       "      <td>0.0</td>\n",
       "      <td>0.0</td>\n",
       "    </tr>\n",
       "    <tr>\n",
       "      <th>normal</th>\n",
       "      <td>False</td>\n",
       "      <td>False</td>\n",
       "      <td>False</td>\n",
       "      <td>False</td>\n",
       "    </tr>\n",
       "  </tbody>\n",
       "</table>\n",
       "</div>"
      ],
      "text/plain": [
       "Group              1           2           3            0\n",
       "W       10199.039821  432.492808  473.752964  2365.517597\n",
       "pval             0.0         0.0         0.0          0.0\n",
       "normal         False       False       False        False"
      ]
     },
     "metadata": {},
     "output_type": "display_data"
    },
    {
     "data": {
      "image/png": "[encoded data removed]",
      "text/plain": [
       "<Figure size 1000x300 with 4 Axes>"
      ]
     },
     "metadata": {},
     "output_type": "display_data"
    }
   ],
   "source": [
    "display(pg.normality(df, dv='Total', group='Group', method='normaltest').T)\n",
    "\n",
    "fig, axs = plt.subplots(1,4, figsize=(10,3))\n",
    "for i, (name, group) in enumerate(groups):\n",
    "    pg.qqplot(group['Total'], ax=axs[i])\n",
    "    axs[i].set_title(f'Group - {name}')\n",
    "    axs[i].set_facecolor('#f5f5f5')\n",
    "    axs[i].set_xlabel(None)\n",
    "    axs[i].set_ylabel(None)\n",
    "\n",
    "plt.tight_layout()\n",
    "plt.show()"
   ]
  },
  {
   "cell_type": "markdown",
   "id": "076d0db0-7658-45f9-b829-29215720c4bd",
   "metadata": {},
   "source": [
    "<p style=\"background-image: linear-gradient(#0aa98f, #ffffff 10%); font-weight:bold;\"> \n",
    "    &nbsp; Homogeneity of Variance Test </p>"
   ]
  },
  {
   "cell_type": "code",
   "execution_count": 20,
   "id": "4b96fa1d-cc89-40d1-9eee-37816d5480e9",
   "metadata": {},
   "outputs": [
    {
     "data": {
      "text/html": [
       "<div>\n",
       "<style scoped>\n",
       "    .dataframe tbody tr th:only-of-type {\n",
       "        vertical-align: middle;\n",
       "    }\n",
       "\n",
       "    .dataframe tbody tr th {\n",
       "        vertical-align: top;\n",
       "    }\n",
       "\n",
       "    .dataframe thead th {\n",
       "        text-align: right;\n",
       "    }\n",
       "</style>\n",
       "<table border=\"1\" class=\"dataframe\">\n",
       "  <thead>\n",
       "    <tr style=\"text-align: right;\">\n",
       "      <th></th>\n",
       "      <th>T</th>\n",
       "      <th>pval</th>\n",
       "      <th>equal_var</th>\n",
       "    </tr>\n",
       "  </thead>\n",
       "  <tbody>\n",
       "    <tr>\n",
       "      <th>bartlett</th>\n",
       "      <td>238.909868</td>\n",
       "      <td>1.637740e-51</td>\n",
       "      <td>False</td>\n",
       "    </tr>\n",
       "  </tbody>\n",
       "</table>\n",
       "</div>"
      ],
      "text/plain": [
       "                   T          pval  equal_var\n",
       "bartlett  238.909868  1.637740e-51      False"
      ]
     },
     "execution_count": 20,
     "metadata": {},
     "output_type": "execute_result"
    }
   ],
   "source": [
    "pg.homoscedasticity(df, dv='Total', group='Group', method='bartlett')"
   ]
  },
  {
   "cell_type": "markdown",
   "id": "fa0c87b6-9fc5-497f-af81-8cfebf076a04",
   "metadata": {},
   "source": [
    "<p style=\"background-image: linear-gradient(#0aa98f, #ffffff 10%); font-weight:bold;\"> \n",
    "    &nbsp; Kruskal-Wallis Test </p>\n",
    "\n",
    "Since the assumptions of normality and homogeneity are not met, the Kruskal-Wallis test, which is the non-parametric equivalent of one-way ANOVA, is applied."
   ]
  },
  {
   "cell_type": "code",
   "execution_count": 21,
   "id": "13988abe-3c87-4d46-819a-e0cf122a7fb6",
   "metadata": {},
   "outputs": [
    {
     "data": {
      "text/html": [
       "<div>\n",
       "<style scoped>\n",
       "    .dataframe tbody tr th:only-of-type {\n",
       "        vertical-align: middle;\n",
       "    }\n",
       "\n",
       "    .dataframe tbody tr th {\n",
       "        vertical-align: top;\n",
       "    }\n",
       "\n",
       "    .dataframe thead th {\n",
       "        text-align: right;\n",
       "    }\n",
       "</style>\n",
       "<table border=\"1\" class=\"dataframe\">\n",
       "  <thead>\n",
       "    <tr style=\"text-align: right;\">\n",
       "      <th></th>\n",
       "      <th>Source</th>\n",
       "      <th>ddof1</th>\n",
       "      <th>H</th>\n",
       "      <th>p-unc</th>\n",
       "      <th>Reject</th>\n",
       "    </tr>\n",
       "  </thead>\n",
       "  <tbody>\n",
       "    <tr>\n",
       "      <th>Kruskal</th>\n",
       "      <td>Group</td>\n",
       "      <td>3</td>\n",
       "      <td>111.589954</td>\n",
       "      <td>4.990487e-24</td>\n",
       "      <td>H0 rejected.</td>\n",
       "    </tr>\n",
       "  </tbody>\n",
       "</table>\n",
       "</div>"
      ],
      "text/plain": [
       "        Source  ddof1           H         p-unc        Reject\n",
       "Kruskal  Group      3  111.589954  4.990487e-24  H0 rejected."
      ]
     },
     "execution_count": 21,
     "metadata": {},
     "output_type": "execute_result"
    }
   ],
   "source": [
    "# test = pg.parametric.anova(df, dv='Total', between='Group')\n",
    "# test = pg.parametric.welch_anova(df, dv='Total', between='Group')\n",
    "test = pg.nonparametric.kruskal(df, dv='Total', between='Group')\n",
    "test['Reject'] = test[['p-unc']].map(decision, method='verbose')\n",
    "test"
   ]
  },
  {
   "cell_type": "markdown",
   "id": "e8df248e-9b5d-416b-835e-fd6a088a7789",
   "metadata": {},
   "source": [
    "<p style=\"background-image: linear-gradient(#0aa98f, #ffffff 10%); font-weight:bold;\"> \n",
    "    &nbsp; Post-Hoc - Tamhane's T2 </p>\n",
    "\n",
    "Since the variances are not homogeneous and the sample sizes are not similar across groups, the Tamhane's T2 test can be applied as a post hoc test."
   ]
  },
  {
   "cell_type": "code",
   "execution_count": 22,
   "id": "b84e4b3d-52a3-42ad-b87a-246c6b8a6832",
   "metadata": {},
   "outputs": [
    {
     "data": {
      "text/html": [
       "<div>\n",
       "<style scoped>\n",
       "    .dataframe tbody tr th:only-of-type {\n",
       "        vertical-align: middle;\n",
       "    }\n",
       "\n",
       "    .dataframe tbody tr th {\n",
       "        vertical-align: top;\n",
       "    }\n",
       "\n",
       "    .dataframe thead th {\n",
       "        text-align: right;\n",
       "    }\n",
       "</style>\n",
       "<table border=\"1\" class=\"dataframe\">\n",
       "  <thead>\n",
       "    <tr style=\"text-align: right;\">\n",
       "      <th></th>\n",
       "      <th>1</th>\n",
       "      <th>2</th>\n",
       "      <th>3</th>\n",
       "      <th>0</th>\n",
       "    </tr>\n",
       "  </thead>\n",
       "  <tbody>\n",
       "    <tr>\n",
       "      <th>1</th>\n",
       "      <td>✔</td>\n",
       "      <td>✗</td>\n",
       "      <td>✗</td>\n",
       "      <td>✔</td>\n",
       "    </tr>\n",
       "    <tr>\n",
       "      <th>2</th>\n",
       "      <td>✗</td>\n",
       "      <td>✔</td>\n",
       "      <td>✔</td>\n",
       "      <td>✗</td>\n",
       "    </tr>\n",
       "    <tr>\n",
       "      <th>3</th>\n",
       "      <td>✗</td>\n",
       "      <td>✔</td>\n",
       "      <td>✔</td>\n",
       "      <td>✗</td>\n",
       "    </tr>\n",
       "    <tr>\n",
       "      <th>0</th>\n",
       "      <td>✔</td>\n",
       "      <td>✗</td>\n",
       "      <td>✗</td>\n",
       "      <td>✔</td>\n",
       "    </tr>\n",
       "  </tbody>\n",
       "</table>\n",
       "</div>"
      ],
      "text/plain": [
       "   1  2  3  0\n",
       "1  ✔  ✗  ✗  ✔\n",
       "2  ✗  ✔  ✔  ✗\n",
       "3  ✗  ✔  ✔  ✗\n",
       "0  ✔  ✗  ✗  ✔"
      ]
     },
     "metadata": {},
     "output_type": "display_data"
    },
    {
     "name": "stdout",
     "output_type": "stream",
     "text": [
      "0 & 3\t0 & 2\t1 & 2\t1 & 3\n"
     ]
    }
   ],
   "source": [
    "tamhane = sp.posthoc_tamhane(df, val_col='Total', group_col='Group')\n",
    "tamhane = tamhane.map(decision, method='sign') # ✗\t→ Null Hypothesis Rejected\n",
    "display(tamhane)\n",
    "\n",
    "print(*get_pairs(tamhane), sep='\\t')"
   ]
  },
  {
   "cell_type": "markdown",
   "id": "1faaee95-188f-41c7-91c0-07edf5baba97",
   "metadata": {},
   "source": [
    "<p style=\"background-image: linear-gradient(#0aa98f, #ffffff 10%); font-weight:bold;\"> \n",
    "    &nbsp; Display of Metrics </p>"
   ]
  },
  {
   "cell_type": "code",
   "execution_count": 23,
   "id": "b2e14fa4-7e5e-448d-bc49-f317a449a103",
   "metadata": {},
   "outputs": [
    {
     "data": {
      "text/html": [
       "<div>\n",
       "<style scoped>\n",
       "    .dataframe tbody tr th:only-of-type {\n",
       "        vertical-align: middle;\n",
       "    }\n",
       "\n",
       "    .dataframe tbody tr th {\n",
       "        vertical-align: top;\n",
       "    }\n",
       "\n",
       "    .dataframe thead th {\n",
       "        text-align: right;\n",
       "    }\n",
       "</style>\n",
       "<table border=\"1\" class=\"dataframe\">\n",
       "  <thead>\n",
       "    <tr style=\"text-align: right;\">\n",
       "      <th>Group</th>\n",
       "      <th>0</th>\n",
       "      <th>1</th>\n",
       "      <th>2</th>\n",
       "      <th>3</th>\n",
       "    </tr>\n",
       "  </thead>\n",
       "  <tbody>\n",
       "    <tr>\n",
       "      <th>Total</th>\n",
       "      <td>208.03</td>\n",
       "      <td>203.43</td>\n",
       "      <td>163.46</td>\n",
       "      <td>153.57</td>\n",
       "    </tr>\n",
       "  </tbody>\n",
       "</table>\n",
       "</div>"
      ],
      "text/plain": [
       "Group       0       1       2       3\n",
       "Total  208.03  203.43  163.46  153.57"
      ]
     },
     "execution_count": 23,
     "metadata": {},
     "output_type": "execute_result"
    }
   ],
   "source": [
    "groups.mean().T.round(2)"
   ]
  },
  {
   "cell_type": "markdown",
   "id": "1d1663b8-dc92-4584-8f6b-360d0b7100bb",
   "metadata": {},
   "source": [
    "<a id='4'></a>\n",
    "<p style=\"background-image: linear-gradient(to right, #0aa98f, #68dab2)\"> &nbsp; </p>\n",
    "\n",
    "#####  **4. Does the average number of items sold per invoice differ between the UK and non-UK countries?**\n",
    "\n",
    "\n",
    "| | |\n",
    "|-|-|\n",
    "| $H_0$ | **→** There is no significant difference in the average number of items sold per invoice between the UK and non-UK countries. |\n",
    "| $H_1$ | **→** There is a significant difference in the average number of items sold per invoice between the UK and non-UK countries. |"
   ]
  },
  {
   "cell_type": "code",
   "execution_count": 24,
   "id": "e30d5a61-aca1-4954-a0b0-f7d4cf80bb91",
   "metadata": {},
   "outputs": [
    {
     "data": {
      "text/html": [
       "<div>\n",
       "<style scoped>\n",
       "    .dataframe tbody tr th:only-of-type {\n",
       "        vertical-align: middle;\n",
       "    }\n",
       "\n",
       "    .dataframe tbody tr th {\n",
       "        vertical-align: top;\n",
       "    }\n",
       "\n",
       "    .dataframe thead th {\n",
       "        text-align: right;\n",
       "    }\n",
       "</style>\n",
       "<table border=\"1\" class=\"dataframe\">\n",
       "  <thead>\n",
       "    <tr style=\"text-align: right;\">\n",
       "      <th></th>\n",
       "      <th>Country</th>\n",
       "      <th>Quantity</th>\n",
       "    </tr>\n",
       "    <tr>\n",
       "      <th>Invoice</th>\n",
       "      <th></th>\n",
       "      <th></th>\n",
       "    </tr>\n",
       "  </thead>\n",
       "  <tbody>\n",
       "    <tr>\n",
       "      <th>577052</th>\n",
       "      <td>UK</td>\n",
       "      <td>121</td>\n",
       "    </tr>\n",
       "    <tr>\n",
       "      <th>546524</th>\n",
       "      <td>UK</td>\n",
       "      <td>29</td>\n",
       "    </tr>\n",
       "    <tr>\n",
       "      <th>555241</th>\n",
       "      <td>UK</td>\n",
       "      <td>3</td>\n",
       "    </tr>\n",
       "  </tbody>\n",
       "</table>\n",
       "</div>"
      ],
      "text/plain": [
       "        Country  Quantity\n",
       "Invoice                  \n",
       "577052       UK       121\n",
       "546524       UK        29\n",
       "555241       UK         3"
      ]
     },
     "metadata": {},
     "output_type": "display_data"
    }
   ],
   "source": [
    "df = data[['Country', 'InvoiceDate', 'Invoice', 'Quantity']].copy()\n",
    "df['Country'] = df['Country'].apply(lambda c: 'UK' if c=='United Kingdom' else 'Non-UK')\n",
    "\n",
    "df = df.groupby(['Country', 'Invoice']).agg({'Quantity':'sum'})\n",
    "df = df.reset_index().set_index('Invoice')\n",
    "display(df.sample(3))\n",
    "\n",
    "df_1 = df[df['Country']=='UK']['Quantity']\n",
    "df_2 = df[df['Country']=='Non-UK']['Quantity']"
   ]
  },
  {
   "cell_type": "markdown",
   "id": "6277e773-e945-41c0-be3b-12a1a95635c6",
   "metadata": {},
   "source": [
    "<p style=\"background-image: linear-gradient(#0aa98f, #ffffff 10%); font-weight:bold;\"> \n",
    "    &nbsp; Normality Test </p>"
   ]
  },
  {
   "cell_type": "code",
   "execution_count": 25,
   "id": "7d13e968-895a-4a2a-bc2d-334157af8cf8",
   "metadata": {},
   "outputs": [
    {
     "data": {
      "text/html": [
       "<div>\n",
       "<style scoped>\n",
       "    .dataframe tbody tr th:only-of-type {\n",
       "        vertical-align: middle;\n",
       "    }\n",
       "\n",
       "    .dataframe tbody tr th {\n",
       "        vertical-align: top;\n",
       "    }\n",
       "\n",
       "    .dataframe thead th {\n",
       "        text-align: right;\n",
       "    }\n",
       "</style>\n",
       "<table border=\"1\" class=\"dataframe\">\n",
       "  <thead>\n",
       "    <tr style=\"text-align: right;\">\n",
       "      <th></th>\n",
       "      <th>W</th>\n",
       "      <th>pval</th>\n",
       "      <th>normal</th>\n",
       "    </tr>\n",
       "    <tr>\n",
       "      <th>Country</th>\n",
       "      <th></th>\n",
       "      <th></th>\n",
       "      <th></th>\n",
       "    </tr>\n",
       "  </thead>\n",
       "  <tbody>\n",
       "    <tr>\n",
       "      <th>Non-UK</th>\n",
       "      <td>1149.450533</td>\n",
       "      <td>2.511818e-250</td>\n",
       "      <td>False</td>\n",
       "    </tr>\n",
       "    <tr>\n",
       "      <th>UK</th>\n",
       "      <td>11715.191318</td>\n",
       "      <td>0.000000e+00</td>\n",
       "      <td>False</td>\n",
       "    </tr>\n",
       "  </tbody>\n",
       "</table>\n",
       "</div>"
      ],
      "text/plain": [
       "                    W           pval  normal\n",
       "Country                                     \n",
       "Non-UK    1149.450533  2.511818e-250   False\n",
       "UK       11715.191318   0.000000e+00   False"
      ]
     },
     "metadata": {},
     "output_type": "display_data"
    },
    {
     "data": {
      "image/png": "[encoded data removed]",
      "text/plain": [
       "<Figure size 800x300 with 2 Axes>"
      ]
     },
     "metadata": {},
     "output_type": "display_data"
    }
   ],
   "source": [
    "display(pg.normality(df, dv='Quantity', group='Country', method='normaltest')) # method='shapiro'\n",
    "\n",
    "fig, (ax1, ax2) = plt.subplots(1,2, figsize=(8,3))\n",
    "pg.qqplot(df_1, ax=ax1)\n",
    "pg.qqplot(df_2, ax=ax2)\n",
    "\n",
    "ax1.set_facecolor('#f5f5f5')\n",
    "ax2.set_facecolor('#f5f5f5')\n",
    "plt.show()"
   ]
  },
  {
   "cell_type": "markdown",
   "id": "6b24aa93-5960-42f1-9df5-60cd62e916a2",
   "metadata": {},
   "source": [
    "<p style=\"background-image: linear-gradient(#0aa98f, #ffffff 10%); font-weight:bold;\"> \n",
    "    &nbsp; Homogeneity of Variance Test </p>"
   ]
  },
  {
   "cell_type": "code",
   "execution_count": 26,
   "id": "522e43d2-2241-4c1b-b4c2-694171e94281",
   "metadata": {},
   "outputs": [
    {
     "data": {
      "text/html": [
       "<div>\n",
       "<style scoped>\n",
       "    .dataframe tbody tr th:only-of-type {\n",
       "        vertical-align: middle;\n",
       "    }\n",
       "\n",
       "    .dataframe tbody tr th {\n",
       "        vertical-align: top;\n",
       "    }\n",
       "\n",
       "    .dataframe thead th {\n",
       "        text-align: right;\n",
       "    }\n",
       "</style>\n",
       "<table border=\"1\" class=\"dataframe\">\n",
       "  <thead>\n",
       "    <tr style=\"text-align: right;\">\n",
       "      <th></th>\n",
       "      <th>T</th>\n",
       "      <th>pval</th>\n",
       "      <th>equal_var</th>\n",
       "    </tr>\n",
       "  </thead>\n",
       "  <tbody>\n",
       "    <tr>\n",
       "      <th>bartlett</th>\n",
       "      <td>485.158779</td>\n",
       "      <td>1.611451e-107</td>\n",
       "      <td>False</td>\n",
       "    </tr>\n",
       "  </tbody>\n",
       "</table>\n",
       "</div>"
      ],
      "text/plain": [
       "                   T           pval  equal_var\n",
       "bartlett  485.158779  1.611451e-107      False"
      ]
     },
     "execution_count": 26,
     "metadata": {},
     "output_type": "execute_result"
    }
   ],
   "source": [
    "pg.homoscedasticity(df, dv='Quantity', group='Country', method='bartlett')"
   ]
  },
  {
   "cell_type": "markdown",
   "id": "165e4c47-6dcf-4140-85bc-9207ee9da52c",
   "metadata": {},
   "source": [
    "<p style=\"background-image: linear-gradient(#0aa98f, #ffffff 10%); font-weight:bold;\"> \n",
    "    &nbsp; Mann-Whitney U Test </p>\n",
    "\n",
    "Since the assumptions of normality and homogeneity of variance are violated, we use the Mann-Whitney U Test instead of the Independent Samples T-Test."
   ]
  },
  {
   "cell_type": "code",
   "execution_count": 27,
   "id": "ec1ab54b-ddca-4fc4-8fa1-192dc50bbb77",
   "metadata": {},
   "outputs": [
    {
     "data": {
      "text/html": [
       "<div>\n",
       "<style scoped>\n",
       "    .dataframe tbody tr th:only-of-type {\n",
       "        vertical-align: middle;\n",
       "    }\n",
       "\n",
       "    .dataframe tbody tr th {\n",
       "        vertical-align: top;\n",
       "    }\n",
       "\n",
       "    .dataframe thead th {\n",
       "        text-align: right;\n",
       "    }\n",
       "</style>\n",
       "<table border=\"1\" class=\"dataframe\">\n",
       "  <thead>\n",
       "    <tr style=\"text-align: right;\">\n",
       "      <th></th>\n",
       "      <th>U-val</th>\n",
       "      <th>alternative</th>\n",
       "      <th>p-val</th>\n",
       "      <th>RBC</th>\n",
       "      <th>CLES</th>\n",
       "      <th>Reject</th>\n",
       "    </tr>\n",
       "  </thead>\n",
       "  <tbody>\n",
       "    <tr>\n",
       "      <th>MWU</th>\n",
       "      <td>8999844.5</td>\n",
       "      <td>two-sided</td>\n",
       "      <td>1.120344e-50</td>\n",
       "      <td>-0.227159</td>\n",
       "      <td>0.386421</td>\n",
       "      <td>H0 rejected.</td>\n",
       "    </tr>\n",
       "  </tbody>\n",
       "</table>\n",
       "</div>"
      ],
      "text/plain": [
       "         U-val alternative         p-val       RBC      CLES        Reject\n",
       "MWU  8999844.5   two-sided  1.120344e-50 -0.227159  0.386421  H0 rejected."
      ]
     },
     "execution_count": 27,
     "metadata": {},
     "output_type": "execute_result"
    }
   ],
   "source": [
    "# test = pg.parametric.ttest(df_1, df_2)\n",
    "test = pg.nonparametric.mwu(df_1, df_2)\n",
    "test['Reject'] = test[['p-val']].map(decision, method='verbose')\n",
    "test"
   ]
  },
  {
   "cell_type": "markdown",
   "id": "1b691633-260d-4707-9b52-b20491695f5b",
   "metadata": {},
   "source": [
    "<p style=\"background-image: linear-gradient(#0aa98f, #ffffff 10%); font-weight:bold;\"> \n",
    "    &nbsp; Display of Metrics </p>"
   ]
  },
  {
   "cell_type": "code",
   "execution_count": 28,
   "id": "6ba9dc79-df95-4fa8-98d6-c28223f68820",
   "metadata": {},
   "outputs": [
    {
     "data": {
      "text/html": [
       "<div>\n",
       "<style scoped>\n",
       "    .dataframe tbody tr th:only-of-type {\n",
       "        vertical-align: middle;\n",
       "    }\n",
       "\n",
       "    .dataframe tbody tr th {\n",
       "        vertical-align: top;\n",
       "    }\n",
       "\n",
       "    .dataframe thead th {\n",
       "        text-align: right;\n",
       "    }\n",
       "</style>\n",
       "<table border=\"1\" class=\"dataframe\">\n",
       "  <thead>\n",
       "    <tr style=\"text-align: right;\">\n",
       "      <th></th>\n",
       "      <th>Country</th>\n",
       "      <th>Non-UK</th>\n",
       "      <th>UK</th>\n",
       "    </tr>\n",
       "  </thead>\n",
       "  <tbody>\n",
       "    <tr>\n",
       "      <th rowspan=\"2\" valign=\"top\">Quantity</th>\n",
       "      <th>mean</th>\n",
       "      <td>186.39</td>\n",
       "      <td>124.11</td>\n",
       "    </tr>\n",
       "    <tr>\n",
       "      <th>std</th>\n",
       "      <td>185.91</td>\n",
       "      <td>128.28</td>\n",
       "    </tr>\n",
       "  </tbody>\n",
       "</table>\n",
       "</div>"
      ],
      "text/plain": [
       "Country        Non-UK      UK\n",
       "Quantity mean  186.39  124.11\n",
       "         std   185.91  128.28"
      ]
     },
     "execution_count": 28,
     "metadata": {},
     "output_type": "execute_result"
    }
   ],
   "source": [
    "df.groupby('Country')[['Quantity']].agg(['mean', 'std']).round(2).T"
   ]
  },
  {
   "cell_type": "markdown",
   "id": "18224828-4f26-4295-9d59-74282309b77e",
   "metadata": {},
   "source": [
    "<a id='5'></a>\n",
    "<p style=\"background-image: linear-gradient(to right, #0aa98f, #68dab2)\"> &nbsp; </p>\n",
    "\n",
    "#####  **5. Is there a difference in the invoice amounts of the first and second purchases of customers who make more than one purchase?**\n",
    "\n",
    "| | |\n",
    "|-|-|\n",
    "| $H_0$ | **→** There is no significant difference in the invoice amounts of the first and second purchases of customers who make more than one purchase. |\n",
    "| $H_1$ | **→** There is a significant difference in the invoice amounts of the first and second purchases of customers who make more than one purchase. |"
   ]
  },
  {
   "cell_type": "code",
   "execution_count": 29,
   "id": "ddab770f-bc10-47ea-9421-dd6b34e1816b",
   "metadata": {},
   "outputs": [
    {
     "data": {
      "text/html": [
       "<div>\n",
       "<style scoped>\n",
       "    .dataframe tbody tr th:only-of-type {\n",
       "        vertical-align: middle;\n",
       "    }\n",
       "\n",
       "    .dataframe tbody tr th {\n",
       "        vertical-align: top;\n",
       "    }\n",
       "\n",
       "    .dataframe thead th {\n",
       "        text-align: right;\n",
       "    }\n",
       "</style>\n",
       "<table border=\"1\" class=\"dataframe\">\n",
       "  <thead>\n",
       "    <tr style=\"text-align: right;\">\n",
       "      <th></th>\n",
       "      <th>Customer ID</th>\n",
       "      <th>Time</th>\n",
       "      <th>Total</th>\n",
       "    </tr>\n",
       "  </thead>\n",
       "  <tbody>\n",
       "    <tr>\n",
       "      <th>0</th>\n",
       "      <td>12347</td>\n",
       "      <td>First</td>\n",
       "      <td>348.44</td>\n",
       "    </tr>\n",
       "    <tr>\n",
       "      <th>1</th>\n",
       "      <td>12347</td>\n",
       "      <td>Second</td>\n",
       "      <td>402.94</td>\n",
       "    </tr>\n",
       "    <tr>\n",
       "      <th>2</th>\n",
       "      <td>12348</td>\n",
       "      <td>First</td>\n",
       "      <td>20.40</td>\n",
       "    </tr>\n",
       "    <tr>\n",
       "      <th>3</th>\n",
       "      <td>12348</td>\n",
       "      <td>Second</td>\n",
       "      <td>52.80</td>\n",
       "    </tr>\n",
       "  </tbody>\n",
       "</table>\n",
       "</div>"
      ],
      "text/plain": [
       "   Customer ID    Time   Total\n",
       "0        12347   First  348.44\n",
       "1        12347  Second  402.94\n",
       "2        12348   First   20.40\n",
       "3        12348  Second   52.80"
      ]
     },
     "metadata": {},
     "output_type": "display_data"
    }
   ],
   "source": [
    "temp = data.groupby('Customer ID')['Invoice'].nunique()!=1\n",
    "more_than_one_purchase_id = temp[temp].index # ==True\n",
    "\n",
    "df = data[data['Customer ID'].isin(more_than_one_purchase_id)]\n",
    "df = df[['Invoice', 'InvoiceDate', 'Customer ID', 'Total']]\n",
    "\n",
    "df = df.groupby(['Customer ID', 'Invoice', 'InvoiceDate'])[['Total']].sum()\n",
    "df = df.reset_index()\n",
    "\n",
    "df['count'] = df.groupby('Customer ID').cumcount() + 1\n",
    "df = df[df['count'] <= 2].drop(columns=['count', 'Invoice'])\n",
    "\n",
    "df = df.sort_values(by=['Customer ID', 'InvoiceDate'], ignore_index=True)\n",
    "df['Time'] = df.index.map(lambda i: 'First' if i%2==0 else 'Second')\n",
    "df.drop(columns=['InvoiceDate'], inplace=True)\n",
    "\n",
    "df = df[['Customer ID', 'Time', 'Total']]\n",
    "display(df.head(4))\n",
    "\n",
    "_df = df.pivot(columns='Time', values='Total', index='Customer ID')\n",
    "_df['Difference'] = _df['First']-_df['Second']\n",
    "# display(_df.head(4))"
   ]
  },
  {
   "cell_type": "markdown",
   "id": "bb4c4323-6691-4cb2-aa4d-e600857b9919",
   "metadata": {},
   "source": [
    "<p style=\"background-image: linear-gradient(#0aa98f, #ffffff 10%); font-weight:bold;\"> \n",
    "    &nbsp; Normality Test </p>"
   ]
  },
  {
   "cell_type": "code",
   "execution_count": 30,
   "id": "7cfb1d74-3c5d-4844-a91c-0c894034dfcd",
   "metadata": {},
   "outputs": [
    {
     "data": {
      "text/html": [
       "<div>\n",
       "<style scoped>\n",
       "    .dataframe tbody tr th:only-of-type {\n",
       "        vertical-align: middle;\n",
       "    }\n",
       "\n",
       "    .dataframe tbody tr th {\n",
       "        vertical-align: top;\n",
       "    }\n",
       "\n",
       "    .dataframe thead th {\n",
       "        text-align: right;\n",
       "    }\n",
       "</style>\n",
       "<table border=\"1\" class=\"dataframe\">\n",
       "  <thead>\n",
       "    <tr style=\"text-align: right;\">\n",
       "      <th></th>\n",
       "      <th>W</th>\n",
       "      <th>pval</th>\n",
       "      <th>normal</th>\n",
       "    </tr>\n",
       "  </thead>\n",
       "  <tbody>\n",
       "    <tr>\n",
       "      <th>Difference</th>\n",
       "      <td>0.89032</td>\n",
       "      <td>8.238984e-40</td>\n",
       "      <td>False</td>\n",
       "    </tr>\n",
       "  </tbody>\n",
       "</table>\n",
       "</div>"
      ],
      "text/plain": [
       "                  W          pval  normal\n",
       "Difference  0.89032  8.238984e-40   False"
      ]
     },
     "metadata": {},
     "output_type": "display_data"
    },
    {
     "data": {
      "image/png": "[encoded data removed]",
      "text/plain": [
       "<Figure size 400x300 with 1 Axes>"
      ]
     },
     "metadata": {},
     "output_type": "display_data"
    }
   ],
   "source": [
    "display(pg.normality(_df['Difference']))\n",
    "\n",
    "pg.qqplot(_df['Difference'])\n",
    "plt.gca().set_facecolor('#f5f5f5')\n",
    "plt.gcf().set_size_inches(4,3)\n",
    "plt.show()"
   ]
  },
  {
   "cell_type": "markdown",
   "id": "1eab9090-f226-43ba-ba02-18129e7aee42",
   "metadata": {},
   "source": [
    "<p style=\"background-image: linear-gradient(#0aa98f, #ffffff 10%); font-weight:bold;\"> \n",
    "    &nbsp; Wilcoxon Test </p>\n",
    "\n",
    "Since the assumptions of normality is violated, we use the Wilcoxon Test instead of the Dependent Samples T-Test."
   ]
  },
  {
   "cell_type": "code",
   "execution_count": 31,
   "id": "c85bf5fd-7760-43cd-ab70-d1427944ee76",
   "metadata": {},
   "outputs": [
    {
     "data": {
      "text/html": [
       "<div>\n",
       "<style scoped>\n",
       "    .dataframe tbody tr th:only-of-type {\n",
       "        vertical-align: middle;\n",
       "    }\n",
       "\n",
       "    .dataframe tbody tr th {\n",
       "        vertical-align: top;\n",
       "    }\n",
       "\n",
       "    .dataframe thead th {\n",
       "        text-align: right;\n",
       "    }\n",
       "</style>\n",
       "<table border=\"1\" class=\"dataframe\">\n",
       "  <thead>\n",
       "    <tr style=\"text-align: right;\">\n",
       "      <th></th>\n",
       "      <th>W-val</th>\n",
       "      <th>alternative</th>\n",
       "      <th>p-val</th>\n",
       "      <th>RBC</th>\n",
       "      <th>CLES</th>\n",
       "      <th>Reject</th>\n",
       "    </tr>\n",
       "  </thead>\n",
       "  <tbody>\n",
       "    <tr>\n",
       "      <th>Wilcoxon</th>\n",
       "      <td>1293361.5</td>\n",
       "      <td>two-sided</td>\n",
       "      <td>1.274596e-28</td>\n",
       "      <td>0.250062</td>\n",
       "      <td>0.567636</td>\n",
       "      <td>H0 rejected.</td>\n",
       "    </tr>\n",
       "  </tbody>\n",
       "</table>\n",
       "</div>"
      ],
      "text/plain": [
       "              W-val alternative         p-val       RBC      CLES  \\\n",
       "Wilcoxon  1293361.5   two-sided  1.274596e-28  0.250062  0.567636   \n",
       "\n",
       "                Reject  \n",
       "Wilcoxon  H0 rejected.  "
      ]
     },
     "execution_count": 31,
     "metadata": {},
     "output_type": "execute_result"
    }
   ],
   "source": [
    "# test = pg.parametric.ttest(_df['First'], _df['Second'], paired=True)\n",
    "test = pg.nonparametric.wilcoxon(_df['First'], _df['Second']) # _df['Difference']\n",
    "test['Reject'] = test[['p-val']].map(decision, method='verbose')\n",
    "test"
   ]
  },
  {
   "cell_type": "markdown",
   "id": "1a49017f-bb84-42e9-acdc-6c8240792f19",
   "metadata": {},
   "source": [
    "<p style=\"background-image: linear-gradient(#0aa98f, #ffffff 10%); font-weight:bold;\"> \n",
    "    &nbsp; Display of Metrics </p>"
   ]
  },
  {
   "cell_type": "code",
   "execution_count": 32,
   "id": "d2f978db-25ed-498f-8619-2208431d7847",
   "metadata": {},
   "outputs": [
    {
     "data": {
      "text/html": [
       "<div>\n",
       "<style scoped>\n",
       "    .dataframe tbody tr th:only-of-type {\n",
       "        vertical-align: middle;\n",
       "    }\n",
       "\n",
       "    .dataframe tbody tr th {\n",
       "        vertical-align: top;\n",
       "    }\n",
       "\n",
       "    .dataframe thead th {\n",
       "        text-align: right;\n",
       "    }\n",
       "</style>\n",
       "<table border=\"1\" class=\"dataframe\">\n",
       "  <thead>\n",
       "    <tr style=\"text-align: right;\">\n",
       "      <th>Time</th>\n",
       "      <th>First</th>\n",
       "      <th>Second</th>\n",
       "    </tr>\n",
       "  </thead>\n",
       "  <tbody>\n",
       "    <tr>\n",
       "      <th>mean</th>\n",
       "      <td>224.92</td>\n",
       "      <td>188.40</td>\n",
       "    </tr>\n",
       "    <tr>\n",
       "      <th>std</th>\n",
       "      <td>194.65</td>\n",
       "      <td>173.39</td>\n",
       "    </tr>\n",
       "  </tbody>\n",
       "</table>\n",
       "</div>"
      ],
      "text/plain": [
       "Time   First  Second\n",
       "mean  224.92  188.40\n",
       "std   194.65  173.39"
      ]
     },
     "execution_count": 32,
     "metadata": {},
     "output_type": "execute_result"
    }
   ],
   "source": [
    "df.groupby('Time')['Total'].agg(['mean', 'std']).round(2).T"
   ]
  },
  {
   "cell_type": "markdown",
   "id": "854869d0-d203-4e43-8f2b-bcc7a4dd2494",
   "metadata": {},
   "source": [
    "<a id='6'></a>\n",
    "<p style=\"background-image: linear-gradient(to right, #0aa98f, #68dab2)\"> &nbsp; </p>\n",
    "\n",
    "#####  **6. Is there a difference in the invoice amounts of the first and second and third purchases of customers who make more than two purchase?**\n",
    "\n",
    "| | |\n",
    "|-|-|\n",
    "| $H_0$ | **→** There is no significant difference in the invoice amounts of the first, second, and third purchases of customers who make more than two purchases. |\n",
    "| $H_1$ | **→** At least one invoice amount among the first, second, and third purchases of customers who make more than two purchases is significantly different from the others. |"
   ]
  },
  {
   "cell_type": "code",
   "execution_count": 33,
   "id": "ab1cf143-1a1f-4fb6-9bef-99257ec49f03",
   "metadata": {},
   "outputs": [
    {
     "data": {
      "text/html": [
       "<div>\n",
       "<style scoped>\n",
       "    .dataframe tbody tr th:only-of-type {\n",
       "        vertical-align: middle;\n",
       "    }\n",
       "\n",
       "    .dataframe tbody tr th {\n",
       "        vertical-align: top;\n",
       "    }\n",
       "\n",
       "    .dataframe thead th {\n",
       "        text-align: right;\n",
       "    }\n",
       "</style>\n",
       "<table border=\"1\" class=\"dataframe\">\n",
       "  <thead>\n",
       "    <tr style=\"text-align: right;\">\n",
       "      <th></th>\n",
       "      <th>Customer ID</th>\n",
       "      <th>Time</th>\n",
       "      <th>Total</th>\n",
       "    </tr>\n",
       "  </thead>\n",
       "  <tbody>\n",
       "    <tr>\n",
       "      <th>0</th>\n",
       "      <td>12347</td>\n",
       "      <td>First</td>\n",
       "      <td>348.44</td>\n",
       "    </tr>\n",
       "    <tr>\n",
       "      <th>1</th>\n",
       "      <td>12347</td>\n",
       "      <td>Second</td>\n",
       "      <td>304.60</td>\n",
       "    </tr>\n",
       "    <tr>\n",
       "      <th>2</th>\n",
       "      <td>12347</td>\n",
       "      <td>Third</td>\n",
       "      <td>402.94</td>\n",
       "    </tr>\n",
       "    <tr>\n",
       "      <th>3</th>\n",
       "      <td>12348</td>\n",
       "      <td>First</td>\n",
       "      <td>20.40</td>\n",
       "    </tr>\n",
       "  </tbody>\n",
       "</table>\n",
       "</div>"
      ],
      "text/plain": [
       "   Customer ID    Time   Total\n",
       "0        12347   First  348.44\n",
       "1        12347  Second  304.60\n",
       "2        12347   Third  402.94\n",
       "3        12348   First   20.40"
      ]
     },
     "metadata": {},
     "output_type": "display_data"
    }
   ],
   "source": [
    "temp = data.groupby('Customer ID')['Invoice'].nunique()>2\n",
    "more_than_one_purchase_id = temp[temp].index # ==True\n",
    "\n",
    "df = data[data['Customer ID'].isin(more_than_one_purchase_id)]\n",
    "df = df[['Invoice', 'InvoiceDate', 'Customer ID', 'Total']]\n",
    "\n",
    "df = df.groupby(['Customer ID', 'Invoice', 'InvoiceDate'])[['Total']].sum()\n",
    "df = df.reset_index()\n",
    "\n",
    "df['count'] = df.groupby(['Customer ID']).cumcount() + 1\n",
    "df = df[df['count'] <= 3].drop(columns=['count', 'Invoice'])\n",
    "\n",
    "df = df.sort_values(by=['Customer ID', 'InvoiceDate'], ignore_index=True)\n",
    "\n",
    "def _f(n):\n",
    "    if n%3==0: return 'First' \n",
    "    if n%3==1: return 'Second' \n",
    "    return 'Third'\n",
    "    \n",
    "df['Time'] = df.index.map(_f)\n",
    "df.drop(columns=['InvoiceDate'], inplace=True)\n",
    "df = df[['Customer ID', 'Time', 'Total']]\n",
    "display(df.head(4))\n",
    "\n",
    "_df = df.pivot(columns='Time', values='Total', index='Customer ID')\n",
    "# display(_df.head(4))"
   ]
  },
  {
   "cell_type": "markdown",
   "id": "7355c668-0d54-455b-80cd-bd3a6e32862e",
   "metadata": {},
   "source": [
    "<p style=\"background-image: linear-gradient(#0aa98f, #ffffff 10%); font-weight:bold;\"> \n",
    "    &nbsp; Normality Test </p>"
   ]
  },
  {
   "cell_type": "code",
   "execution_count": 34,
   "id": "2ba99ca4-0d52-4d22-90ed-56994fcff770",
   "metadata": {},
   "outputs": [
    {
     "data": {
      "text/html": [
       "<div>\n",
       "<style scoped>\n",
       "    .dataframe tbody tr th:only-of-type {\n",
       "        vertical-align: middle;\n",
       "    }\n",
       "\n",
       "    .dataframe tbody tr th {\n",
       "        vertical-align: top;\n",
       "    }\n",
       "\n",
       "    .dataframe thead th {\n",
       "        text-align: right;\n",
       "    }\n",
       "</style>\n",
       "<table border=\"1\" class=\"dataframe\">\n",
       "  <thead>\n",
       "    <tr style=\"text-align: right;\">\n",
       "      <th></th>\n",
       "      <th>W</th>\n",
       "      <th>pval</th>\n",
       "      <th>normal</th>\n",
       "    </tr>\n",
       "    <tr>\n",
       "      <th>Time</th>\n",
       "      <th></th>\n",
       "      <th></th>\n",
       "      <th></th>\n",
       "    </tr>\n",
       "  </thead>\n",
       "  <tbody>\n",
       "    <tr>\n",
       "      <th>First</th>\n",
       "      <td>1235.554043</td>\n",
       "      <td>5.044853e-269</td>\n",
       "      <td>False</td>\n",
       "    </tr>\n",
       "    <tr>\n",
       "      <th>Second</th>\n",
       "      <td>1151.697830</td>\n",
       "      <td>8.165708e-251</td>\n",
       "      <td>False</td>\n",
       "    </tr>\n",
       "    <tr>\n",
       "      <th>Third</th>\n",
       "      <td>920.740573</td>\n",
       "      <td>1.158044e-200</td>\n",
       "      <td>False</td>\n",
       "    </tr>\n",
       "  </tbody>\n",
       "</table>\n",
       "</div>"
      ],
      "text/plain": [
       "                  W           pval  normal\n",
       "Time                                      \n",
       "First   1235.554043  5.044853e-269   False\n",
       "Second  1151.697830  8.165708e-251   False\n",
       "Third    920.740573  1.158044e-200   False"
      ]
     },
     "metadata": {},
     "output_type": "display_data"
    },
    {
     "data": {
      "image/png": "[encoded data removed]",
      "text/plain": [
       "<Figure size 1200x300 with 3 Axes>"
      ]
     },
     "metadata": {},
     "output_type": "display_data"
    }
   ],
   "source": [
    "display(pg.normality(df, dv='Total', group='Time', method='normaltest'))\n",
    "\n",
    "\n",
    "fig, (ax1, ax2, ax3) = plt.subplots(1,3, figsize=(12,3))\n",
    "pg.qqplot(_df['First'], ax=ax1)\n",
    "pg.qqplot(_df['Second'], ax=ax2)\n",
    "pg.qqplot(_df['Third'], ax=ax3)\n",
    "\n",
    "ax1.set_facecolor('#f5f5f5')\n",
    "ax2.set_facecolor('#f5f5f5')\n",
    "ax3.set_facecolor('#f5f5f5')\n",
    "plt.show()"
   ]
  },
  {
   "cell_type": "markdown",
   "id": "7827a542-5880-4fc6-82e4-c41245908482",
   "metadata": {},
   "source": [
    "<p style=\"background-image: linear-gradient(#0aa98f, #ffffff 10%); font-weight:bold;\"> \n",
    "    &nbsp; Homogeneity of Variance Test </p>\n",
    "\n",
    "The homogeneity test is not an assumption for repeated measures ANOVA, but a necessary parameter for selecting the post hoc test."
   ]
  },
  {
   "cell_type": "code",
   "execution_count": 35,
   "id": "81f36c8a-2b19-447c-8364-d933ad08a78c",
   "metadata": {},
   "outputs": [
    {
     "data": {
      "text/html": [
       "<div>\n",
       "<style scoped>\n",
       "    .dataframe tbody tr th:only-of-type {\n",
       "        vertical-align: middle;\n",
       "    }\n",
       "\n",
       "    .dataframe tbody tr th {\n",
       "        vertical-align: top;\n",
       "    }\n",
       "\n",
       "    .dataframe thead th {\n",
       "        text-align: right;\n",
       "    }\n",
       "</style>\n",
       "<table border=\"1\" class=\"dataframe\">\n",
       "  <thead>\n",
       "    <tr style=\"text-align: right;\">\n",
       "      <th></th>\n",
       "      <th>W</th>\n",
       "      <th>pval</th>\n",
       "      <th>equal_var</th>\n",
       "    </tr>\n",
       "  </thead>\n",
       "  <tbody>\n",
       "    <tr>\n",
       "      <th>levene</th>\n",
       "      <td>5.255877</td>\n",
       "      <td>0.005243</td>\n",
       "      <td>False</td>\n",
       "    </tr>\n",
       "  </tbody>\n",
       "</table>\n",
       "</div>"
      ],
      "text/plain": [
       "               W      pval  equal_var\n",
       "levene  5.255877  0.005243      False"
      ]
     },
     "execution_count": 35,
     "metadata": {},
     "output_type": "execute_result"
    }
   ],
   "source": [
    "pg.homoscedasticity(df, dv='Total', group='Time')"
   ]
  },
  {
   "cell_type": "markdown",
   "id": "eece9407-1300-4646-a49a-d3a99ac4e5c2",
   "metadata": {},
   "source": [
    "<p style=\"background-image: linear-gradient(#0aa98f, #ffffff 10%); font-weight:bold;\"> \n",
    "    &nbsp; Sphericity Test </p>"
   ]
  },
  {
   "cell_type": "code",
   "execution_count": 36,
   "id": "86892817-e0fa-48b7-ac88-78387b7dabc4",
   "metadata": {},
   "outputs": [
    {
     "name": "stdout",
     "output_type": "stream",
     "text": [
      "Decision : H0 rejected.\n",
      "P value  : 0.0059\n"
     ]
    }
   ],
   "source": [
    "sphericity = pg.sphericity(df, dv='Total', subject='Customer ID', within='Time')\n",
    "print('Decision :', decision(sphericity.pval, method='verbose'))\n",
    "print('P value  :', round(sphericity.pval, 4))"
   ]
  },
  {
   "cell_type": "markdown",
   "id": "805c38ed-b477-472e-8c81-c1f8f276f73d",
   "metadata": {},
   "source": [
    "<p style=\"background-image: linear-gradient(#0aa98f, #ffffff 10%); font-weight:bold;\"> \n",
    "    &nbsp; Friedman Test </p>\n",
    "\n",
    "Since the assumptions of normality and sphericity are violated, the Friedman test, which is the non-parametric equivalent of repeated measures ANOVA, is applied."
   ]
  },
  {
   "cell_type": "code",
   "execution_count": 37,
   "id": "667872e7-eb2c-4797-8ba7-7aefae1bbd42",
   "metadata": {},
   "outputs": [
    {
     "data": {
      "text/html": [
       "<div>\n",
       "<style scoped>\n",
       "    .dataframe tbody tr th:only-of-type {\n",
       "        vertical-align: middle;\n",
       "    }\n",
       "\n",
       "    .dataframe tbody tr th {\n",
       "        vertical-align: top;\n",
       "    }\n",
       "\n",
       "    .dataframe thead th {\n",
       "        text-align: right;\n",
       "    }\n",
       "</style>\n",
       "<table border=\"1\" class=\"dataframe\">\n",
       "  <thead>\n",
       "    <tr style=\"text-align: right;\">\n",
       "      <th></th>\n",
       "      <th>Source</th>\n",
       "      <th>W</th>\n",
       "      <th>ddof1</th>\n",
       "      <th>Q</th>\n",
       "      <th>p-unc</th>\n",
       "      <th>Reject</th>\n",
       "    </tr>\n",
       "  </thead>\n",
       "  <tbody>\n",
       "    <tr>\n",
       "      <th>Friedman</th>\n",
       "      <td>Time</td>\n",
       "      <td>0.023623</td>\n",
       "      <td>2</td>\n",
       "      <td>85.280334</td>\n",
       "      <td>3.031174e-19</td>\n",
       "      <td>H0 rejected.</td>\n",
       "    </tr>\n",
       "  </tbody>\n",
       "</table>\n",
       "</div>"
      ],
      "text/plain": [
       "         Source         W  ddof1          Q         p-unc        Reject\n",
       "Friedman   Time  0.023623      2  85.280334  3.031174e-19  H0 rejected."
      ]
     },
     "execution_count": 37,
     "metadata": {},
     "output_type": "execute_result"
    }
   ],
   "source": [
    "# test = pg.parametric.rm_anova(df, dv='Total', within='Time', subject='Customer ID', correction=True)\n",
    "test = pg.nonparametric.friedman(df, dv='Total', within='Time', subject='Customer ID')\n",
    "test['Reject'] = test[['p-unc']].map(decision, method='verbose')\n",
    "test"
   ]
  },
  {
   "cell_type": "markdown",
   "id": "106c8975-d5ff-4de3-b3a8-89bea1e7fbd7",
   "metadata": {},
   "source": [
    "<p style=\"background-image: linear-gradient(#0aa98f, #ffffff 10%); font-weight:bold;\"> \n",
    "    &nbsp; Post-Hoc - Conover | Tamhane's T2 </p>\n",
    "\n",
    "Since the variances are not homogeneous and the sample sizes are not similar across groups, the Tamhane's T2 test can be applied as a post hoc test. Also Conover test is usually conducted post hoc after significant results of the Friedman test."
   ]
  },
  {
   "cell_type": "code",
   "execution_count": 38,
   "id": "904085ea-4b7a-4fe1-9a09-3b7b9ae42a01",
   "metadata": {},
   "outputs": [
    {
     "data": {
      "text/html": [
       "<div>\n",
       "<style scoped>\n",
       "    .dataframe tbody tr th:only-of-type {\n",
       "        vertical-align: middle;\n",
       "    }\n",
       "\n",
       "    .dataframe tbody tr th {\n",
       "        vertical-align: top;\n",
       "    }\n",
       "\n",
       "    .dataframe thead th {\n",
       "        text-align: right;\n",
       "    }\n",
       "</style>\n",
       "<table border=\"1\" class=\"dataframe\">\n",
       "  <thead>\n",
       "    <tr style=\"text-align: right;\">\n",
       "      <th></th>\n",
       "      <th>First</th>\n",
       "      <th>Second</th>\n",
       "      <th>Third</th>\n",
       "    </tr>\n",
       "  </thead>\n",
       "  <tbody>\n",
       "    <tr>\n",
       "      <th>First</th>\n",
       "      <td>✔</td>\n",
       "      <td>✗</td>\n",
       "      <td>✗</td>\n",
       "    </tr>\n",
       "    <tr>\n",
       "      <th>Second</th>\n",
       "      <td>✗</td>\n",
       "      <td>✔</td>\n",
       "      <td>✔</td>\n",
       "    </tr>\n",
       "    <tr>\n",
       "      <th>Third</th>\n",
       "      <td>✗</td>\n",
       "      <td>✔</td>\n",
       "      <td>✔</td>\n",
       "    </tr>\n",
       "  </tbody>\n",
       "</table>\n",
       "</div>"
      ],
      "text/plain": [
       "       First Second Third\n",
       "First      ✔      ✗     ✗\n",
       "Second     ✗      ✔     ✔\n",
       "Third      ✗      ✔     ✔"
      ]
     },
     "metadata": {},
     "output_type": "display_data"
    },
    {
     "name": "stdout",
     "output_type": "stream",
     "text": [
      "First & Third\tFirst & Second\n"
     ]
    }
   ],
   "source": [
    "conover = sp.posthoc_conover_friedman(df, group_col='Time',  \n",
    "                            y_col='Total', block_col='Customer ID', \n",
    "                            melted=True, p_adjust='bonf')\n",
    "conover = conover.map(decision, method='sign') # ✗\t→ Null Hypothesis Rejected\n",
    "display(conover)\n",
    "print(*get_pairs(conover), sep='\\t')\n",
    "\n",
    "\n",
    "# tamhane = sp.posthoc_tamhane(df, val_col='Total', group_col='Time')\n",
    "# tamhane = tamhane.map(decision, method='sign') # ✗\t→ Null Hypothesis Rejected\n",
    "# display(tamhane)\n",
    "# print(*get_pairs(tamhane), sep='\\t')"
   ]
  },
  {
   "cell_type": "markdown",
   "id": "10256df9-6b13-47ff-808b-ed493c991cd1",
   "metadata": {},
   "source": [
    "<p style=\"background-image: linear-gradient(#0aa98f, #ffffff 10%); font-weight:bold;\"> \n",
    "    &nbsp; Display of Metrics </p>"
   ]
  },
  {
   "cell_type": "code",
   "execution_count": 39,
   "id": "04902fe0-60f8-4cc8-a071-e3f547c4381e",
   "metadata": {},
   "outputs": [
    {
     "data": {
      "text/html": [
       "<div>\n",
       "<style scoped>\n",
       "    .dataframe tbody tr th:only-of-type {\n",
       "        vertical-align: middle;\n",
       "    }\n",
       "\n",
       "    .dataframe tbody tr th {\n",
       "        vertical-align: top;\n",
       "    }\n",
       "\n",
       "    .dataframe thead th {\n",
       "        text-align: right;\n",
       "    }\n",
       "</style>\n",
       "<table border=\"1\" class=\"dataframe\">\n",
       "  <thead>\n",
       "    <tr style=\"text-align: right;\">\n",
       "      <th></th>\n",
       "      <th>Time</th>\n",
       "      <th>First</th>\n",
       "      <th>Second</th>\n",
       "      <th>Third</th>\n",
       "    </tr>\n",
       "  </thead>\n",
       "  <tbody>\n",
       "    <tr>\n",
       "      <th rowspan=\"2\" valign=\"top\">Total</th>\n",
       "      <th>mean</th>\n",
       "      <td>235.050078</td>\n",
       "      <td>202.202122</td>\n",
       "      <td>189.046770</td>\n",
       "    </tr>\n",
       "    <tr>\n",
       "      <th>std</th>\n",
       "      <td>204.004705</td>\n",
       "      <td>186.531855</td>\n",
       "      <td>175.357824</td>\n",
       "    </tr>\n",
       "  </tbody>\n",
       "</table>\n",
       "</div>"
      ],
      "text/plain": [
       "Time             First      Second       Third\n",
       "Total mean  235.050078  202.202122  189.046770\n",
       "      std   204.004705  186.531855  175.357824"
      ]
     },
     "execution_count": 39,
     "metadata": {},
     "output_type": "execute_result"
    }
   ],
   "source": [
    "df.groupby('Time')[['Total']].agg(['mean', 'std']).T"
   ]
  },
  {
   "cell_type": "markdown",
   "id": "f43d368c-730e-497b-919d-b30791c31c22",
   "metadata": {},
   "source": [
    "<a id='7'></a>\n",
    "<p style=\"background-image: linear-gradient(to right, #0aa98f, #68dab2)\"> &nbsp; </p>\n",
    "\n",
    "#####  **7. Investigate whether the average total revenues on different days of the week differ for the top 5 countries with the highest sales outside the UK.**\n",
    "\n",
    "| | |\n",
    "|-|-|\n",
    "| $H_0$ | **→**  There is no significant difference in average total revenues between the days of the week, between the countries, or in the interaction between days of the week and countries. |\n",
    "| $H_1$ | **→** There is at least one significant difference in average total revenues between the days of the week, between the countries, or in the interaction between days of the week and countries. |"
   ]
  },
  {
   "cell_type": "code",
   "execution_count": 40,
   "id": "dd597ca6-3dc2-4645-9672-233c82ca07fa",
   "metadata": {},
   "outputs": [
    {
     "name": "stdout",
     "output_type": "stream",
     "text": [
      "Interaction Count: 30\n"
     ]
    },
    {
     "data": {
      "text/html": [
       "<div>\n",
       "<style scoped>\n",
       "    .dataframe tbody tr th:only-of-type {\n",
       "        vertical-align: middle;\n",
       "    }\n",
       "\n",
       "    .dataframe tbody tr th {\n",
       "        vertical-align: top;\n",
       "    }\n",
       "\n",
       "    .dataframe thead th {\n",
       "        text-align: right;\n",
       "    }\n",
       "</style>\n",
       "<table border=\"1\" class=\"dataframe\">\n",
       "  <thead>\n",
       "    <tr style=\"text-align: right;\">\n",
       "      <th></th>\n",
       "      <th>Invoice</th>\n",
       "      <th>Country</th>\n",
       "      <th>Day of Week</th>\n",
       "      <th>Total</th>\n",
       "      <th>Interaction</th>\n",
       "    </tr>\n",
       "  </thead>\n",
       "  <tbody>\n",
       "    <tr>\n",
       "      <th>2</th>\n",
       "      <td>536540</td>\n",
       "      <td>EIRE</td>\n",
       "      <td>Wednesday</td>\n",
       "      <td>133.08</td>\n",
       "      <td>EIRE &amp; Wednesday</td>\n",
       "    </tr>\n",
       "    <tr>\n",
       "      <th>952</th>\n",
       "      <td>574255</td>\n",
       "      <td>Germany</td>\n",
       "      <td>Thursday</td>\n",
       "      <td>74.25</td>\n",
       "      <td>Germany &amp; Thursday</td>\n",
       "    </tr>\n",
       "    <tr>\n",
       "      <th>780</th>\n",
       "      <td>567968</td>\n",
       "      <td>Spain</td>\n",
       "      <td>Friday</td>\n",
       "      <td>640.78</td>\n",
       "      <td>Spain &amp; Friday</td>\n",
       "    </tr>\n",
       "    <tr>\n",
       "      <th>991</th>\n",
       "      <td>575735</td>\n",
       "      <td>EIRE</td>\n",
       "      <td>Friday</td>\n",
       "      <td>176.50</td>\n",
       "      <td>EIRE &amp; Friday</td>\n",
       "    </tr>\n",
       "    <tr>\n",
       "      <th>790</th>\n",
       "      <td>568221</td>\n",
       "      <td>EIRE</td>\n",
       "      <td>Monday</td>\n",
       "      <td>314.98</td>\n",
       "      <td>EIRE &amp; Monday</td>\n",
       "    </tr>\n",
       "  </tbody>\n",
       "</table>\n",
       "</div>"
      ],
      "text/plain": [
       "     Invoice  Country Day of Week   Total         Interaction\n",
       "2     536540     EIRE   Wednesday  133.08    EIRE & Wednesday\n",
       "952   574255  Germany    Thursday   74.25  Germany & Thursday\n",
       "780   567968    Spain      Friday  640.78      Spain & Friday\n",
       "991   575735     EIRE      Friday  176.50       EIRE & Friday\n",
       "790   568221     EIRE      Monday  314.98       EIRE & Monday"
      ]
     },
     "metadata": {},
     "output_type": "display_data"
    }
   ],
   "source": [
    "countries = data.groupby('Country')['Invoice'].nunique().nlargest(6)[1:] # first one is UK\n",
    "filt = data['Country'].isin(countries.index)\n",
    "\n",
    "df = data.loc[filt, ['Invoice', 'Country', 'Day of Week', 'Total']]\n",
    "# display(df.sample(5))\n",
    "\n",
    "df = df.groupby(['Invoice', 'Country', 'Day of Week'])[['Total']].sum()\n",
    "df = df.reset_index()   # .drop(columns='Invoice')\n",
    "\n",
    "df['Interaction'] = df['Country'] + ' & ' + df['Day of Week']\n",
    "# display(df['Interaction'].value_counts())\n",
    "print('Interaction Count:', df['Interaction'].nunique())\n",
    "\n",
    "display(df.sample(5))"
   ]
  },
  {
   "cell_type": "markdown",
   "id": "fa4878a0-3729-4902-8fbe-790efb7482f8",
   "metadata": {},
   "source": [
    "<p style=\"background-image: linear-gradient(#0aa98f, #ffffff 10%); font-weight:bold;\"> \n",
    "    &nbsp; Normality Test </p>"
   ]
  },
  {
   "cell_type": "code",
   "execution_count": 41,
   "id": "7bfd60c8-bc5b-4f6e-bea1-bb6dc4e8b164",
   "metadata": {},
   "outputs": [
    {
     "data": {
      "text/html": [
       "<div>\n",
       "<style scoped>\n",
       "    .dataframe tbody tr th:only-of-type {\n",
       "        vertical-align: middle;\n",
       "    }\n",
       "\n",
       "    .dataframe tbody tr th {\n",
       "        vertical-align: top;\n",
       "    }\n",
       "\n",
       "    .dataframe thead th {\n",
       "        text-align: right;\n",
       "    }\n",
       "</style>\n",
       "<table border=\"1\" class=\"dataframe\">\n",
       "  <thead>\n",
       "    <tr style=\"text-align: right;\">\n",
       "      <th></th>\n",
       "      <th>W</th>\n",
       "      <th>pval</th>\n",
       "      <th>normal</th>\n",
       "    </tr>\n",
       "    <tr>\n",
       "      <th>Country</th>\n",
       "      <th></th>\n",
       "      <th></th>\n",
       "      <th></th>\n",
       "    </tr>\n",
       "  </thead>\n",
       "  <tbody>\n",
       "    <tr>\n",
       "      <th>France</th>\n",
       "      <td>0.656567</td>\n",
       "      <td>4.119507e-26</td>\n",
       "      <td>False</td>\n",
       "    </tr>\n",
       "    <tr>\n",
       "      <th>Germany</th>\n",
       "      <td>0.834727</td>\n",
       "      <td>2.071083e-20</td>\n",
       "      <td>False</td>\n",
       "    </tr>\n",
       "    <tr>\n",
       "      <th>EIRE</th>\n",
       "      <td>0.931325</td>\n",
       "      <td>9.933405e-09</td>\n",
       "      <td>False</td>\n",
       "    </tr>\n",
       "    <tr>\n",
       "      <th>Belgium</th>\n",
       "      <td>0.922768</td>\n",
       "      <td>4.111517e-05</td>\n",
       "      <td>False</td>\n",
       "    </tr>\n",
       "    <tr>\n",
       "      <th>Spain</th>\n",
       "      <td>0.814640</td>\n",
       "      <td>1.252889e-08</td>\n",
       "      <td>False</td>\n",
       "    </tr>\n",
       "  </tbody>\n",
       "</table>\n",
       "</div>"
      ],
      "text/plain": [
       "                W          pval  normal\n",
       "Country                                \n",
       "France   0.656567  4.119507e-26   False\n",
       "Germany  0.834727  2.071083e-20   False\n",
       "EIRE     0.931325  9.933405e-09   False\n",
       "Belgium  0.922768  4.111517e-05   False\n",
       "Spain    0.814640  1.252889e-08   False"
      ]
     },
     "metadata": {},
     "output_type": "display_data"
    },
    {
     "data": {
      "text/html": [
       "<div>\n",
       "<style scoped>\n",
       "    .dataframe tbody tr th:only-of-type {\n",
       "        vertical-align: middle;\n",
       "    }\n",
       "\n",
       "    .dataframe tbody tr th {\n",
       "        vertical-align: top;\n",
       "    }\n",
       "\n",
       "    .dataframe thead th {\n",
       "        text-align: right;\n",
       "    }\n",
       "</style>\n",
       "<table border=\"1\" class=\"dataframe\">\n",
       "  <thead>\n",
       "    <tr style=\"text-align: right;\">\n",
       "      <th></th>\n",
       "      <th>W</th>\n",
       "      <th>pval</th>\n",
       "      <th>normal</th>\n",
       "    </tr>\n",
       "    <tr>\n",
       "      <th>Day of Week</th>\n",
       "      <th></th>\n",
       "      <th></th>\n",
       "      <th></th>\n",
       "    </tr>\n",
       "  </thead>\n",
       "  <tbody>\n",
       "    <tr>\n",
       "      <th>Wednesday</th>\n",
       "      <td>0.865026</td>\n",
       "      <td>7.249254e-13</td>\n",
       "      <td>False</td>\n",
       "    </tr>\n",
       "    <tr>\n",
       "      <th>Thursday</th>\n",
       "      <td>0.821194</td>\n",
       "      <td>5.546821e-17</td>\n",
       "      <td>False</td>\n",
       "    </tr>\n",
       "    <tr>\n",
       "      <th>Friday</th>\n",
       "      <td>0.861519</td>\n",
       "      <td>2.309300e-13</td>\n",
       "      <td>False</td>\n",
       "    </tr>\n",
       "    <tr>\n",
       "      <th>Sunday</th>\n",
       "      <td>0.812436</td>\n",
       "      <td>1.053711e-09</td>\n",
       "      <td>False</td>\n",
       "    </tr>\n",
       "    <tr>\n",
       "      <th>Monday</th>\n",
       "      <td>0.882585</td>\n",
       "      <td>5.830693e-11</td>\n",
       "      <td>False</td>\n",
       "    </tr>\n",
       "    <tr>\n",
       "      <th>Tuesday</th>\n",
       "      <td>0.582012</td>\n",
       "      <td>3.191226e-20</td>\n",
       "      <td>False</td>\n",
       "    </tr>\n",
       "  </tbody>\n",
       "</table>\n",
       "</div>"
      ],
      "text/plain": [
       "                    W          pval  normal\n",
       "Day of Week                                \n",
       "Wednesday    0.865026  7.249254e-13   False\n",
       "Thursday     0.821194  5.546821e-17   False\n",
       "Friday       0.861519  2.309300e-13   False\n",
       "Sunday       0.812436  1.053711e-09   False\n",
       "Monday       0.882585  5.830693e-11   False\n",
       "Tuesday      0.582012  3.191226e-20   False"
      ]
     },
     "metadata": {},
     "output_type": "display_data"
    }
   ],
   "source": [
    "display(pg.normality(df, dv='Total', group='Country'))\n",
    "display(pg.normality(df, dv='Total', group='Day of Week'))\n",
    "# display(pg.normality(df, dv='Total', group='Interaction'))"
   ]
  },
  {
   "cell_type": "markdown",
   "id": "0623a2d6-d3cc-427f-a2d9-831733408a54",
   "metadata": {},
   "source": [
    "<p style=\"background-image: linear-gradient(#0aa98f, #ffffff 10%); font-weight:bold;\"> \n",
    "    &nbsp; Homogeneity of Variance Test </p>"
   ]
  },
  {
   "cell_type": "code",
   "execution_count": 42,
   "id": "845a5a4a-d0b8-4368-be32-600b9f4a0ac5",
   "metadata": {},
   "outputs": [
    {
     "data": {
      "text/html": [
       "<div>\n",
       "<style scoped>\n",
       "    .dataframe tbody tr th:only-of-type {\n",
       "        vertical-align: middle;\n",
       "    }\n",
       "\n",
       "    .dataframe tbody tr th {\n",
       "        vertical-align: top;\n",
       "    }\n",
       "\n",
       "    .dataframe thead th {\n",
       "        text-align: right;\n",
       "    }\n",
       "</style>\n",
       "<table border=\"1\" class=\"dataframe\">\n",
       "  <thead>\n",
       "    <tr style=\"text-align: right;\">\n",
       "      <th></th>\n",
       "      <th>T</th>\n",
       "      <th>pval</th>\n",
       "      <th>equal_var</th>\n",
       "      <th>Factor</th>\n",
       "    </tr>\n",
       "  </thead>\n",
       "  <tbody>\n",
       "    <tr>\n",
       "      <th>bartlett</th>\n",
       "      <td>28.430643</td>\n",
       "      <td>1.020106e-05</td>\n",
       "      <td>False</td>\n",
       "      <td>Country</td>\n",
       "    </tr>\n",
       "    <tr>\n",
       "      <th>bartlett</th>\n",
       "      <td>19.610656</td>\n",
       "      <td>1.478346e-03</td>\n",
       "      <td>False</td>\n",
       "      <td>Day of Week</td>\n",
       "    </tr>\n",
       "    <tr>\n",
       "      <th>bartlett</th>\n",
       "      <td>141.922579</td>\n",
       "      <td>7.891712e-17</td>\n",
       "      <td>False</td>\n",
       "      <td>Interaction</td>\n",
       "    </tr>\n",
       "  </tbody>\n",
       "</table>\n",
       "</div>"
      ],
      "text/plain": [
       "                   T          pval  equal_var       Factor\n",
       "bartlett   28.430643  1.020106e-05      False      Country\n",
       "bartlett   19.610656  1.478346e-03      False  Day of Week\n",
       "bartlett  141.922579  7.891712e-17      False  Interaction"
      ]
     },
     "metadata": {},
     "output_type": "display_data"
    }
   ],
   "source": [
    "homogeneity_c = pg.homoscedasticity(df, dv='Total', group='Country', method='bartlett')\n",
    "homogeneity_d = pg.homoscedasticity(df, dv='Total', group='Day of Week', method='bartlett')\n",
    "homogeneity_i = pg.homoscedasticity(df, dv='Total', group='Interaction', method='bartlett')\n",
    "\n",
    "homogeneity = pd.concat([homogeneity_c, homogeneity_d, homogeneity_i])\n",
    "homogeneity['Factor'] = ['Country', 'Day of Week', 'Interaction']\n",
    "display(homogeneity)"
   ]
  },
  {
   "cell_type": "markdown",
   "id": "389233cd-6fb3-4eab-911c-9b7169c484b7",
   "metadata": {},
   "source": [
    "<p style=\"background-image: linear-gradient(#0aa98f, #ffffff 10%); font-weight:bold;\"> \n",
    "    &nbsp; Two-Way ANOVA Test </p>\n",
    "\n",
    "*In many applications with a moderate or larger sample size, a two-way ANOVA may yield reasonably accurate p values even when the normality assumption is violated. In some applications with nonnormal populations, a sample size of 15 cases per group might be sufficiently large to yield fairly accurate p values. **(Green and Salkind, 2014)***"
   ]
  },
  {
   "cell_type": "code",
   "execution_count": 43,
   "id": "345fbec0-9aa2-4a9e-8152-895ce6feb601",
   "metadata": {},
   "outputs": [
    {
     "data": {
      "text/html": [
       "<div>\n",
       "<style scoped>\n",
       "    .dataframe tbody tr th:only-of-type {\n",
       "        vertical-align: middle;\n",
       "    }\n",
       "\n",
       "    .dataframe tbody tr th {\n",
       "        vertical-align: top;\n",
       "    }\n",
       "\n",
       "    .dataframe thead th {\n",
       "        text-align: right;\n",
       "    }\n",
       "</style>\n",
       "<table border=\"1\" class=\"dataframe\">\n",
       "  <thead>\n",
       "    <tr style=\"text-align: right;\">\n",
       "      <th></th>\n",
       "      <th>Source</th>\n",
       "      <th>ddof1</th>\n",
       "      <th>ddof2</th>\n",
       "      <th>F</th>\n",
       "      <th>p-unc</th>\n",
       "      <th>np2</th>\n",
       "      <th>Reject</th>\n",
       "    </tr>\n",
       "  </thead>\n",
       "  <tbody>\n",
       "    <tr>\n",
       "      <th>0</th>\n",
       "      <td>Country</td>\n",
       "      <td>4</td>\n",
       "      <td>320.043563</td>\n",
       "      <td>4.669125</td>\n",
       "      <td>0.001124</td>\n",
       "      <td>0.016323</td>\n",
       "      <td>True</td>\n",
       "    </tr>\n",
       "    <tr>\n",
       "      <th>0</th>\n",
       "      <td>Day of Week</td>\n",
       "      <td>5</td>\n",
       "      <td>462.192285</td>\n",
       "      <td>0.693912</td>\n",
       "      <td>0.628265</td>\n",
       "      <td>0.002692</td>\n",
       "      <td>False</td>\n",
       "    </tr>\n",
       "    <tr>\n",
       "      <th>0</th>\n",
       "      <td>Interaction</td>\n",
       "      <td>29</td>\n",
       "      <td>214.277275</td>\n",
       "      <td>1.479266</td>\n",
       "      <td>0.062215</td>\n",
       "      <td>0.037464</td>\n",
       "      <td>False</td>\n",
       "    </tr>\n",
       "  </tbody>\n",
       "</table>\n",
       "</div>"
      ],
      "text/plain": [
       "        Source  ddof1       ddof2         F     p-unc       np2  Reject\n",
       "0      Country      4  320.043563  4.669125  0.001124  0.016323    True\n",
       "0  Day of Week      5  462.192285  0.693912  0.628265  0.002692   False\n",
       "0  Interaction     29  214.277275  1.479266  0.062215  0.037464   False"
      ]
     },
     "metadata": {},
     "output_type": "display_data"
    }
   ],
   "source": [
    "# test = pg.anova(data=df, dv='Total', between=['Country',  'Day of Week'])\n",
    "\n",
    "test1 = pg.welch_anova(data=df, dv='Total', between='Country')\n",
    "test2 = pg.welch_anova(data=df, dv='Total', between='Day of Week')\n",
    "test3 = pg.welch_anova(data=df, dv='Total', between='Interaction')\n",
    "test = pd.concat([test1, test2, test3])\n",
    "\n",
    "# test1 = pg.kruskal(data=df, dv='Total', between='Country')\n",
    "# test2 = pg.kruskal(data=df, dv='Total', between='Day of Week')\n",
    "# test3 = pg.kruskal(data=df, dv='Total', between='Interaction')\n",
    "# test = pd.concat([test1, test2, test3])\n",
    "\n",
    "test['Reject'] = test['p-unc'].map(decision)\n",
    "display(test)"
   ]
  },
  {
   "cell_type": "markdown",
   "id": "f6d7b87a-e0bd-4f08-b3af-2d42d9c43136",
   "metadata": {},
   "source": [
    "<p style=\"background-image: linear-gradient(#0aa98f, #ffffff 10%); font-weight:bold;\"> \n",
    "    &nbsp; Post-Hoc Test </p>\n",
    "\n",
    "Since the country variable is the only one showing a significant effect in the analysis, post hoc tests (e.g., Tamhane's T2 or Games-Howell) will be applied solely to the country variable to identify specific group differences. Post hoc testing for other factors is not necessary, as no significant effects were found for those variables."
   ]
  },
  {
   "cell_type": "code",
   "execution_count": 44,
   "id": "83feba38-fa78-4f51-ae86-a7387a08d0a1",
   "metadata": {},
   "outputs": [
    {
     "name": "stdout",
     "output_type": "stream",
     "text": [
      "EIRE & France\tEIRE & Germany\tBelgium & EIRE\n"
     ]
    },
    {
     "data": {
      "text/html": [
       "<div>\n",
       "<style scoped>\n",
       "    .dataframe tbody tr th:only-of-type {\n",
       "        vertical-align: middle;\n",
       "    }\n",
       "\n",
       "    .dataframe tbody tr th {\n",
       "        vertical-align: top;\n",
       "    }\n",
       "\n",
       "    .dataframe thead th {\n",
       "        text-align: right;\n",
       "    }\n",
       "</style>\n",
       "<table border=\"1\" class=\"dataframe\">\n",
       "  <thead>\n",
       "    <tr style=\"text-align: right;\">\n",
       "      <th></th>\n",
       "      <th>A</th>\n",
       "      <th>B</th>\n",
       "      <th>mean(A)</th>\n",
       "      <th>mean(B)</th>\n",
       "      <th>diff</th>\n",
       "      <th>se</th>\n",
       "      <th>T</th>\n",
       "      <th>df</th>\n",
       "      <th>pval</th>\n",
       "      <th>hedges</th>\n",
       "      <th>Reject</th>\n",
       "    </tr>\n",
       "  </thead>\n",
       "  <tbody>\n",
       "    <tr>\n",
       "      <th>0</th>\n",
       "      <td>Belgium</td>\n",
       "      <td>EIRE</td>\n",
       "      <td>263.483587</td>\n",
       "      <td>338.290893</td>\n",
       "      <td>-74.807306</td>\n",
       "      <td>25.107858</td>\n",
       "      <td>-2.979438</td>\n",
       "      <td>245.984094</td>\n",
       "      <td>0.026139</td>\n",
       "      <td>-0.314859</td>\n",
       "      <td>True</td>\n",
       "    </tr>\n",
       "    <tr>\n",
       "      <th>4</th>\n",
       "      <td>EIRE</td>\n",
       "      <td>France</td>\n",
       "      <td>338.290893</td>\n",
       "      <td>272.878616</td>\n",
       "      <td>65.412277</td>\n",
       "      <td>22.287561</td>\n",
       "      <td>2.934923</td>\n",
       "      <td>484.708556</td>\n",
       "      <td>0.028681</td>\n",
       "      <td>0.248611</td>\n",
       "      <td>True</td>\n",
       "    </tr>\n",
       "    <tr>\n",
       "      <th>5</th>\n",
       "      <td>EIRE</td>\n",
       "      <td>Germany</td>\n",
       "      <td>338.290893</td>\n",
       "      <td>253.116779</td>\n",
       "      <td>85.174114</td>\n",
       "      <td>20.587864</td>\n",
       "      <td>4.137103</td>\n",
       "      <td>413.013777</td>\n",
       "      <td>0.000409</td>\n",
       "      <td>0.354721</td>\n",
       "      <td>True</td>\n",
       "    </tr>\n",
       "  </tbody>\n",
       "</table>\n",
       "</div>"
      ],
      "text/plain": [
       "         A        B     mean(A)     mean(B)       diff         se         T  \\\n",
       "0  Belgium     EIRE  263.483587  338.290893 -74.807306  25.107858 -2.979438   \n",
       "4     EIRE   France  338.290893  272.878616  65.412277  22.287561  2.934923   \n",
       "5     EIRE  Germany  338.290893  253.116779  85.174114  20.587864  4.137103   \n",
       "\n",
       "           df      pval    hedges  Reject  \n",
       "0  245.984094  0.026139 -0.314859    True  \n",
       "4  484.708556  0.028681  0.248611    True  \n",
       "5  413.013777  0.000409  0.354721    True  "
      ]
     },
     "metadata": {},
     "output_type": "display_data"
    }
   ],
   "source": [
    "tamhane = sp.posthoc_tamhane(df, val_col='Total', group_col='Country') # 'Day of Week' 'Interaction'\n",
    "tamhane = tamhane.map(decision, method='sign') # ✗\t→ Null Hypothesis Rejected\n",
    "# display(tamhane)\n",
    "print(*get_pairs(tamhane), sep='\\t')\n",
    "\n",
    "games_howell = pg.pairwise_gameshowell(df, dv='Total', between='Country')  # 'Day of Week' 'Interaction'\n",
    "games_howell['Reject'] = games_howell['pval'].map(decision)\n",
    "# display(games_howell)\n",
    "display(games_howell[games_howell['Reject']==True])"
   ]
  },
  {
   "cell_type": "markdown",
   "id": "b10c04c4-9067-4841-814b-c6cc904d6a75",
   "metadata": {},
   "source": [
    "<p style=\"background-image: linear-gradient(#0aa98f, #ffffff 10%); font-weight:bold;\"> \n",
    "    &nbsp; Display of Metrics </p>"
   ]
  },
  {
   "cell_type": "code",
   "execution_count": 45,
   "id": "ca6db8b4-c943-421e-adec-f740211dfda8",
   "metadata": {},
   "outputs": [
    {
     "data": {
      "text/html": [
       "<div>\n",
       "<style scoped>\n",
       "    .dataframe tbody tr th:only-of-type {\n",
       "        vertical-align: middle;\n",
       "    }\n",
       "\n",
       "    .dataframe tbody tr th {\n",
       "        vertical-align: top;\n",
       "    }\n",
       "\n",
       "    .dataframe thead th {\n",
       "        text-align: right;\n",
       "    }\n",
       "</style>\n",
       "<table border=\"1\" class=\"dataframe\">\n",
       "  <thead>\n",
       "    <tr style=\"text-align: right;\">\n",
       "      <th>Country</th>\n",
       "      <th>Belgium</th>\n",
       "      <th>EIRE</th>\n",
       "      <th>France</th>\n",
       "      <th>Germany</th>\n",
       "      <th>Spain</th>\n",
       "    </tr>\n",
       "  </thead>\n",
       "  <tbody>\n",
       "    <tr>\n",
       "      <th>Total</th>\n",
       "      <td>263.483587</td>\n",
       "      <td>338.290893</td>\n",
       "      <td>272.878616</td>\n",
       "      <td>253.116779</td>\n",
       "      <td>308.152625</td>\n",
       "    </tr>\n",
       "  </tbody>\n",
       "</table>\n",
       "</div>"
      ],
      "text/plain": [
       "Country     Belgium        EIRE      France     Germany       Spain\n",
       "Total    263.483587  338.290893  272.878616  253.116779  308.152625"
      ]
     },
     "metadata": {},
     "output_type": "display_data"
    }
   ],
   "source": [
    "display(df.groupby('Country')['Total'].mean().to_frame().T)\n",
    "# display(df.groupby('Day of Week')['Total'].mean().to_frame().T)\n",
    "\n",
    "# temp = df.groupby(['Country', 'Day of Week'])['Total'].mean().to_frame().T\n",
    "# temp = temp.melt().pivot(columns='Day of Week', index='Country', values='value')\n",
    "# display(temp)"
   ]
  },
  {
   "cell_type": "markdown",
   "id": "8c5878e4-086a-4271-9a75-841fe64e4329",
   "metadata": {},
   "source": [
    "<a id='END'></a>\n",
    "<p style=\"background-image: linear-gradient(to right, #0aa98f, #68dab2)\"> &nbsp; </p>"
   ]
  }
 ],
 "metadata": {
  "kernelspec": {
   "display_name": "Python 3 (ipykernel)",
   "language": "python",
   "name": "python3"
  },
  "language_info": {
   "codemirror_mode": {
    "name": "ipython",
    "version": 3
   },
   "file_extension": ".py",
   "mimetype": "text/x-python",
   "name": "python",
   "nbconvert_exporter": "python",
   "pygments_lexer": "ipython3",
   "version": "3.11.10"
  }
 },
 "nbformat": 4,
 "nbformat_minor": 5
}
